{
 "cells": [
  {
   "cell_type": "markdown",
   "metadata": {},
   "source": [
    "# Project Overview\n",
    "\n",
    "This project is meant to highlight how and LSTM (Long Short Term Memory) recurrent neural network can be used in predicting stock prices. There are many different ways to implement predictive analytics into trading and this is just one way to do so. LSTM's are a technical tactic for predicting the stock market based of previous movements. More complex algorithms would also implement fundemental and text analysis, but the technical analysis is accessible for everyone.\n",
    "\n",
    "The problem origin is simple. Predicting the stock market is a popular topic, and strategies for this is mostly comprised of machine learning and artificial intelligence. This prject uses basic stock prices using yfinance to gather the data.\n",
    "\n",
    "## Problem Statement\n",
    "\n",
    "Can an individual use an LSTM to predict the price of a stock 5 days into the future with using technical indicators of the stock and predict with a high enough accuracy to know when to buy or sell a stock?\n",
    "\n",
    "## Metrics for Sucess\n",
    "\n",
    "Metrics for success include low value losses and a low MSE. It is pertinent to keep in mind that since we are trying to predict 5 days into the future, the current price should be removed to get rid of the inherint bias in predicting off a lag function. "
   ]
  },
  {
   "cell_type": "markdown",
   "metadata": {},
   "source": [
    "## ETL for data (extraction)\n",
    "\n",
    "The code below shows an example of how to download stock data using the yfinance python model. This includes a more pythonic example with the creation of classes. "
   ]
  },
  {
   "cell_type": "code",
   "execution_count": 22,
   "metadata": {},
   "outputs": [],
   "source": [
    "# imports needed to run all processes\n",
    "import  yfinance as yf\n",
    "import pandas as pd\n",
    "import matplotlib.pyplot as plt\n",
    "import plotly.graph_objects as go"
   ]
  },
  {
   "cell_type": "code",
   "execution_count": 23,
   "metadata": {},
   "outputs": [],
   "source": [
    "%%capture\n",
    "# This process is used to download and get the name of all tickers needed \n",
    "# used the following we address to dowload the needed csv for manipulation\n",
    "# https://www.nasdaq.com/market-activity/stocks/screener. I downloaded the Finance Tech and Energy Industries\n",
    "nasdaq = pd.read_csv('nasdaq_screener.csv')\n",
    "# change to list of tickers\n",
    "tickers = [i for i in nasdaq['Symbol']]\n",
    "# download first row of data\n",
    "data = yf.download(tickers[0], start=\"2014-01-01\", end=\"2021-01-01\" ,group_by='Ticker')\n",
    "# create row for ticker\n",
    "data['ticker'] = tickers[0]\n",
    "# for loop to append all other rows to initial one\n",
    "for item in tickers[1:]:\n",
    "    try:\n",
    "        dat = yf.download(item, start=\"2014-01-01\", end=\"2021-01-01\" ,group_by='ticker')\n",
    "    except ValueError:\n",
    "        continue\n",
    "    dat['ticker'] = item\n",
    "    if dat.shape[0] == 0:\n",
    "        continue\n",
    "    data  = pd.concat([data, dat])\n",
    "# write to csv\n",
    "data.to_csv('nasdaq.csv') "
   ]
  },
  {
   "cell_type": "markdown",
   "metadata": {},
   "source": [
    "The code above could be implemented in a way to bne more pythonic. To see the pythonic version loo at the etl.py page. For the data preprocessing, two different ways are highlighted. The first way uses apache spark while the second uses sklearn. Spark is fastuer due to the Distributed file system so it is recomended. However, the LSTM is ran not available in the Hadoop machine learning system to the sklearn version is also highlighted. \n",
    "\n",
    "The code below preprocess the data by first initializing a spark instance, reading the CSV created in the extraction process, foreward fills the data that is missing, and adds 7 day, 20 day, and daily return and Bollinger Bands."
   ]
  },
  {
   "cell_type": "code",
   "execution_count": 24,
   "metadata": {},
   "outputs": [],
   "source": [
    "#!/usr/bin/env python3\n",
    "# -*- coding: utf-8 -*-\n",
    "\"\"\"\n",
    "Created on Tue Jan 19 14:46:53 2021\n",
    "\n",
    "@author: akniels1\n",
    "\"\"\"\n",
    "import findspark\n",
    "from pyspark import SparkContext\n",
    "from pyspark.sql import SparkSession\n",
    "from pyspark.sql.functions import udf\n",
    "from pyspark.sql.types import StringType\n",
    "from pyspark.sql.types import IntegerType\n",
    "from pyspark.sql.functions import desc, stddev_samp, stddev_pop, lag, lead\n",
    "from pyspark.sql.functions import asc, col,avg, last\n",
    "from pyspark.sql.functions import sum as Fsum\n",
    "import pandas as pd\n",
    "from pyspark.sql.window import Window\n",
    "import sys\n",
    "\n",
    "\n",
    "## Initialize a class for the fin_dataet\n",
    "class fin_data:\n",
    "    \"\"\"\n",
    "    Class for processing data in spark This is utilized to process financial data in spark\n",
    "    \n",
    "    \"\"\"\n",
    "    def __init__(self, list_of_csv = [\"nasdaq.csv\"] ):\n",
    "        self._list_of_csv = list_of_csv\n",
    "    \n",
    "## initialize spark\n",
    "    def initspark(self):\n",
    "        \"\"\"\n",
    "        No Inputs\n",
    "        \n",
    "        Output - spark session called spark\n",
    "        \n",
    "        Creates a spark session called spark that can be utilized in the other processes. This function \n",
    "        must be initialized for other functions to work\n",
    "        \n",
    "        \"\"\"\n",
    "        spark = SparkSession \\\n",
    "            .builder \\\n",
    "            .appName(\"Python Fin Data\") \\\n",
    "            .config(\"local\") \\\n",
    "            .getOrCreate()\n",
    "        return spark\n",
    "## Read data from csv to spark dataframes         \n",
    "    def read_csv_to_spark(self, spark):\n",
    "        \"\"\"\n",
    "        No inputs\n",
    "        \n",
    "        Output - List or spark dataframes, name of spark tables. \n",
    "        \n",
    "        creates a list of spark dataframes and names to be used in other functions \n",
    "        \"\"\"\n",
    "        list_of_spark =  []\n",
    "        names_of_tables = []\n",
    "        for item in self._list_of_csv:\n",
    "            names_of_tables.append(str(item[:-4]))\n",
    "            app =  spark.read.format(\"csv\").option(\"header\", \"true\").load(item)\n",
    "            list_of_spark.append( app )\n",
    "        return list_of_spark, names_of_tables\n",
    "    \n",
    "## union the data together\n",
    "    \n",
    "    def Spark_union(self,sprk_list, table_names, spark):\n",
    "        \"\"\"\n",
    "        Input -  list of spark dataframes, list_of_names\n",
    "        \n",
    "        Output - unioned table\n",
    "        \n",
    "        unions tables together \n",
    "        \n",
    "        \"\"\"\n",
    "        spark_string = ''\n",
    "        for i in range(len(sprk_list)):\n",
    "            sprk_list[i].createOrReplaceTempView(table_names[i])\n",
    "            if i == (len(sprk_list)-1):\n",
    "                spark_string += 'Select * from '+ table_names[i]\n",
    "            else:\n",
    "                spark_string +='Select * from '+ table_names[i]+ ' Union All '\n",
    "        \n",
    "        union_all = spark.sql(spark_string)\n",
    "        return union_all\n",
    " ## fron fill the data and remove any NAN values   \n",
    "    def ffill_and_remove(self, sparktable):\n",
    "        # define the window\n",
    "        window = Window.partitionBy('ticker')\\\n",
    "                       .orderBy('Date')\\\n",
    "                       .rowsBetween(-sys.maxsize, 0)\n",
    "\n",
    "        # define the forward-filled column\n",
    "        clean_open = last(sparktable['Open'], ignorenulls=True).over(window)\n",
    "        clean_high = last(sparktable['High'], ignorenulls=True).over(window)\n",
    "        clean_low = last(sparktable['Low'], ignorenulls=True).over(window)\n",
    "        clean_close = last(sparktable['Close'], ignorenulls=True).over(window)\n",
    "        clean_adj_close = last(sparktable['Adj Close'], ignorenulls=True).over(window)\n",
    "        clean_volume = last(sparktable['Volume'], ignorenulls=True).over(window)\n",
    "\n",
    "        # do the fill\n",
    "        spark_df_filled = sparktable.withColumn('Open', clean_open)\n",
    "        spark_df_filled = spark_df_filled.withColumn('High', clean_high)\n",
    "        spark_df_filled = spark_df_filled.withColumn('Low', clean_low)\n",
    "        spark_df_filled = spark_df_filled.withColumn('Close', clean_close)\n",
    "        spark_df_filled = spark_df_filled.withColumn('Adj Close', clean_adj_close)\n",
    "        spark_df_filled = spark_df_filled.withColumn('Volume', clean_volume)\n",
    "\n",
    "        #remove items that are blank (beforestock inception)\n",
    "        spark_df_filled.na.drop('any')\n",
    "\n",
    "        \n",
    "        return spark_df_filled\n",
    "\n",
    "\n",
    "\n",
    "\n",
    "        \n",
    "    \n",
    "    def add_additional_fields(self,table):\n",
    "        days = lambda i: i * 86400\n",
    "\n",
    "        \n",
    "        windowSpec = Window.partitionBy(\"ticker\").orderBy(col(\"Date\").cast('long')).rowsBetween(-7, 0)\n",
    "        \n",
    "        windowSpec20 = Window.partitionBy(\"ticker\").orderBy(col(\"Date\").cast('long')).rowsBetween(-20, 0)\n",
    "        \n",
    "        date_spec = Window.partitionBy(\"ticker\").orderBy(\"Date\")\n",
    "        \n",
    "        \n",
    "        \n",
    "        \n",
    "        \n",
    "        union_table = table.withColumn('rolling_seven_day_average', avg(\"Close\").over(windowSpec)) \n",
    "        \n",
    "        union_table = union_table.withColumn('rolling_20_day_average', avg(\"Close\").over(windowSpec20)) \n",
    "        \n",
    "        union_table = union_table.withColumn('Prev Close', lag(\"Close\").over(date_spec))\n",
    "        \n",
    "        union_table = union_table.withColumn('Lead 5 Close', lag(col(\"Close\"), 5).over(date_spec))\n",
    "\n",
    "\n",
    "        \n",
    "        union_table = union_table.withColumn('DailyReturn',  (union_table['Close'] - union_table['Prev Close'])/ \n",
    "union_table['Close'] )\n",
    "\n",
    "\n",
    "        \n",
    "        union_table = union_table.withColumn('stdev', stddev_pop(\"Close\").over(windowSpec20))\n",
    "        \n",
    "        union_table = union_table.withColumn('Upper', union_table['rolling_20_day_average'] + (union_table['stdev']*2) )\n",
    "        \n",
    "        union_table = union_table.withColumn('Lower', union_table['rolling_20_day_average'] - (union_table['stdev']*2) )\n",
    "        \n",
    "        return union_table\n",
    "    \n",
    "    def get_distinct_tickers(self, sparkframe):\n",
    "         \n",
    "        \n",
    "        return [i.ticker for i in sparkframe.select('ticker').distinct().collect()]\n",
    "        \n",
    "\n",
    "fin = fin_data()    \n",
    "spark = fin.initspark()   \n",
    "list_spark , table_name = fin.read_csv_to_spark(spark)\n",
    "union_all = fin.Spark_union(list_spark, table_name,spark)\n",
    "clean_data = fin.ffill_and_remove(union_all)\n",
    "final_dataset = fin.add_additional_fields(clean_data)\n",
    "distinct_tickers = fin.get_distinct_tickers(final_dataset)"
   ]
  },
  {
   "cell_type": "code",
   "execution_count": 25,
   "metadata": {},
   "outputs": [
    {
     "data": {
      "text/plain": [
       "DataFrame[Date: string, Open: string, High: string, Low: string, Close: string, Adj Close: string, Volume: string, ticker: string, rolling_seven_day_average: double, rolling_20_day_average: double, Prev Close: string, Lead 5 Close: string, DailyReturn: double, stdev: double, Upper: double, Lower: double]"
      ]
     },
     "metadata": {},
     "output_type": "display_data"
    }
   ],
   "source": [
    "display(final_dataset)"
   ]
  },
  {
   "cell_type": "markdown",
   "metadata": {},
   "source": [
    "## Data Exploration and Visualization\n",
    "\n",
    "The code below creates a sql view of the dataset to make it easier for filtering. To visualize the data, the rows are limited to 1 stock and for a specific time period. The visulations following look at the trends for a short period time, and then add the bollinger 20 day bands. AIG data is extracted and the daily returns of both are compared. "
   ]
  },
  {
   "cell_type": "code",
   "execution_count": 26,
   "metadata": {},
   "outputs": [],
   "source": [
    "## create sql view\n",
    "final_dataset.createOrReplaceTempView('stocks')\n"
   ]
  },
  {
   "cell_type": "code",
   "execution_count": 27,
   "metadata": {},
   "outputs": [
    {
     "data": {
      "text/html": [
       "<div>\n",
       "<style scoped>\n",
       "    .dataframe tbody tr th:only-of-type {\n",
       "        vertical-align: middle;\n",
       "    }\n",
       "\n",
       "    .dataframe tbody tr th {\n",
       "        vertical-align: top;\n",
       "    }\n",
       "\n",
       "    .dataframe thead th {\n",
       "        text-align: right;\n",
       "    }\n",
       "</style>\n",
       "<table border=\"1\" class=\"dataframe\">\n",
       "  <thead>\n",
       "    <tr style=\"text-align: right;\">\n",
       "      <th></th>\n",
       "      <th>Date</th>\n",
       "      <th>Open</th>\n",
       "      <th>High</th>\n",
       "      <th>Low</th>\n",
       "      <th>Close</th>\n",
       "      <th>Adj Close</th>\n",
       "      <th>Volume</th>\n",
       "      <th>ticker</th>\n",
       "      <th>rolling_seven_day_average</th>\n",
       "      <th>rolling_20_day_average</th>\n",
       "      <th>Prev Close</th>\n",
       "      <th>Lead 5 Close</th>\n",
       "      <th>DailyReturn</th>\n",
       "      <th>stdev</th>\n",
       "      <th>Upper</th>\n",
       "      <th>Lower</th>\n",
       "    </tr>\n",
       "  </thead>\n",
       "  <tbody>\n",
       "    <tr>\n",
       "      <th>0</th>\n",
       "      <td>2020-12-01</td>\n",
       "      <td>50.029998779296875</td>\n",
       "      <td>50.150001525878906</td>\n",
       "      <td>49.06999969482422</td>\n",
       "      <td>49.619998931884766</td>\n",
       "      <td>49.619998931884766</td>\n",
       "      <td>2550900.0</td>\n",
       "      <td>PFG</td>\n",
       "      <td>50.497500</td>\n",
       "      <td>47.105238</td>\n",
       "      <td>49.790000915527344</td>\n",
       "      <td>50.63999938964844</td>\n",
       "      <td>-0.003426</td>\n",
       "      <td>3.686012</td>\n",
       "      <td>54.477262</td>\n",
       "      <td>39.733214</td>\n",
       "    </tr>\n",
       "    <tr>\n",
       "      <th>1</th>\n",
       "      <td>2020-12-02</td>\n",
       "      <td>49.290000915527344</td>\n",
       "      <td>51.09000015258789</td>\n",
       "      <td>49.08000183105469</td>\n",
       "      <td>50.86000061035156</td>\n",
       "      <td>50.86000061035156</td>\n",
       "      <td>1398000.0</td>\n",
       "      <td>PFG</td>\n",
       "      <td>50.738750</td>\n",
       "      <td>47.636191</td>\n",
       "      <td>49.619998931884766</td>\n",
       "      <td>52.599998474121094</td>\n",
       "      <td>0.024381</td>\n",
       "      <td>3.372218</td>\n",
       "      <td>54.380626</td>\n",
       "      <td>40.891755</td>\n",
       "    </tr>\n",
       "    <tr>\n",
       "      <th>2</th>\n",
       "      <td>2020-12-03</td>\n",
       "      <td>50.540000915527344</td>\n",
       "      <td>51.84000015258789</td>\n",
       "      <td>50.540000915527344</td>\n",
       "      <td>51.36000061035156</td>\n",
       "      <td>51.36000061035156</td>\n",
       "      <td>1374900.0</td>\n",
       "      <td>PFG</td>\n",
       "      <td>51.033750</td>\n",
       "      <td>48.091429</td>\n",
       "      <td>50.86000061035156</td>\n",
       "      <td>52.0</td>\n",
       "      <td>0.009735</td>\n",
       "      <td>3.194210</td>\n",
       "      <td>54.479848</td>\n",
       "      <td>41.703009</td>\n",
       "    </tr>\n",
       "    <tr>\n",
       "      <th>3</th>\n",
       "      <td>2020-12-04</td>\n",
       "      <td>51.91999816894531</td>\n",
       "      <td>52.70000076293945</td>\n",
       "      <td>51.849998474121094</td>\n",
       "      <td>52.279998779296875</td>\n",
       "      <td>52.279998779296875</td>\n",
       "      <td>1111400.0</td>\n",
       "      <td>PFG</td>\n",
       "      <td>51.238750</td>\n",
       "      <td>48.594286</td>\n",
       "      <td>51.36000061035156</td>\n",
       "      <td>51.400001525878906</td>\n",
       "      <td>0.017598</td>\n",
       "      <td>2.975306</td>\n",
       "      <td>54.544897</td>\n",
       "      <td>42.643674</td>\n",
       "    </tr>\n",
       "    <tr>\n",
       "      <th>4</th>\n",
       "      <td>2020-12-07</td>\n",
       "      <td>51.650001525878906</td>\n",
       "      <td>51.70000076293945</td>\n",
       "      <td>50.34000015258789</td>\n",
       "      <td>50.709999084472656</td>\n",
       "      <td>50.709999084472656</td>\n",
       "      <td>1377600.0</td>\n",
       "      <td>PFG</td>\n",
       "      <td>51.002500</td>\n",
       "      <td>48.960952</td>\n",
       "      <td>52.279998779296875</td>\n",
       "      <td>49.790000915527344</td>\n",
       "      <td>-0.030960</td>\n",
       "      <td>2.728771</td>\n",
       "      <td>54.418494</td>\n",
       "      <td>43.503411</td>\n",
       "    </tr>\n",
       "    <tr>\n",
       "      <th>5</th>\n",
       "      <td>2020-12-08</td>\n",
       "      <td>50.040000915527344</td>\n",
       "      <td>51.06999969482422</td>\n",
       "      <td>50.040000915527344</td>\n",
       "      <td>50.77000045776367</td>\n",
       "      <td>50.77000045776367</td>\n",
       "      <td>1444800.0</td>\n",
       "      <td>PFG</td>\n",
       "      <td>50.848750</td>\n",
       "      <td>49.408572</td>\n",
       "      <td>50.709999084472656</td>\n",
       "      <td>49.619998931884766</td>\n",
       "      <td>0.001182</td>\n",
       "      <td>2.158179</td>\n",
       "      <td>53.724929</td>\n",
       "      <td>45.092214</td>\n",
       "    </tr>\n",
       "    <tr>\n",
       "      <th>6</th>\n",
       "      <td>2020-12-09</td>\n",
       "      <td>51.189998626708984</td>\n",
       "      <td>51.369998931884766</td>\n",
       "      <td>50.0099983215332</td>\n",
       "      <td>50.04999923706055</td>\n",
       "      <td>50.04999923706055</td>\n",
       "      <td>1764600.0</td>\n",
       "      <td>PFG</td>\n",
       "      <td>50.680000</td>\n",
       "      <td>49.523333</td>\n",
       "      <td>50.77000045776367</td>\n",
       "      <td>50.86000061035156</td>\n",
       "      <td>-0.014386</td>\n",
       "      <td>2.124903</td>\n",
       "      <td>53.773139</td>\n",
       "      <td>45.273528</td>\n",
       "    </tr>\n",
       "    <tr>\n",
       "      <th>7</th>\n",
       "      <td>2020-12-10</td>\n",
       "      <td>49.119998931884766</td>\n",
       "      <td>50.06999969482422</td>\n",
       "      <td>49.0</td>\n",
       "      <td>49.81999969482422</td>\n",
       "      <td>49.81999969482422</td>\n",
       "      <td>1848500.0</td>\n",
       "      <td>PFG</td>\n",
       "      <td>50.683750</td>\n",
       "      <td>49.646190</td>\n",
       "      <td>50.04999923706055</td>\n",
       "      <td>51.36000061035156</td>\n",
       "      <td>-0.004617</td>\n",
       "      <td>2.063018</td>\n",
       "      <td>53.772226</td>\n",
       "      <td>45.520155</td>\n",
       "    </tr>\n",
       "    <tr>\n",
       "      <th>8</th>\n",
       "      <td>2020-12-11</td>\n",
       "      <td>48.7599983215332</td>\n",
       "      <td>49.529998779296875</td>\n",
       "      <td>48.369998931884766</td>\n",
       "      <td>48.77000045776367</td>\n",
       "      <td>48.77000045776367</td>\n",
       "      <td>1485100.0</td>\n",
       "      <td>PFG</td>\n",
       "      <td>50.577500</td>\n",
       "      <td>49.799524</td>\n",
       "      <td>49.81999969482422</td>\n",
       "      <td>52.279998779296875</td>\n",
       "      <td>-0.021530</td>\n",
       "      <td>1.862820</td>\n",
       "      <td>53.525164</td>\n",
       "      <td>46.073883</td>\n",
       "    </tr>\n",
       "    <tr>\n",
       "      <th>9</th>\n",
       "      <td>2020-12-14</td>\n",
       "      <td>49.689998626708984</td>\n",
       "      <td>49.97999954223633</td>\n",
       "      <td>47.599998474121094</td>\n",
       "      <td>47.81999969482422</td>\n",
       "      <td>47.81999969482422</td>\n",
       "      <td>2074700.0</td>\n",
       "      <td>PFG</td>\n",
       "      <td>50.197500</td>\n",
       "      <td>49.953333</td>\n",
       "      <td>48.77000045776367</td>\n",
       "      <td>50.709999084472656</td>\n",
       "      <td>-0.019866</td>\n",
       "      <td>1.529934</td>\n",
       "      <td>53.013201</td>\n",
       "      <td>46.893465</td>\n",
       "    </tr>\n",
       "    <tr>\n",
       "      <th>10</th>\n",
       "      <td>2020-12-15</td>\n",
       "      <td>48.400001525878906</td>\n",
       "      <td>48.70000076293945</td>\n",
       "      <td>47.75</td>\n",
       "      <td>48.34000015258789</td>\n",
       "      <td>48.34000015258789</td>\n",
       "      <td>1652700.0</td>\n",
       "      <td>PFG</td>\n",
       "      <td>49.820000</td>\n",
       "      <td>50.050476</td>\n",
       "      <td>47.81999969482422</td>\n",
       "      <td>50.77000045776367</td>\n",
       "      <td>0.010757</td>\n",
       "      <td>1.348941</td>\n",
       "      <td>52.748358</td>\n",
       "      <td>47.352594</td>\n",
       "    </tr>\n",
       "    <tr>\n",
       "      <th>11</th>\n",
       "      <td>2020-12-16</td>\n",
       "      <td>48.27000045776367</td>\n",
       "      <td>48.43000030517578</td>\n",
       "      <td>47.459999084472656</td>\n",
       "      <td>48.220001220703125</td>\n",
       "      <td>48.220001220703125</td>\n",
       "      <td>1558900.0</td>\n",
       "      <td>PFG</td>\n",
       "      <td>49.312500</td>\n",
       "      <td>50.045714</td>\n",
       "      <td>48.34000015258789</td>\n",
       "      <td>50.04999923706055</td>\n",
       "      <td>-0.002489</td>\n",
       "      <td>1.355203</td>\n",
       "      <td>52.756121</td>\n",
       "      <td>47.335308</td>\n",
       "    </tr>\n",
       "    <tr>\n",
       "      <th>12</th>\n",
       "      <td>2020-12-17</td>\n",
       "      <td>48.52000045776367</td>\n",
       "      <td>48.59000015258789</td>\n",
       "      <td>47.709999084472656</td>\n",
       "      <td>48.400001525878906</td>\n",
       "      <td>48.400001525878906</td>\n",
       "      <td>1617900.0</td>\n",
       "      <td>PFG</td>\n",
       "      <td>49.023750</td>\n",
       "      <td>50.017619</td>\n",
       "      <td>48.220001220703125</td>\n",
       "      <td>49.81999969482422</td>\n",
       "      <td>0.003719</td>\n",
       "      <td>1.382637</td>\n",
       "      <td>52.782892</td>\n",
       "      <td>47.252346</td>\n",
       "    </tr>\n",
       "    <tr>\n",
       "      <th>13</th>\n",
       "      <td>2020-12-18</td>\n",
       "      <td>48.2400016784668</td>\n",
       "      <td>48.83000183105469</td>\n",
       "      <td>47.369998931884766</td>\n",
       "      <td>47.95000076293945</td>\n",
       "      <td>47.95000076293945</td>\n",
       "      <td>4847900.0</td>\n",
       "      <td>PFG</td>\n",
       "      <td>48.671250</td>\n",
       "      <td>49.968095</td>\n",
       "      <td>48.400001525878906</td>\n",
       "      <td>48.77000045776367</td>\n",
       "      <td>-0.009385</td>\n",
       "      <td>1.436147</td>\n",
       "      <td>52.840390</td>\n",
       "      <td>47.095801</td>\n",
       "    </tr>\n",
       "    <tr>\n",
       "      <th>14</th>\n",
       "      <td>2020-12-21</td>\n",
       "      <td>48.189998626708984</td>\n",
       "      <td>48.189998626708984</td>\n",
       "      <td>46.810001373291016</td>\n",
       "      <td>47.5</td>\n",
       "      <td>47.5</td>\n",
       "      <td>1674200.0</td>\n",
       "      <td>PFG</td>\n",
       "      <td>48.352500</td>\n",
       "      <td>49.900000</td>\n",
       "      <td>47.95000076293945</td>\n",
       "      <td>47.81999969482422</td>\n",
       "      <td>-0.009474</td>\n",
       "      <td>1.515466</td>\n",
       "      <td>52.930932</td>\n",
       "      <td>46.869068</td>\n",
       "    </tr>\n",
       "    <tr>\n",
       "      <th>15</th>\n",
       "      <td>2020-12-22</td>\n",
       "      <td>47.47999954223633</td>\n",
       "      <td>48.11000061035156</td>\n",
       "      <td>47.31999969482422</td>\n",
       "      <td>47.400001525878906</td>\n",
       "      <td>47.400001525878906</td>\n",
       "      <td>1486800.0</td>\n",
       "      <td>PFG</td>\n",
       "      <td>48.050001</td>\n",
       "      <td>49.823810</td>\n",
       "      <td>47.5</td>\n",
       "      <td>48.34000015258789</td>\n",
       "      <td>-0.002110</td>\n",
       "      <td>1.596834</td>\n",
       "      <td>53.017478</td>\n",
       "      <td>46.630141</td>\n",
       "    </tr>\n",
       "    <tr>\n",
       "      <th>16</th>\n",
       "      <td>2020-12-23</td>\n",
       "      <td>47.90999984741211</td>\n",
       "      <td>48.95000076293945</td>\n",
       "      <td>47.88999938964844</td>\n",
       "      <td>48.540000915527344</td>\n",
       "      <td>48.540000915527344</td>\n",
       "      <td>914500.0</td>\n",
       "      <td>PFG</td>\n",
       "      <td>48.021251</td>\n",
       "      <td>49.723810</td>\n",
       "      <td>47.400001525878906</td>\n",
       "      <td>48.220001220703125</td>\n",
       "      <td>0.023486</td>\n",
       "      <td>1.608304</td>\n",
       "      <td>52.940417</td>\n",
       "      <td>46.507202</td>\n",
       "    </tr>\n",
       "    <tr>\n",
       "      <th>17</th>\n",
       "      <td>2020-12-24</td>\n",
       "      <td>48.599998474121094</td>\n",
       "      <td>48.84000015258789</td>\n",
       "      <td>47.849998474121094</td>\n",
       "      <td>48.47999954223633</td>\n",
       "      <td>48.47999954223633</td>\n",
       "      <td>415300.0</td>\n",
       "      <td>PFG</td>\n",
       "      <td>48.103751</td>\n",
       "      <td>49.527619</td>\n",
       "      <td>48.540000915527344</td>\n",
       "      <td>48.400001525878906</td>\n",
       "      <td>-0.001238</td>\n",
       "      <td>1.492613</td>\n",
       "      <td>52.512845</td>\n",
       "      <td>46.542393</td>\n",
       "    </tr>\n",
       "    <tr>\n",
       "      <th>18</th>\n",
       "      <td>2020-12-28</td>\n",
       "      <td>48.66999816894531</td>\n",
       "      <td>49.58000183105469</td>\n",
       "      <td>48.599998474121094</td>\n",
       "      <td>48.68000030517578</td>\n",
       "      <td>48.68000030517578</td>\n",
       "      <td>676500.0</td>\n",
       "      <td>PFG</td>\n",
       "      <td>48.146251</td>\n",
       "      <td>49.369524</td>\n",
       "      <td>48.47999954223633</td>\n",
       "      <td>47.95000076293945</td>\n",
       "      <td>0.004108</td>\n",
       "      <td>1.395003</td>\n",
       "      <td>52.159529</td>\n",
       "      <td>46.579519</td>\n",
       "    </tr>\n",
       "    <tr>\n",
       "      <th>19</th>\n",
       "      <td>2020-12-29</td>\n",
       "      <td>49.040000915527344</td>\n",
       "      <td>49.25</td>\n",
       "      <td>48.33000183105469</td>\n",
       "      <td>48.38999938964844</td>\n",
       "      <td>48.38999938964844</td>\n",
       "      <td>926100.0</td>\n",
       "      <td>PFG</td>\n",
       "      <td>48.167500</td>\n",
       "      <td>49.226191</td>\n",
       "      <td>48.68000030517578</td>\n",
       "      <td>47.5</td>\n",
       "      <td>-0.005993</td>\n",
       "      <td>1.332235</td>\n",
       "      <td>51.890662</td>\n",
       "      <td>46.561720</td>\n",
       "    </tr>\n",
       "    <tr>\n",
       "      <th>20</th>\n",
       "      <td>2020-12-30</td>\n",
       "      <td>48.45000076293945</td>\n",
       "      <td>49.220001220703125</td>\n",
       "      <td>48.40999984741211</td>\n",
       "      <td>48.779998779296875</td>\n",
       "      <td>48.779998779296875</td>\n",
       "      <td>668900.0</td>\n",
       "      <td>PFG</td>\n",
       "      <td>48.215000</td>\n",
       "      <td>49.178095</td>\n",
       "      <td>48.38999938964844</td>\n",
       "      <td>47.400001525878906</td>\n",
       "      <td>0.007995</td>\n",
       "      <td>1.329241</td>\n",
       "      <td>51.836577</td>\n",
       "      <td>46.519614</td>\n",
       "    </tr>\n",
       "    <tr>\n",
       "      <th>21</th>\n",
       "      <td>2020-12-31</td>\n",
       "      <td>48.599998474121094</td>\n",
       "      <td>49.66999816894531</td>\n",
       "      <td>48.5099983215332</td>\n",
       "      <td>49.61000061035156</td>\n",
       "      <td>49.61000061035156</td>\n",
       "      <td>928300.0</td>\n",
       "      <td>PFG</td>\n",
       "      <td>48.422500</td>\n",
       "      <td>49.177619</td>\n",
       "      <td>48.779998779296875</td>\n",
       "      <td>48.540000915527344</td>\n",
       "      <td>0.016731</td>\n",
       "      <td>1.329084</td>\n",
       "      <td>51.835788</td>\n",
       "      <td>46.519451</td>\n",
       "    </tr>\n",
       "  </tbody>\n",
       "</table>\n",
       "</div>"
      ],
      "text/plain": [
       "          Date                Open                High                 Low  \\\n",
       "0   2020-12-01  50.029998779296875  50.150001525878906   49.06999969482422   \n",
       "1   2020-12-02  49.290000915527344   51.09000015258789   49.08000183105469   \n",
       "2   2020-12-03  50.540000915527344   51.84000015258789  50.540000915527344   \n",
       "3   2020-12-04   51.91999816894531   52.70000076293945  51.849998474121094   \n",
       "4   2020-12-07  51.650001525878906   51.70000076293945   50.34000015258789   \n",
       "5   2020-12-08  50.040000915527344   51.06999969482422  50.040000915527344   \n",
       "6   2020-12-09  51.189998626708984  51.369998931884766    50.0099983215332   \n",
       "7   2020-12-10  49.119998931884766   50.06999969482422                49.0   \n",
       "8   2020-12-11    48.7599983215332  49.529998779296875  48.369998931884766   \n",
       "9   2020-12-14  49.689998626708984   49.97999954223633  47.599998474121094   \n",
       "10  2020-12-15  48.400001525878906   48.70000076293945               47.75   \n",
       "11  2020-12-16   48.27000045776367   48.43000030517578  47.459999084472656   \n",
       "12  2020-12-17   48.52000045776367   48.59000015258789  47.709999084472656   \n",
       "13  2020-12-18    48.2400016784668   48.83000183105469  47.369998931884766   \n",
       "14  2020-12-21  48.189998626708984  48.189998626708984  46.810001373291016   \n",
       "15  2020-12-22   47.47999954223633   48.11000061035156   47.31999969482422   \n",
       "16  2020-12-23   47.90999984741211   48.95000076293945   47.88999938964844   \n",
       "17  2020-12-24  48.599998474121094   48.84000015258789  47.849998474121094   \n",
       "18  2020-12-28   48.66999816894531   49.58000183105469  48.599998474121094   \n",
       "19  2020-12-29  49.040000915527344               49.25   48.33000183105469   \n",
       "20  2020-12-30   48.45000076293945  49.220001220703125   48.40999984741211   \n",
       "21  2020-12-31  48.599998474121094   49.66999816894531    48.5099983215332   \n",
       "\n",
       "                 Close           Adj Close     Volume ticker  \\\n",
       "0   49.619998931884766  49.619998931884766  2550900.0    PFG   \n",
       "1    50.86000061035156   50.86000061035156  1398000.0    PFG   \n",
       "2    51.36000061035156   51.36000061035156  1374900.0    PFG   \n",
       "3   52.279998779296875  52.279998779296875  1111400.0    PFG   \n",
       "4   50.709999084472656  50.709999084472656  1377600.0    PFG   \n",
       "5    50.77000045776367   50.77000045776367  1444800.0    PFG   \n",
       "6    50.04999923706055   50.04999923706055  1764600.0    PFG   \n",
       "7    49.81999969482422   49.81999969482422  1848500.0    PFG   \n",
       "8    48.77000045776367   48.77000045776367  1485100.0    PFG   \n",
       "9    47.81999969482422   47.81999969482422  2074700.0    PFG   \n",
       "10   48.34000015258789   48.34000015258789  1652700.0    PFG   \n",
       "11  48.220001220703125  48.220001220703125  1558900.0    PFG   \n",
       "12  48.400001525878906  48.400001525878906  1617900.0    PFG   \n",
       "13   47.95000076293945   47.95000076293945  4847900.0    PFG   \n",
       "14                47.5                47.5  1674200.0    PFG   \n",
       "15  47.400001525878906  47.400001525878906  1486800.0    PFG   \n",
       "16  48.540000915527344  48.540000915527344   914500.0    PFG   \n",
       "17   48.47999954223633   48.47999954223633   415300.0    PFG   \n",
       "18   48.68000030517578   48.68000030517578   676500.0    PFG   \n",
       "19   48.38999938964844   48.38999938964844   926100.0    PFG   \n",
       "20  48.779998779296875  48.779998779296875   668900.0    PFG   \n",
       "21   49.61000061035156   49.61000061035156   928300.0    PFG   \n",
       "\n",
       "    rolling_seven_day_average  rolling_20_day_average          Prev Close  \\\n",
       "0                   50.497500               47.105238  49.790000915527344   \n",
       "1                   50.738750               47.636191  49.619998931884766   \n",
       "2                   51.033750               48.091429   50.86000061035156   \n",
       "3                   51.238750               48.594286   51.36000061035156   \n",
       "4                   51.002500               48.960952  52.279998779296875   \n",
       "5                   50.848750               49.408572  50.709999084472656   \n",
       "6                   50.680000               49.523333   50.77000045776367   \n",
       "7                   50.683750               49.646190   50.04999923706055   \n",
       "8                   50.577500               49.799524   49.81999969482422   \n",
       "9                   50.197500               49.953333   48.77000045776367   \n",
       "10                  49.820000               50.050476   47.81999969482422   \n",
       "11                  49.312500               50.045714   48.34000015258789   \n",
       "12                  49.023750               50.017619  48.220001220703125   \n",
       "13                  48.671250               49.968095  48.400001525878906   \n",
       "14                  48.352500               49.900000   47.95000076293945   \n",
       "15                  48.050001               49.823810                47.5   \n",
       "16                  48.021251               49.723810  47.400001525878906   \n",
       "17                  48.103751               49.527619  48.540000915527344   \n",
       "18                  48.146251               49.369524   48.47999954223633   \n",
       "19                  48.167500               49.226191   48.68000030517578   \n",
       "20                  48.215000               49.178095   48.38999938964844   \n",
       "21                  48.422500               49.177619  48.779998779296875   \n",
       "\n",
       "          Lead 5 Close  DailyReturn     stdev      Upper      Lower  \n",
       "0    50.63999938964844    -0.003426  3.686012  54.477262  39.733214  \n",
       "1   52.599998474121094     0.024381  3.372218  54.380626  40.891755  \n",
       "2                 52.0     0.009735  3.194210  54.479848  41.703009  \n",
       "3   51.400001525878906     0.017598  2.975306  54.544897  42.643674  \n",
       "4   49.790000915527344    -0.030960  2.728771  54.418494  43.503411  \n",
       "5   49.619998931884766     0.001182  2.158179  53.724929  45.092214  \n",
       "6    50.86000061035156    -0.014386  2.124903  53.773139  45.273528  \n",
       "7    51.36000061035156    -0.004617  2.063018  53.772226  45.520155  \n",
       "8   52.279998779296875    -0.021530  1.862820  53.525164  46.073883  \n",
       "9   50.709999084472656    -0.019866  1.529934  53.013201  46.893465  \n",
       "10   50.77000045776367     0.010757  1.348941  52.748358  47.352594  \n",
       "11   50.04999923706055    -0.002489  1.355203  52.756121  47.335308  \n",
       "12   49.81999969482422     0.003719  1.382637  52.782892  47.252346  \n",
       "13   48.77000045776367    -0.009385  1.436147  52.840390  47.095801  \n",
       "14   47.81999969482422    -0.009474  1.515466  52.930932  46.869068  \n",
       "15   48.34000015258789    -0.002110  1.596834  53.017478  46.630141  \n",
       "16  48.220001220703125     0.023486  1.608304  52.940417  46.507202  \n",
       "17  48.400001525878906    -0.001238  1.492613  52.512845  46.542393  \n",
       "18   47.95000076293945     0.004108  1.395003  52.159529  46.579519  \n",
       "19                47.5    -0.005993  1.332235  51.890662  46.561720  \n",
       "20  47.400001525878906     0.007995  1.329241  51.836577  46.519614  \n",
       "21  48.540000915527344     0.016731  1.329084  51.835788  46.519451  "
      ]
     },
     "execution_count": 27,
     "metadata": {},
     "output_type": "execute_result"
    }
   ],
   "source": [
    "## limit to PFG data\n",
    "PFG = spark.sql(\"Select * from stocks where ticker = 'PFG' and date >= '2020-12-01'\")\n",
    "PFG = PFG.toPandas()\n",
    "PFG"
   ]
  },
  {
   "cell_type": "code",
   "execution_count": 28,
   "metadata": {},
   "outputs": [
    {
     "data": {
      "application/vnd.plotly.v1+json": {
       "config": {
        "plotlyServerURL": "https://plot.ly"
       },
       "data": [
        {
         "mode": "lines",
         "name": "Close",
         "type": "scatter",
         "x": [
          "2020-12-01",
          "2020-12-02",
          "2020-12-03",
          "2020-12-04",
          "2020-12-07",
          "2020-12-08",
          "2020-12-09",
          "2020-12-10",
          "2020-12-11",
          "2020-12-14",
          "2020-12-15",
          "2020-12-16",
          "2020-12-17",
          "2020-12-18",
          "2020-12-21",
          "2020-12-22",
          "2020-12-23",
          "2020-12-24",
          "2020-12-28",
          "2020-12-29",
          "2020-12-30",
          "2020-12-31"
         ],
         "y": [
          "49.619998931884766",
          "50.86000061035156",
          "51.36000061035156",
          "52.279998779296875",
          "50.709999084472656",
          "50.77000045776367",
          "50.04999923706055",
          "49.81999969482422",
          "48.77000045776367",
          "47.81999969482422",
          "48.34000015258789",
          "48.220001220703125",
          "48.400001525878906",
          "47.95000076293945",
          "47.5",
          "47.400001525878906",
          "48.540000915527344",
          "48.47999954223633",
          "48.68000030517578",
          "48.38999938964844",
          "48.779998779296875",
          "49.61000061035156"
         ]
        },
        {
         "mode": "lines",
         "name": "20 Day Rollling Average",
         "type": "scatter",
         "x": [
          "2020-12-01",
          "2020-12-02",
          "2020-12-03",
          "2020-12-04",
          "2020-12-07",
          "2020-12-08",
          "2020-12-09",
          "2020-12-10",
          "2020-12-11",
          "2020-12-14",
          "2020-12-15",
          "2020-12-16",
          "2020-12-17",
          "2020-12-18",
          "2020-12-21",
          "2020-12-22",
          "2020-12-23",
          "2020-12-24",
          "2020-12-28",
          "2020-12-29",
          "2020-12-30",
          "2020-12-31"
         ],
         "y": [
          47.10523805164156,
          47.63619050525484,
          48.09142866588774,
          48.594285692487446,
          48.96095239548456,
          49.40857151576451,
          49.523333413260325,
          49.64619046165829,
          49.79952385312035,
          49.953333355131605,
          50.050476255871004,
          50.045714423769994,
          50.017619178408665,
          49.96809532528832,
          49.9000000726609,
          49.82380966913132,
          49.72380974179222,
          49.52761931646438,
          49.36952409290132,
          49.22619065784273,
          49.17809531802223,
          49.17761920747303
         ]
        }
       ],
       "layout": {
        "template": {
         "data": {
          "bar": [
           {
            "error_x": {
             "color": "#2a3f5f"
            },
            "error_y": {
             "color": "#2a3f5f"
            },
            "marker": {
             "line": {
              "color": "#E5ECF6",
              "width": 0.5
             }
            },
            "type": "bar"
           }
          ],
          "barpolar": [
           {
            "marker": {
             "line": {
              "color": "#E5ECF6",
              "width": 0.5
             }
            },
            "type": "barpolar"
           }
          ],
          "carpet": [
           {
            "aaxis": {
             "endlinecolor": "#2a3f5f",
             "gridcolor": "white",
             "linecolor": "white",
             "minorgridcolor": "white",
             "startlinecolor": "#2a3f5f"
            },
            "baxis": {
             "endlinecolor": "#2a3f5f",
             "gridcolor": "white",
             "linecolor": "white",
             "minorgridcolor": "white",
             "startlinecolor": "#2a3f5f"
            },
            "type": "carpet"
           }
          ],
          "choropleth": [
           {
            "colorbar": {
             "outlinewidth": 0,
             "ticks": ""
            },
            "type": "choropleth"
           }
          ],
          "contour": [
           {
            "colorbar": {
             "outlinewidth": 0,
             "ticks": ""
            },
            "colorscale": [
             [
              0,
              "#0d0887"
             ],
             [
              0.1111111111111111,
              "#46039f"
             ],
             [
              0.2222222222222222,
              "#7201a8"
             ],
             [
              0.3333333333333333,
              "#9c179e"
             ],
             [
              0.4444444444444444,
              "#bd3786"
             ],
             [
              0.5555555555555556,
              "#d8576b"
             ],
             [
              0.6666666666666666,
              "#ed7953"
             ],
             [
              0.7777777777777778,
              "#fb9f3a"
             ],
             [
              0.8888888888888888,
              "#fdca26"
             ],
             [
              1,
              "#f0f921"
             ]
            ],
            "type": "contour"
           }
          ],
          "contourcarpet": [
           {
            "colorbar": {
             "outlinewidth": 0,
             "ticks": ""
            },
            "type": "contourcarpet"
           }
          ],
          "heatmap": [
           {
            "colorbar": {
             "outlinewidth": 0,
             "ticks": ""
            },
            "colorscale": [
             [
              0,
              "#0d0887"
             ],
             [
              0.1111111111111111,
              "#46039f"
             ],
             [
              0.2222222222222222,
              "#7201a8"
             ],
             [
              0.3333333333333333,
              "#9c179e"
             ],
             [
              0.4444444444444444,
              "#bd3786"
             ],
             [
              0.5555555555555556,
              "#d8576b"
             ],
             [
              0.6666666666666666,
              "#ed7953"
             ],
             [
              0.7777777777777778,
              "#fb9f3a"
             ],
             [
              0.8888888888888888,
              "#fdca26"
             ],
             [
              1,
              "#f0f921"
             ]
            ],
            "type": "heatmap"
           }
          ],
          "heatmapgl": [
           {
            "colorbar": {
             "outlinewidth": 0,
             "ticks": ""
            },
            "colorscale": [
             [
              0,
              "#0d0887"
             ],
             [
              0.1111111111111111,
              "#46039f"
             ],
             [
              0.2222222222222222,
              "#7201a8"
             ],
             [
              0.3333333333333333,
              "#9c179e"
             ],
             [
              0.4444444444444444,
              "#bd3786"
             ],
             [
              0.5555555555555556,
              "#d8576b"
             ],
             [
              0.6666666666666666,
              "#ed7953"
             ],
             [
              0.7777777777777778,
              "#fb9f3a"
             ],
             [
              0.8888888888888888,
              "#fdca26"
             ],
             [
              1,
              "#f0f921"
             ]
            ],
            "type": "heatmapgl"
           }
          ],
          "histogram": [
           {
            "marker": {
             "colorbar": {
              "outlinewidth": 0,
              "ticks": ""
             }
            },
            "type": "histogram"
           }
          ],
          "histogram2d": [
           {
            "colorbar": {
             "outlinewidth": 0,
             "ticks": ""
            },
            "colorscale": [
             [
              0,
              "#0d0887"
             ],
             [
              0.1111111111111111,
              "#46039f"
             ],
             [
              0.2222222222222222,
              "#7201a8"
             ],
             [
              0.3333333333333333,
              "#9c179e"
             ],
             [
              0.4444444444444444,
              "#bd3786"
             ],
             [
              0.5555555555555556,
              "#d8576b"
             ],
             [
              0.6666666666666666,
              "#ed7953"
             ],
             [
              0.7777777777777778,
              "#fb9f3a"
             ],
             [
              0.8888888888888888,
              "#fdca26"
             ],
             [
              1,
              "#f0f921"
             ]
            ],
            "type": "histogram2d"
           }
          ],
          "histogram2dcontour": [
           {
            "colorbar": {
             "outlinewidth": 0,
             "ticks": ""
            },
            "colorscale": [
             [
              0,
              "#0d0887"
             ],
             [
              0.1111111111111111,
              "#46039f"
             ],
             [
              0.2222222222222222,
              "#7201a8"
             ],
             [
              0.3333333333333333,
              "#9c179e"
             ],
             [
              0.4444444444444444,
              "#bd3786"
             ],
             [
              0.5555555555555556,
              "#d8576b"
             ],
             [
              0.6666666666666666,
              "#ed7953"
             ],
             [
              0.7777777777777778,
              "#fb9f3a"
             ],
             [
              0.8888888888888888,
              "#fdca26"
             ],
             [
              1,
              "#f0f921"
             ]
            ],
            "type": "histogram2dcontour"
           }
          ],
          "mesh3d": [
           {
            "colorbar": {
             "outlinewidth": 0,
             "ticks": ""
            },
            "type": "mesh3d"
           }
          ],
          "parcoords": [
           {
            "line": {
             "colorbar": {
              "outlinewidth": 0,
              "ticks": ""
             }
            },
            "type": "parcoords"
           }
          ],
          "pie": [
           {
            "automargin": true,
            "type": "pie"
           }
          ],
          "scatter": [
           {
            "marker": {
             "colorbar": {
              "outlinewidth": 0,
              "ticks": ""
             }
            },
            "type": "scatter"
           }
          ],
          "scatter3d": [
           {
            "line": {
             "colorbar": {
              "outlinewidth": 0,
              "ticks": ""
             }
            },
            "marker": {
             "colorbar": {
              "outlinewidth": 0,
              "ticks": ""
             }
            },
            "type": "scatter3d"
           }
          ],
          "scattercarpet": [
           {
            "marker": {
             "colorbar": {
              "outlinewidth": 0,
              "ticks": ""
             }
            },
            "type": "scattercarpet"
           }
          ],
          "scattergeo": [
           {
            "marker": {
             "colorbar": {
              "outlinewidth": 0,
              "ticks": ""
             }
            },
            "type": "scattergeo"
           }
          ],
          "scattergl": [
           {
            "marker": {
             "colorbar": {
              "outlinewidth": 0,
              "ticks": ""
             }
            },
            "type": "scattergl"
           }
          ],
          "scattermapbox": [
           {
            "marker": {
             "colorbar": {
              "outlinewidth": 0,
              "ticks": ""
             }
            },
            "type": "scattermapbox"
           }
          ],
          "scatterpolar": [
           {
            "marker": {
             "colorbar": {
              "outlinewidth": 0,
              "ticks": ""
             }
            },
            "type": "scatterpolar"
           }
          ],
          "scatterpolargl": [
           {
            "marker": {
             "colorbar": {
              "outlinewidth": 0,
              "ticks": ""
             }
            },
            "type": "scatterpolargl"
           }
          ],
          "scatterternary": [
           {
            "marker": {
             "colorbar": {
              "outlinewidth": 0,
              "ticks": ""
             }
            },
            "type": "scatterternary"
           }
          ],
          "surface": [
           {
            "colorbar": {
             "outlinewidth": 0,
             "ticks": ""
            },
            "colorscale": [
             [
              0,
              "#0d0887"
             ],
             [
              0.1111111111111111,
              "#46039f"
             ],
             [
              0.2222222222222222,
              "#7201a8"
             ],
             [
              0.3333333333333333,
              "#9c179e"
             ],
             [
              0.4444444444444444,
              "#bd3786"
             ],
             [
              0.5555555555555556,
              "#d8576b"
             ],
             [
              0.6666666666666666,
              "#ed7953"
             ],
             [
              0.7777777777777778,
              "#fb9f3a"
             ],
             [
              0.8888888888888888,
              "#fdca26"
             ],
             [
              1,
              "#f0f921"
             ]
            ],
            "type": "surface"
           }
          ],
          "table": [
           {
            "cells": {
             "fill": {
              "color": "#EBF0F8"
             },
             "line": {
              "color": "white"
             }
            },
            "header": {
             "fill": {
              "color": "#C8D4E3"
             },
             "line": {
              "color": "white"
             }
            },
            "type": "table"
           }
          ]
         },
         "layout": {
          "annotationdefaults": {
           "arrowcolor": "#2a3f5f",
           "arrowhead": 0,
           "arrowwidth": 1
          },
          "coloraxis": {
           "colorbar": {
            "outlinewidth": 0,
            "ticks": ""
           }
          },
          "colorscale": {
           "diverging": [
            [
             0,
             "#8e0152"
            ],
            [
             0.1,
             "#c51b7d"
            ],
            [
             0.2,
             "#de77ae"
            ],
            [
             0.3,
             "#f1b6da"
            ],
            [
             0.4,
             "#fde0ef"
            ],
            [
             0.5,
             "#f7f7f7"
            ],
            [
             0.6,
             "#e6f5d0"
            ],
            [
             0.7,
             "#b8e186"
            ],
            [
             0.8,
             "#7fbc41"
            ],
            [
             0.9,
             "#4d9221"
            ],
            [
             1,
             "#276419"
            ]
           ],
           "sequential": [
            [
             0,
             "#0d0887"
            ],
            [
             0.1111111111111111,
             "#46039f"
            ],
            [
             0.2222222222222222,
             "#7201a8"
            ],
            [
             0.3333333333333333,
             "#9c179e"
            ],
            [
             0.4444444444444444,
             "#bd3786"
            ],
            [
             0.5555555555555556,
             "#d8576b"
            ],
            [
             0.6666666666666666,
             "#ed7953"
            ],
            [
             0.7777777777777778,
             "#fb9f3a"
            ],
            [
             0.8888888888888888,
             "#fdca26"
            ],
            [
             1,
             "#f0f921"
            ]
           ],
           "sequentialminus": [
            [
             0,
             "#0d0887"
            ],
            [
             0.1111111111111111,
             "#46039f"
            ],
            [
             0.2222222222222222,
             "#7201a8"
            ],
            [
             0.3333333333333333,
             "#9c179e"
            ],
            [
             0.4444444444444444,
             "#bd3786"
            ],
            [
             0.5555555555555556,
             "#d8576b"
            ],
            [
             0.6666666666666666,
             "#ed7953"
            ],
            [
             0.7777777777777778,
             "#fb9f3a"
            ],
            [
             0.8888888888888888,
             "#fdca26"
            ],
            [
             1,
             "#f0f921"
            ]
           ]
          },
          "colorway": [
           "#636efa",
           "#EF553B",
           "#00cc96",
           "#ab63fa",
           "#FFA15A",
           "#19d3f3",
           "#FF6692",
           "#B6E880",
           "#FF97FF",
           "#FECB52"
          ],
          "font": {
           "color": "#2a3f5f"
          },
          "geo": {
           "bgcolor": "white",
           "lakecolor": "white",
           "landcolor": "#E5ECF6",
           "showlakes": true,
           "showland": true,
           "subunitcolor": "white"
          },
          "hoverlabel": {
           "align": "left"
          },
          "hovermode": "closest",
          "mapbox": {
           "style": "light"
          },
          "paper_bgcolor": "white",
          "plot_bgcolor": "#E5ECF6",
          "polar": {
           "angularaxis": {
            "gridcolor": "white",
            "linecolor": "white",
            "ticks": ""
           },
           "bgcolor": "#E5ECF6",
           "radialaxis": {
            "gridcolor": "white",
            "linecolor": "white",
            "ticks": ""
           }
          },
          "scene": {
           "xaxis": {
            "backgroundcolor": "#E5ECF6",
            "gridcolor": "white",
            "gridwidth": 2,
            "linecolor": "white",
            "showbackground": true,
            "ticks": "",
            "zerolinecolor": "white"
           },
           "yaxis": {
            "backgroundcolor": "#E5ECF6",
            "gridcolor": "white",
            "gridwidth": 2,
            "linecolor": "white",
            "showbackground": true,
            "ticks": "",
            "zerolinecolor": "white"
           },
           "zaxis": {
            "backgroundcolor": "#E5ECF6",
            "gridcolor": "white",
            "gridwidth": 2,
            "linecolor": "white",
            "showbackground": true,
            "ticks": "",
            "zerolinecolor": "white"
           }
          },
          "shapedefaults": {
           "line": {
            "color": "#2a3f5f"
           }
          },
          "ternary": {
           "aaxis": {
            "gridcolor": "white",
            "linecolor": "white",
            "ticks": ""
           },
           "baxis": {
            "gridcolor": "white",
            "linecolor": "white",
            "ticks": ""
           },
           "bgcolor": "#E5ECF6",
           "caxis": {
            "gridcolor": "white",
            "linecolor": "white",
            "ticks": ""
           }
          },
          "title": {
           "x": 0.05
          },
          "xaxis": {
           "automargin": true,
           "gridcolor": "white",
           "linecolor": "white",
           "ticks": "",
           "title": {
            "standoff": 15
           },
           "zerolinecolor": "white",
           "zerolinewidth": 2
          },
          "yaxis": {
           "automargin": true,
           "gridcolor": "white",
           "linecolor": "white",
           "ticks": "",
           "title": {
            "standoff": 15
           },
           "zerolinecolor": "white",
           "zerolinewidth": 2
          }
         }
        }
       }
      },
      "text/html": [
       "<div>                            <div id=\"fa14a186-eb14-4cee-b33e-82cdd7502675\" class=\"plotly-graph-div\" style=\"height:525px; width:100%;\"></div>            <script type=\"text/javascript\">                require([\"plotly\"], function(Plotly) {                    window.PLOTLYENV=window.PLOTLYENV || {};                                    if (document.getElementById(\"fa14a186-eb14-4cee-b33e-82cdd7502675\")) {                    Plotly.newPlot(                        \"fa14a186-eb14-4cee-b33e-82cdd7502675\",                        [{\"mode\": \"lines\", \"name\": \"Close\", \"type\": \"scatter\", \"x\": [\"2020-12-01\", \"2020-12-02\", \"2020-12-03\", \"2020-12-04\", \"2020-12-07\", \"2020-12-08\", \"2020-12-09\", \"2020-12-10\", \"2020-12-11\", \"2020-12-14\", \"2020-12-15\", \"2020-12-16\", \"2020-12-17\", \"2020-12-18\", \"2020-12-21\", \"2020-12-22\", \"2020-12-23\", \"2020-12-24\", \"2020-12-28\", \"2020-12-29\", \"2020-12-30\", \"2020-12-31\"], \"y\": [\"49.619998931884766\", \"50.86000061035156\", \"51.36000061035156\", \"52.279998779296875\", \"50.709999084472656\", \"50.77000045776367\", \"50.04999923706055\", \"49.81999969482422\", \"48.77000045776367\", \"47.81999969482422\", \"48.34000015258789\", \"48.220001220703125\", \"48.400001525878906\", \"47.95000076293945\", \"47.5\", \"47.400001525878906\", \"48.540000915527344\", \"48.47999954223633\", \"48.68000030517578\", \"48.38999938964844\", \"48.779998779296875\", \"49.61000061035156\"]}, {\"mode\": \"lines\", \"name\": \"20 Day Rollling Average\", \"type\": \"scatter\", \"x\": [\"2020-12-01\", \"2020-12-02\", \"2020-12-03\", \"2020-12-04\", \"2020-12-07\", \"2020-12-08\", \"2020-12-09\", \"2020-12-10\", \"2020-12-11\", \"2020-12-14\", \"2020-12-15\", \"2020-12-16\", \"2020-12-17\", \"2020-12-18\", \"2020-12-21\", \"2020-12-22\", \"2020-12-23\", \"2020-12-24\", \"2020-12-28\", \"2020-12-29\", \"2020-12-30\", \"2020-12-31\"], \"y\": [47.10523805164156, 47.63619050525484, 48.09142866588774, 48.594285692487446, 48.96095239548456, 49.40857151576451, 49.523333413260325, 49.64619046165829, 49.79952385312035, 49.953333355131605, 50.050476255871004, 50.045714423769994, 50.017619178408665, 49.96809532528832, 49.9000000726609, 49.82380966913132, 49.72380974179222, 49.52761931646438, 49.36952409290132, 49.22619065784273, 49.17809531802223, 49.17761920747303]}],                        {\"template\": {\"data\": {\"bar\": [{\"error_x\": {\"color\": \"#2a3f5f\"}, \"error_y\": {\"color\": \"#2a3f5f\"}, \"marker\": {\"line\": {\"color\": \"#E5ECF6\", \"width\": 0.5}}, \"type\": \"bar\"}], \"barpolar\": [{\"marker\": {\"line\": {\"color\": \"#E5ECF6\", \"width\": 0.5}}, \"type\": \"barpolar\"}], \"carpet\": [{\"aaxis\": {\"endlinecolor\": \"#2a3f5f\", \"gridcolor\": \"white\", \"linecolor\": \"white\", \"minorgridcolor\": \"white\", \"startlinecolor\": \"#2a3f5f\"}, \"baxis\": {\"endlinecolor\": \"#2a3f5f\", \"gridcolor\": \"white\", \"linecolor\": \"white\", \"minorgridcolor\": \"white\", \"startlinecolor\": \"#2a3f5f\"}, \"type\": \"carpet\"}], \"choropleth\": [{\"colorbar\": {\"outlinewidth\": 0, \"ticks\": \"\"}, \"type\": \"choropleth\"}], \"contour\": [{\"colorbar\": {\"outlinewidth\": 0, \"ticks\": \"\"}, \"colorscale\": [[0.0, \"#0d0887\"], [0.1111111111111111, \"#46039f\"], [0.2222222222222222, \"#7201a8\"], [0.3333333333333333, \"#9c179e\"], [0.4444444444444444, \"#bd3786\"], [0.5555555555555556, \"#d8576b\"], [0.6666666666666666, \"#ed7953\"], [0.7777777777777778, \"#fb9f3a\"], [0.8888888888888888, \"#fdca26\"], [1.0, \"#f0f921\"]], \"type\": \"contour\"}], \"contourcarpet\": [{\"colorbar\": {\"outlinewidth\": 0, \"ticks\": \"\"}, \"type\": \"contourcarpet\"}], \"heatmap\": [{\"colorbar\": {\"outlinewidth\": 0, \"ticks\": \"\"}, \"colorscale\": [[0.0, \"#0d0887\"], [0.1111111111111111, \"#46039f\"], [0.2222222222222222, \"#7201a8\"], [0.3333333333333333, \"#9c179e\"], [0.4444444444444444, \"#bd3786\"], [0.5555555555555556, \"#d8576b\"], [0.6666666666666666, \"#ed7953\"], [0.7777777777777778, \"#fb9f3a\"], [0.8888888888888888, \"#fdca26\"], [1.0, \"#f0f921\"]], \"type\": \"heatmap\"}], \"heatmapgl\": [{\"colorbar\": {\"outlinewidth\": 0, \"ticks\": \"\"}, \"colorscale\": [[0.0, \"#0d0887\"], [0.1111111111111111, \"#46039f\"], [0.2222222222222222, \"#7201a8\"], [0.3333333333333333, \"#9c179e\"], [0.4444444444444444, \"#bd3786\"], [0.5555555555555556, \"#d8576b\"], [0.6666666666666666, \"#ed7953\"], [0.7777777777777778, \"#fb9f3a\"], [0.8888888888888888, \"#fdca26\"], [1.0, \"#f0f921\"]], \"type\": \"heatmapgl\"}], \"histogram\": [{\"marker\": {\"colorbar\": {\"outlinewidth\": 0, \"ticks\": \"\"}}, \"type\": \"histogram\"}], \"histogram2d\": [{\"colorbar\": {\"outlinewidth\": 0, \"ticks\": \"\"}, \"colorscale\": [[0.0, \"#0d0887\"], [0.1111111111111111, \"#46039f\"], [0.2222222222222222, \"#7201a8\"], [0.3333333333333333, \"#9c179e\"], [0.4444444444444444, \"#bd3786\"], [0.5555555555555556, \"#d8576b\"], [0.6666666666666666, \"#ed7953\"], [0.7777777777777778, \"#fb9f3a\"], [0.8888888888888888, \"#fdca26\"], [1.0, \"#f0f921\"]], \"type\": \"histogram2d\"}], \"histogram2dcontour\": [{\"colorbar\": {\"outlinewidth\": 0, \"ticks\": \"\"}, \"colorscale\": [[0.0, \"#0d0887\"], [0.1111111111111111, \"#46039f\"], [0.2222222222222222, \"#7201a8\"], [0.3333333333333333, \"#9c179e\"], [0.4444444444444444, \"#bd3786\"], [0.5555555555555556, \"#d8576b\"], [0.6666666666666666, \"#ed7953\"], [0.7777777777777778, \"#fb9f3a\"], [0.8888888888888888, \"#fdca26\"], [1.0, \"#f0f921\"]], \"type\": \"histogram2dcontour\"}], \"mesh3d\": [{\"colorbar\": {\"outlinewidth\": 0, \"ticks\": \"\"}, \"type\": \"mesh3d\"}], \"parcoords\": [{\"line\": {\"colorbar\": {\"outlinewidth\": 0, \"ticks\": \"\"}}, \"type\": \"parcoords\"}], \"pie\": [{\"automargin\": true, \"type\": \"pie\"}], \"scatter\": [{\"marker\": {\"colorbar\": {\"outlinewidth\": 0, \"ticks\": \"\"}}, \"type\": \"scatter\"}], \"scatter3d\": [{\"line\": {\"colorbar\": {\"outlinewidth\": 0, \"ticks\": \"\"}}, \"marker\": {\"colorbar\": {\"outlinewidth\": 0, \"ticks\": \"\"}}, \"type\": \"scatter3d\"}], \"scattercarpet\": [{\"marker\": {\"colorbar\": {\"outlinewidth\": 0, \"ticks\": \"\"}}, \"type\": \"scattercarpet\"}], \"scattergeo\": [{\"marker\": {\"colorbar\": {\"outlinewidth\": 0, \"ticks\": \"\"}}, \"type\": \"scattergeo\"}], \"scattergl\": [{\"marker\": {\"colorbar\": {\"outlinewidth\": 0, \"ticks\": \"\"}}, \"type\": \"scattergl\"}], \"scattermapbox\": [{\"marker\": {\"colorbar\": {\"outlinewidth\": 0, \"ticks\": \"\"}}, \"type\": \"scattermapbox\"}], \"scatterpolar\": [{\"marker\": {\"colorbar\": {\"outlinewidth\": 0, \"ticks\": \"\"}}, \"type\": \"scatterpolar\"}], \"scatterpolargl\": [{\"marker\": {\"colorbar\": {\"outlinewidth\": 0, \"ticks\": \"\"}}, \"type\": \"scatterpolargl\"}], \"scatterternary\": [{\"marker\": {\"colorbar\": {\"outlinewidth\": 0, \"ticks\": \"\"}}, \"type\": \"scatterternary\"}], \"surface\": [{\"colorbar\": {\"outlinewidth\": 0, \"ticks\": \"\"}, \"colorscale\": [[0.0, \"#0d0887\"], [0.1111111111111111, \"#46039f\"], [0.2222222222222222, \"#7201a8\"], [0.3333333333333333, \"#9c179e\"], [0.4444444444444444, \"#bd3786\"], [0.5555555555555556, \"#d8576b\"], [0.6666666666666666, \"#ed7953\"], [0.7777777777777778, \"#fb9f3a\"], [0.8888888888888888, \"#fdca26\"], [1.0, \"#f0f921\"]], \"type\": \"surface\"}], \"table\": [{\"cells\": {\"fill\": {\"color\": \"#EBF0F8\"}, \"line\": {\"color\": \"white\"}}, \"header\": {\"fill\": {\"color\": \"#C8D4E3\"}, \"line\": {\"color\": \"white\"}}, \"type\": \"table\"}]}, \"layout\": {\"annotationdefaults\": {\"arrowcolor\": \"#2a3f5f\", \"arrowhead\": 0, \"arrowwidth\": 1}, \"coloraxis\": {\"colorbar\": {\"outlinewidth\": 0, \"ticks\": \"\"}}, \"colorscale\": {\"diverging\": [[0, \"#8e0152\"], [0.1, \"#c51b7d\"], [0.2, \"#de77ae\"], [0.3, \"#f1b6da\"], [0.4, \"#fde0ef\"], [0.5, \"#f7f7f7\"], [0.6, \"#e6f5d0\"], [0.7, \"#b8e186\"], [0.8, \"#7fbc41\"], [0.9, \"#4d9221\"], [1, \"#276419\"]], \"sequential\": [[0.0, \"#0d0887\"], [0.1111111111111111, \"#46039f\"], [0.2222222222222222, \"#7201a8\"], [0.3333333333333333, \"#9c179e\"], [0.4444444444444444, \"#bd3786\"], [0.5555555555555556, \"#d8576b\"], [0.6666666666666666, \"#ed7953\"], [0.7777777777777778, \"#fb9f3a\"], [0.8888888888888888, \"#fdca26\"], [1.0, \"#f0f921\"]], \"sequentialminus\": [[0.0, \"#0d0887\"], [0.1111111111111111, \"#46039f\"], [0.2222222222222222, \"#7201a8\"], [0.3333333333333333, \"#9c179e\"], [0.4444444444444444, \"#bd3786\"], [0.5555555555555556, \"#d8576b\"], [0.6666666666666666, \"#ed7953\"], [0.7777777777777778, \"#fb9f3a\"], [0.8888888888888888, \"#fdca26\"], [1.0, \"#f0f921\"]]}, \"colorway\": [\"#636efa\", \"#EF553B\", \"#00cc96\", \"#ab63fa\", \"#FFA15A\", \"#19d3f3\", \"#FF6692\", \"#B6E880\", \"#FF97FF\", \"#FECB52\"], \"font\": {\"color\": \"#2a3f5f\"}, \"geo\": {\"bgcolor\": \"white\", \"lakecolor\": \"white\", \"landcolor\": \"#E5ECF6\", \"showlakes\": true, \"showland\": true, \"subunitcolor\": \"white\"}, \"hoverlabel\": {\"align\": \"left\"}, \"hovermode\": \"closest\", \"mapbox\": {\"style\": \"light\"}, \"paper_bgcolor\": \"white\", \"plot_bgcolor\": \"#E5ECF6\", \"polar\": {\"angularaxis\": {\"gridcolor\": \"white\", \"linecolor\": \"white\", \"ticks\": \"\"}, \"bgcolor\": \"#E5ECF6\", \"radialaxis\": {\"gridcolor\": \"white\", \"linecolor\": \"white\", \"ticks\": \"\"}}, \"scene\": {\"xaxis\": {\"backgroundcolor\": \"#E5ECF6\", \"gridcolor\": \"white\", \"gridwidth\": 2, \"linecolor\": \"white\", \"showbackground\": true, \"ticks\": \"\", \"zerolinecolor\": \"white\"}, \"yaxis\": {\"backgroundcolor\": \"#E5ECF6\", \"gridcolor\": \"white\", \"gridwidth\": 2, \"linecolor\": \"white\", \"showbackground\": true, \"ticks\": \"\", \"zerolinecolor\": \"white\"}, \"zaxis\": {\"backgroundcolor\": \"#E5ECF6\", \"gridcolor\": \"white\", \"gridwidth\": 2, \"linecolor\": \"white\", \"showbackground\": true, \"ticks\": \"\", \"zerolinecolor\": \"white\"}}, \"shapedefaults\": {\"line\": {\"color\": \"#2a3f5f\"}}, \"ternary\": {\"aaxis\": {\"gridcolor\": \"white\", \"linecolor\": \"white\", \"ticks\": \"\"}, \"baxis\": {\"gridcolor\": \"white\", \"linecolor\": \"white\", \"ticks\": \"\"}, \"bgcolor\": \"#E5ECF6\", \"caxis\": {\"gridcolor\": \"white\", \"linecolor\": \"white\", \"ticks\": \"\"}}, \"title\": {\"x\": 0.05}, \"xaxis\": {\"automargin\": true, \"gridcolor\": \"white\", \"linecolor\": \"white\", \"ticks\": \"\", \"title\": {\"standoff\": 15}, \"zerolinecolor\": \"white\", \"zerolinewidth\": 2}, \"yaxis\": {\"automargin\": true, \"gridcolor\": \"white\", \"linecolor\": \"white\", \"ticks\": \"\", \"title\": {\"standoff\": 15}, \"zerolinecolor\": \"white\", \"zerolinewidth\": 2}}}},                        {\"responsive\": true}                    ).then(function(){\n",
       "                            \n",
       "var gd = document.getElementById('fa14a186-eb14-4cee-b33e-82cdd7502675');\n",
       "var x = new MutationObserver(function (mutations, observer) {{\n",
       "        var display = window.getComputedStyle(gd).display;\n",
       "        if (!display || display === 'none') {{\n",
       "            console.log([gd, 'removed!']);\n",
       "            Plotly.purge(gd);\n",
       "            observer.disconnect();\n",
       "        }}\n",
       "}});\n",
       "\n",
       "// Listen for the removal of the full notebook cells\n",
       "var notebookContainer = gd.closest('#notebook-container');\n",
       "if (notebookContainer) {{\n",
       "    x.observe(notebookContainer, {childList: true});\n",
       "}}\n",
       "\n",
       "// Listen for the clearing of the current output cell\n",
       "var outputEl = gd.closest('.output');\n",
       "if (outputEl) {{\n",
       "    x.observe(outputEl, {childList: true});\n",
       "}}\n",
       "\n",
       "                        })                };                });            </script>        </div>"
      ]
     },
     "metadata": {},
     "output_type": "display_data"
    }
   ],
   "source": [
    "%matplotlib inline\n",
    "## plot stock price and rolling average\n",
    "fig = go.Figure()\n",
    "fig.add_trace(go.Scatter(x=PFG.Date, y=PFG.Close,\n",
    "                    mode='lines',\n",
    "                    name='Close'))\n",
    "fig.add_trace(go.Scatter(x=PFG.Date, y=PFG.rolling_20_day_average,\n",
    "                    mode='lines',\n",
    "                    name='20 Day Rollling Average'))\n"
   ]
  },
  {
   "cell_type": "code",
   "execution_count": 29,
   "metadata": {},
   "outputs": [
    {
     "data": {
      "application/vnd.plotly.v1+json": {
       "config": {
        "plotlyServerURL": "https://plot.ly"
       },
       "data": [
        {
         "mode": "lines",
         "name": "Close",
         "type": "scatter",
         "x": [
          "2020-12-01",
          "2020-12-02",
          "2020-12-03",
          "2020-12-04",
          "2020-12-07",
          "2020-12-08",
          "2020-12-09",
          "2020-12-10",
          "2020-12-11",
          "2020-12-14",
          "2020-12-15",
          "2020-12-16",
          "2020-12-17",
          "2020-12-18",
          "2020-12-21",
          "2020-12-22",
          "2020-12-23",
          "2020-12-24",
          "2020-12-28",
          "2020-12-29",
          "2020-12-30",
          "2020-12-31"
         ],
         "y": [
          "49.619998931884766",
          "50.86000061035156",
          "51.36000061035156",
          "52.279998779296875",
          "50.709999084472656",
          "50.77000045776367",
          "50.04999923706055",
          "49.81999969482422",
          "48.77000045776367",
          "47.81999969482422",
          "48.34000015258789",
          "48.220001220703125",
          "48.400001525878906",
          "47.95000076293945",
          "47.5",
          "47.400001525878906",
          "48.540000915527344",
          "48.47999954223633",
          "48.68000030517578",
          "48.38999938964844",
          "48.779998779296875",
          "49.61000061035156"
         ]
        },
        {
         "mode": "lines",
         "name": "Upper Bollinger™",
         "type": "scatter",
         "x": [
          "2020-12-01",
          "2020-12-02",
          "2020-12-03",
          "2020-12-04",
          "2020-12-07",
          "2020-12-08",
          "2020-12-09",
          "2020-12-10",
          "2020-12-11",
          "2020-12-14",
          "2020-12-15",
          "2020-12-16",
          "2020-12-17",
          "2020-12-18",
          "2020-12-21",
          "2020-12-22",
          "2020-12-23",
          "2020-12-24",
          "2020-12-28",
          "2020-12-29",
          "2020-12-30",
          "2020-12-31"
         ],
         "y": [
          54.47726194541548,
          54.38062634028297,
          54.47984799622677,
          54.54489744205192,
          54.418493963794134,
          53.724929103516246,
          53.77313914179415,
          53.77222607686602,
          53.525164344711776,
          53.01320134845155,
          52.7483583513066,
          52.75612098278951,
          52.782892258777416,
          52.84039001704458,
          52.9309320435057,
          53.017478056548924,
          52.94041747420902,
          52.51284534102587,
          52.15952942974622,
          51.89066156702106,
          51.83657702669592,
          51.83578774428078
         ]
        },
        {
         "mode": "lines",
         "name": "Lower Bollinger™",
         "type": "scatter",
         "x": [
          "2020-12-01",
          "2020-12-02",
          "2020-12-03",
          "2020-12-04",
          "2020-12-07",
          "2020-12-08",
          "2020-12-09",
          "2020-12-10",
          "2020-12-11",
          "2020-12-14",
          "2020-12-15",
          "2020-12-16",
          "2020-12-17",
          "2020-12-18",
          "2020-12-21",
          "2020-12-22",
          "2020-12-23",
          "2020-12-24",
          "2020-12-28",
          "2020-12-29",
          "2020-12-30",
          "2020-12-31"
         ],
         "y": [
          39.733214157867636,
          40.8917546702267,
          41.70300933554871,
          42.64367394292297,
          43.50341082717499,
          45.09221392801277,
          45.2735276847265,
          45.520154846450566,
          46.07388336152892,
          46.89346536181166,
          47.35259416043541,
          47.335307864750476,
          47.252346098039915,
          47.09580063353206,
          46.869068101816104,
          46.63014128171372,
          46.507202009375426,
          46.54239329190289,
          46.57951875605642,
          46.561719748664395,
          46.51961360934854,
          46.51945067066528
         ]
        }
       ],
       "layout": {
        "template": {
         "data": {
          "bar": [
           {
            "error_x": {
             "color": "#2a3f5f"
            },
            "error_y": {
             "color": "#2a3f5f"
            },
            "marker": {
             "line": {
              "color": "#E5ECF6",
              "width": 0.5
             }
            },
            "type": "bar"
           }
          ],
          "barpolar": [
           {
            "marker": {
             "line": {
              "color": "#E5ECF6",
              "width": 0.5
             }
            },
            "type": "barpolar"
           }
          ],
          "carpet": [
           {
            "aaxis": {
             "endlinecolor": "#2a3f5f",
             "gridcolor": "white",
             "linecolor": "white",
             "minorgridcolor": "white",
             "startlinecolor": "#2a3f5f"
            },
            "baxis": {
             "endlinecolor": "#2a3f5f",
             "gridcolor": "white",
             "linecolor": "white",
             "minorgridcolor": "white",
             "startlinecolor": "#2a3f5f"
            },
            "type": "carpet"
           }
          ],
          "choropleth": [
           {
            "colorbar": {
             "outlinewidth": 0,
             "ticks": ""
            },
            "type": "choropleth"
           }
          ],
          "contour": [
           {
            "colorbar": {
             "outlinewidth": 0,
             "ticks": ""
            },
            "colorscale": [
             [
              0,
              "#0d0887"
             ],
             [
              0.1111111111111111,
              "#46039f"
             ],
             [
              0.2222222222222222,
              "#7201a8"
             ],
             [
              0.3333333333333333,
              "#9c179e"
             ],
             [
              0.4444444444444444,
              "#bd3786"
             ],
             [
              0.5555555555555556,
              "#d8576b"
             ],
             [
              0.6666666666666666,
              "#ed7953"
             ],
             [
              0.7777777777777778,
              "#fb9f3a"
             ],
             [
              0.8888888888888888,
              "#fdca26"
             ],
             [
              1,
              "#f0f921"
             ]
            ],
            "type": "contour"
           }
          ],
          "contourcarpet": [
           {
            "colorbar": {
             "outlinewidth": 0,
             "ticks": ""
            },
            "type": "contourcarpet"
           }
          ],
          "heatmap": [
           {
            "colorbar": {
             "outlinewidth": 0,
             "ticks": ""
            },
            "colorscale": [
             [
              0,
              "#0d0887"
             ],
             [
              0.1111111111111111,
              "#46039f"
             ],
             [
              0.2222222222222222,
              "#7201a8"
             ],
             [
              0.3333333333333333,
              "#9c179e"
             ],
             [
              0.4444444444444444,
              "#bd3786"
             ],
             [
              0.5555555555555556,
              "#d8576b"
             ],
             [
              0.6666666666666666,
              "#ed7953"
             ],
             [
              0.7777777777777778,
              "#fb9f3a"
             ],
             [
              0.8888888888888888,
              "#fdca26"
             ],
             [
              1,
              "#f0f921"
             ]
            ],
            "type": "heatmap"
           }
          ],
          "heatmapgl": [
           {
            "colorbar": {
             "outlinewidth": 0,
             "ticks": ""
            },
            "colorscale": [
             [
              0,
              "#0d0887"
             ],
             [
              0.1111111111111111,
              "#46039f"
             ],
             [
              0.2222222222222222,
              "#7201a8"
             ],
             [
              0.3333333333333333,
              "#9c179e"
             ],
             [
              0.4444444444444444,
              "#bd3786"
             ],
             [
              0.5555555555555556,
              "#d8576b"
             ],
             [
              0.6666666666666666,
              "#ed7953"
             ],
             [
              0.7777777777777778,
              "#fb9f3a"
             ],
             [
              0.8888888888888888,
              "#fdca26"
             ],
             [
              1,
              "#f0f921"
             ]
            ],
            "type": "heatmapgl"
           }
          ],
          "histogram": [
           {
            "marker": {
             "colorbar": {
              "outlinewidth": 0,
              "ticks": ""
             }
            },
            "type": "histogram"
           }
          ],
          "histogram2d": [
           {
            "colorbar": {
             "outlinewidth": 0,
             "ticks": ""
            },
            "colorscale": [
             [
              0,
              "#0d0887"
             ],
             [
              0.1111111111111111,
              "#46039f"
             ],
             [
              0.2222222222222222,
              "#7201a8"
             ],
             [
              0.3333333333333333,
              "#9c179e"
             ],
             [
              0.4444444444444444,
              "#bd3786"
             ],
             [
              0.5555555555555556,
              "#d8576b"
             ],
             [
              0.6666666666666666,
              "#ed7953"
             ],
             [
              0.7777777777777778,
              "#fb9f3a"
             ],
             [
              0.8888888888888888,
              "#fdca26"
             ],
             [
              1,
              "#f0f921"
             ]
            ],
            "type": "histogram2d"
           }
          ],
          "histogram2dcontour": [
           {
            "colorbar": {
             "outlinewidth": 0,
             "ticks": ""
            },
            "colorscale": [
             [
              0,
              "#0d0887"
             ],
             [
              0.1111111111111111,
              "#46039f"
             ],
             [
              0.2222222222222222,
              "#7201a8"
             ],
             [
              0.3333333333333333,
              "#9c179e"
             ],
             [
              0.4444444444444444,
              "#bd3786"
             ],
             [
              0.5555555555555556,
              "#d8576b"
             ],
             [
              0.6666666666666666,
              "#ed7953"
             ],
             [
              0.7777777777777778,
              "#fb9f3a"
             ],
             [
              0.8888888888888888,
              "#fdca26"
             ],
             [
              1,
              "#f0f921"
             ]
            ],
            "type": "histogram2dcontour"
           }
          ],
          "mesh3d": [
           {
            "colorbar": {
             "outlinewidth": 0,
             "ticks": ""
            },
            "type": "mesh3d"
           }
          ],
          "parcoords": [
           {
            "line": {
             "colorbar": {
              "outlinewidth": 0,
              "ticks": ""
             }
            },
            "type": "parcoords"
           }
          ],
          "pie": [
           {
            "automargin": true,
            "type": "pie"
           }
          ],
          "scatter": [
           {
            "marker": {
             "colorbar": {
              "outlinewidth": 0,
              "ticks": ""
             }
            },
            "type": "scatter"
           }
          ],
          "scatter3d": [
           {
            "line": {
             "colorbar": {
              "outlinewidth": 0,
              "ticks": ""
             }
            },
            "marker": {
             "colorbar": {
              "outlinewidth": 0,
              "ticks": ""
             }
            },
            "type": "scatter3d"
           }
          ],
          "scattercarpet": [
           {
            "marker": {
             "colorbar": {
              "outlinewidth": 0,
              "ticks": ""
             }
            },
            "type": "scattercarpet"
           }
          ],
          "scattergeo": [
           {
            "marker": {
             "colorbar": {
              "outlinewidth": 0,
              "ticks": ""
             }
            },
            "type": "scattergeo"
           }
          ],
          "scattergl": [
           {
            "marker": {
             "colorbar": {
              "outlinewidth": 0,
              "ticks": ""
             }
            },
            "type": "scattergl"
           }
          ],
          "scattermapbox": [
           {
            "marker": {
             "colorbar": {
              "outlinewidth": 0,
              "ticks": ""
             }
            },
            "type": "scattermapbox"
           }
          ],
          "scatterpolar": [
           {
            "marker": {
             "colorbar": {
              "outlinewidth": 0,
              "ticks": ""
             }
            },
            "type": "scatterpolar"
           }
          ],
          "scatterpolargl": [
           {
            "marker": {
             "colorbar": {
              "outlinewidth": 0,
              "ticks": ""
             }
            },
            "type": "scatterpolargl"
           }
          ],
          "scatterternary": [
           {
            "marker": {
             "colorbar": {
              "outlinewidth": 0,
              "ticks": ""
             }
            },
            "type": "scatterternary"
           }
          ],
          "surface": [
           {
            "colorbar": {
             "outlinewidth": 0,
             "ticks": ""
            },
            "colorscale": [
             [
              0,
              "#0d0887"
             ],
             [
              0.1111111111111111,
              "#46039f"
             ],
             [
              0.2222222222222222,
              "#7201a8"
             ],
             [
              0.3333333333333333,
              "#9c179e"
             ],
             [
              0.4444444444444444,
              "#bd3786"
             ],
             [
              0.5555555555555556,
              "#d8576b"
             ],
             [
              0.6666666666666666,
              "#ed7953"
             ],
             [
              0.7777777777777778,
              "#fb9f3a"
             ],
             [
              0.8888888888888888,
              "#fdca26"
             ],
             [
              1,
              "#f0f921"
             ]
            ],
            "type": "surface"
           }
          ],
          "table": [
           {
            "cells": {
             "fill": {
              "color": "#EBF0F8"
             },
             "line": {
              "color": "white"
             }
            },
            "header": {
             "fill": {
              "color": "#C8D4E3"
             },
             "line": {
              "color": "white"
             }
            },
            "type": "table"
           }
          ]
         },
         "layout": {
          "annotationdefaults": {
           "arrowcolor": "#2a3f5f",
           "arrowhead": 0,
           "arrowwidth": 1
          },
          "coloraxis": {
           "colorbar": {
            "outlinewidth": 0,
            "ticks": ""
           }
          },
          "colorscale": {
           "diverging": [
            [
             0,
             "#8e0152"
            ],
            [
             0.1,
             "#c51b7d"
            ],
            [
             0.2,
             "#de77ae"
            ],
            [
             0.3,
             "#f1b6da"
            ],
            [
             0.4,
             "#fde0ef"
            ],
            [
             0.5,
             "#f7f7f7"
            ],
            [
             0.6,
             "#e6f5d0"
            ],
            [
             0.7,
             "#b8e186"
            ],
            [
             0.8,
             "#7fbc41"
            ],
            [
             0.9,
             "#4d9221"
            ],
            [
             1,
             "#276419"
            ]
           ],
           "sequential": [
            [
             0,
             "#0d0887"
            ],
            [
             0.1111111111111111,
             "#46039f"
            ],
            [
             0.2222222222222222,
             "#7201a8"
            ],
            [
             0.3333333333333333,
             "#9c179e"
            ],
            [
             0.4444444444444444,
             "#bd3786"
            ],
            [
             0.5555555555555556,
             "#d8576b"
            ],
            [
             0.6666666666666666,
             "#ed7953"
            ],
            [
             0.7777777777777778,
             "#fb9f3a"
            ],
            [
             0.8888888888888888,
             "#fdca26"
            ],
            [
             1,
             "#f0f921"
            ]
           ],
           "sequentialminus": [
            [
             0,
             "#0d0887"
            ],
            [
             0.1111111111111111,
             "#46039f"
            ],
            [
             0.2222222222222222,
             "#7201a8"
            ],
            [
             0.3333333333333333,
             "#9c179e"
            ],
            [
             0.4444444444444444,
             "#bd3786"
            ],
            [
             0.5555555555555556,
             "#d8576b"
            ],
            [
             0.6666666666666666,
             "#ed7953"
            ],
            [
             0.7777777777777778,
             "#fb9f3a"
            ],
            [
             0.8888888888888888,
             "#fdca26"
            ],
            [
             1,
             "#f0f921"
            ]
           ]
          },
          "colorway": [
           "#636efa",
           "#EF553B",
           "#00cc96",
           "#ab63fa",
           "#FFA15A",
           "#19d3f3",
           "#FF6692",
           "#B6E880",
           "#FF97FF",
           "#FECB52"
          ],
          "font": {
           "color": "#2a3f5f"
          },
          "geo": {
           "bgcolor": "white",
           "lakecolor": "white",
           "landcolor": "#E5ECF6",
           "showlakes": true,
           "showland": true,
           "subunitcolor": "white"
          },
          "hoverlabel": {
           "align": "left"
          },
          "hovermode": "closest",
          "mapbox": {
           "style": "light"
          },
          "paper_bgcolor": "white",
          "plot_bgcolor": "#E5ECF6",
          "polar": {
           "angularaxis": {
            "gridcolor": "white",
            "linecolor": "white",
            "ticks": ""
           },
           "bgcolor": "#E5ECF6",
           "radialaxis": {
            "gridcolor": "white",
            "linecolor": "white",
            "ticks": ""
           }
          },
          "scene": {
           "xaxis": {
            "backgroundcolor": "#E5ECF6",
            "gridcolor": "white",
            "gridwidth": 2,
            "linecolor": "white",
            "showbackground": true,
            "ticks": "",
            "zerolinecolor": "white"
           },
           "yaxis": {
            "backgroundcolor": "#E5ECF6",
            "gridcolor": "white",
            "gridwidth": 2,
            "linecolor": "white",
            "showbackground": true,
            "ticks": "",
            "zerolinecolor": "white"
           },
           "zaxis": {
            "backgroundcolor": "#E5ECF6",
            "gridcolor": "white",
            "gridwidth": 2,
            "linecolor": "white",
            "showbackground": true,
            "ticks": "",
            "zerolinecolor": "white"
           }
          },
          "shapedefaults": {
           "line": {
            "color": "#2a3f5f"
           }
          },
          "ternary": {
           "aaxis": {
            "gridcolor": "white",
            "linecolor": "white",
            "ticks": ""
           },
           "baxis": {
            "gridcolor": "white",
            "linecolor": "white",
            "ticks": ""
           },
           "bgcolor": "#E5ECF6",
           "caxis": {
            "gridcolor": "white",
            "linecolor": "white",
            "ticks": ""
           }
          },
          "title": {
           "x": 0.05
          },
          "xaxis": {
           "automargin": true,
           "gridcolor": "white",
           "linecolor": "white",
           "ticks": "",
           "title": {
            "standoff": 15
           },
           "zerolinecolor": "white",
           "zerolinewidth": 2
          },
          "yaxis": {
           "automargin": true,
           "gridcolor": "white",
           "linecolor": "white",
           "ticks": "",
           "title": {
            "standoff": 15
           },
           "zerolinecolor": "white",
           "zerolinewidth": 2
          }
         }
        }
       }
      },
      "text/html": [
       "<div>                            <div id=\"8dce20e0-870a-4ac3-bee4-06559f7ad633\" class=\"plotly-graph-div\" style=\"height:525px; width:100%;\"></div>            <script type=\"text/javascript\">                require([\"plotly\"], function(Plotly) {                    window.PLOTLYENV=window.PLOTLYENV || {};                                    if (document.getElementById(\"8dce20e0-870a-4ac3-bee4-06559f7ad633\")) {                    Plotly.newPlot(                        \"8dce20e0-870a-4ac3-bee4-06559f7ad633\",                        [{\"mode\": \"lines\", \"name\": \"Close\", \"type\": \"scatter\", \"x\": [\"2020-12-01\", \"2020-12-02\", \"2020-12-03\", \"2020-12-04\", \"2020-12-07\", \"2020-12-08\", \"2020-12-09\", \"2020-12-10\", \"2020-12-11\", \"2020-12-14\", \"2020-12-15\", \"2020-12-16\", \"2020-12-17\", \"2020-12-18\", \"2020-12-21\", \"2020-12-22\", \"2020-12-23\", \"2020-12-24\", \"2020-12-28\", \"2020-12-29\", \"2020-12-30\", \"2020-12-31\"], \"y\": [\"49.619998931884766\", \"50.86000061035156\", \"51.36000061035156\", \"52.279998779296875\", \"50.709999084472656\", \"50.77000045776367\", \"50.04999923706055\", \"49.81999969482422\", \"48.77000045776367\", \"47.81999969482422\", \"48.34000015258789\", \"48.220001220703125\", \"48.400001525878906\", \"47.95000076293945\", \"47.5\", \"47.400001525878906\", \"48.540000915527344\", \"48.47999954223633\", \"48.68000030517578\", \"48.38999938964844\", \"48.779998779296875\", \"49.61000061035156\"]}, {\"mode\": \"lines\", \"name\": \"Upper Bollinger\\u2122\", \"type\": \"scatter\", \"x\": [\"2020-12-01\", \"2020-12-02\", \"2020-12-03\", \"2020-12-04\", \"2020-12-07\", \"2020-12-08\", \"2020-12-09\", \"2020-12-10\", \"2020-12-11\", \"2020-12-14\", \"2020-12-15\", \"2020-12-16\", \"2020-12-17\", \"2020-12-18\", \"2020-12-21\", \"2020-12-22\", \"2020-12-23\", \"2020-12-24\", \"2020-12-28\", \"2020-12-29\", \"2020-12-30\", \"2020-12-31\"], \"y\": [54.47726194541548, 54.38062634028297, 54.47984799622677, 54.54489744205192, 54.418493963794134, 53.724929103516246, 53.77313914179415, 53.77222607686602, 53.525164344711776, 53.01320134845155, 52.7483583513066, 52.75612098278951, 52.782892258777416, 52.84039001704458, 52.9309320435057, 53.017478056548924, 52.94041747420902, 52.51284534102587, 52.15952942974622, 51.89066156702106, 51.83657702669592, 51.83578774428078]}, {\"mode\": \"lines\", \"name\": \"Lower Bollinger\\u2122\", \"type\": \"scatter\", \"x\": [\"2020-12-01\", \"2020-12-02\", \"2020-12-03\", \"2020-12-04\", \"2020-12-07\", \"2020-12-08\", \"2020-12-09\", \"2020-12-10\", \"2020-12-11\", \"2020-12-14\", \"2020-12-15\", \"2020-12-16\", \"2020-12-17\", \"2020-12-18\", \"2020-12-21\", \"2020-12-22\", \"2020-12-23\", \"2020-12-24\", \"2020-12-28\", \"2020-12-29\", \"2020-12-30\", \"2020-12-31\"], \"y\": [39.733214157867636, 40.8917546702267, 41.70300933554871, 42.64367394292297, 43.50341082717499, 45.09221392801277, 45.2735276847265, 45.520154846450566, 46.07388336152892, 46.89346536181166, 47.35259416043541, 47.335307864750476, 47.252346098039915, 47.09580063353206, 46.869068101816104, 46.63014128171372, 46.507202009375426, 46.54239329190289, 46.57951875605642, 46.561719748664395, 46.51961360934854, 46.51945067066528]}],                        {\"template\": {\"data\": {\"bar\": [{\"error_x\": {\"color\": \"#2a3f5f\"}, \"error_y\": {\"color\": \"#2a3f5f\"}, \"marker\": {\"line\": {\"color\": \"#E5ECF6\", \"width\": 0.5}}, \"type\": \"bar\"}], \"barpolar\": [{\"marker\": {\"line\": {\"color\": \"#E5ECF6\", \"width\": 0.5}}, \"type\": \"barpolar\"}], \"carpet\": [{\"aaxis\": {\"endlinecolor\": \"#2a3f5f\", \"gridcolor\": \"white\", \"linecolor\": \"white\", \"minorgridcolor\": \"white\", \"startlinecolor\": \"#2a3f5f\"}, \"baxis\": {\"endlinecolor\": \"#2a3f5f\", \"gridcolor\": \"white\", \"linecolor\": \"white\", \"minorgridcolor\": \"white\", \"startlinecolor\": \"#2a3f5f\"}, \"type\": \"carpet\"}], \"choropleth\": [{\"colorbar\": {\"outlinewidth\": 0, \"ticks\": \"\"}, \"type\": \"choropleth\"}], \"contour\": [{\"colorbar\": {\"outlinewidth\": 0, \"ticks\": \"\"}, \"colorscale\": [[0.0, \"#0d0887\"], [0.1111111111111111, \"#46039f\"], [0.2222222222222222, \"#7201a8\"], [0.3333333333333333, \"#9c179e\"], [0.4444444444444444, \"#bd3786\"], [0.5555555555555556, \"#d8576b\"], [0.6666666666666666, \"#ed7953\"], [0.7777777777777778, \"#fb9f3a\"], [0.8888888888888888, \"#fdca26\"], [1.0, \"#f0f921\"]], \"type\": \"contour\"}], \"contourcarpet\": [{\"colorbar\": {\"outlinewidth\": 0, \"ticks\": \"\"}, \"type\": \"contourcarpet\"}], \"heatmap\": [{\"colorbar\": {\"outlinewidth\": 0, \"ticks\": \"\"}, \"colorscale\": [[0.0, \"#0d0887\"], [0.1111111111111111, \"#46039f\"], [0.2222222222222222, \"#7201a8\"], [0.3333333333333333, \"#9c179e\"], [0.4444444444444444, \"#bd3786\"], [0.5555555555555556, \"#d8576b\"], [0.6666666666666666, \"#ed7953\"], [0.7777777777777778, \"#fb9f3a\"], [0.8888888888888888, \"#fdca26\"], [1.0, \"#f0f921\"]], \"type\": \"heatmap\"}], \"heatmapgl\": [{\"colorbar\": {\"outlinewidth\": 0, \"ticks\": \"\"}, \"colorscale\": [[0.0, \"#0d0887\"], [0.1111111111111111, \"#46039f\"], [0.2222222222222222, \"#7201a8\"], [0.3333333333333333, \"#9c179e\"], [0.4444444444444444, \"#bd3786\"], [0.5555555555555556, \"#d8576b\"], [0.6666666666666666, \"#ed7953\"], [0.7777777777777778, \"#fb9f3a\"], [0.8888888888888888, \"#fdca26\"], [1.0, \"#f0f921\"]], \"type\": \"heatmapgl\"}], \"histogram\": [{\"marker\": {\"colorbar\": {\"outlinewidth\": 0, \"ticks\": \"\"}}, \"type\": \"histogram\"}], \"histogram2d\": [{\"colorbar\": {\"outlinewidth\": 0, \"ticks\": \"\"}, \"colorscale\": [[0.0, \"#0d0887\"], [0.1111111111111111, \"#46039f\"], [0.2222222222222222, \"#7201a8\"], [0.3333333333333333, \"#9c179e\"], [0.4444444444444444, \"#bd3786\"], [0.5555555555555556, \"#d8576b\"], [0.6666666666666666, \"#ed7953\"], [0.7777777777777778, \"#fb9f3a\"], [0.8888888888888888, \"#fdca26\"], [1.0, \"#f0f921\"]], \"type\": \"histogram2d\"}], \"histogram2dcontour\": [{\"colorbar\": {\"outlinewidth\": 0, \"ticks\": \"\"}, \"colorscale\": [[0.0, \"#0d0887\"], [0.1111111111111111, \"#46039f\"], [0.2222222222222222, \"#7201a8\"], [0.3333333333333333, \"#9c179e\"], [0.4444444444444444, \"#bd3786\"], [0.5555555555555556, \"#d8576b\"], [0.6666666666666666, \"#ed7953\"], [0.7777777777777778, \"#fb9f3a\"], [0.8888888888888888, \"#fdca26\"], [1.0, \"#f0f921\"]], \"type\": \"histogram2dcontour\"}], \"mesh3d\": [{\"colorbar\": {\"outlinewidth\": 0, \"ticks\": \"\"}, \"type\": \"mesh3d\"}], \"parcoords\": [{\"line\": {\"colorbar\": {\"outlinewidth\": 0, \"ticks\": \"\"}}, \"type\": \"parcoords\"}], \"pie\": [{\"automargin\": true, \"type\": \"pie\"}], \"scatter\": [{\"marker\": {\"colorbar\": {\"outlinewidth\": 0, \"ticks\": \"\"}}, \"type\": \"scatter\"}], \"scatter3d\": [{\"line\": {\"colorbar\": {\"outlinewidth\": 0, \"ticks\": \"\"}}, \"marker\": {\"colorbar\": {\"outlinewidth\": 0, \"ticks\": \"\"}}, \"type\": \"scatter3d\"}], \"scattercarpet\": [{\"marker\": {\"colorbar\": {\"outlinewidth\": 0, \"ticks\": \"\"}}, \"type\": \"scattercarpet\"}], \"scattergeo\": [{\"marker\": {\"colorbar\": {\"outlinewidth\": 0, \"ticks\": \"\"}}, \"type\": \"scattergeo\"}], \"scattergl\": [{\"marker\": {\"colorbar\": {\"outlinewidth\": 0, \"ticks\": \"\"}}, \"type\": \"scattergl\"}], \"scattermapbox\": [{\"marker\": {\"colorbar\": {\"outlinewidth\": 0, \"ticks\": \"\"}}, \"type\": \"scattermapbox\"}], \"scatterpolar\": [{\"marker\": {\"colorbar\": {\"outlinewidth\": 0, \"ticks\": \"\"}}, \"type\": \"scatterpolar\"}], \"scatterpolargl\": [{\"marker\": {\"colorbar\": {\"outlinewidth\": 0, \"ticks\": \"\"}}, \"type\": \"scatterpolargl\"}], \"scatterternary\": [{\"marker\": {\"colorbar\": {\"outlinewidth\": 0, \"ticks\": \"\"}}, \"type\": \"scatterternary\"}], \"surface\": [{\"colorbar\": {\"outlinewidth\": 0, \"ticks\": \"\"}, \"colorscale\": [[0.0, \"#0d0887\"], [0.1111111111111111, \"#46039f\"], [0.2222222222222222, \"#7201a8\"], [0.3333333333333333, \"#9c179e\"], [0.4444444444444444, \"#bd3786\"], [0.5555555555555556, \"#d8576b\"], [0.6666666666666666, \"#ed7953\"], [0.7777777777777778, \"#fb9f3a\"], [0.8888888888888888, \"#fdca26\"], [1.0, \"#f0f921\"]], \"type\": \"surface\"}], \"table\": [{\"cells\": {\"fill\": {\"color\": \"#EBF0F8\"}, \"line\": {\"color\": \"white\"}}, \"header\": {\"fill\": {\"color\": \"#C8D4E3\"}, \"line\": {\"color\": \"white\"}}, \"type\": \"table\"}]}, \"layout\": {\"annotationdefaults\": {\"arrowcolor\": \"#2a3f5f\", \"arrowhead\": 0, \"arrowwidth\": 1}, \"coloraxis\": {\"colorbar\": {\"outlinewidth\": 0, \"ticks\": \"\"}}, \"colorscale\": {\"diverging\": [[0, \"#8e0152\"], [0.1, \"#c51b7d\"], [0.2, \"#de77ae\"], [0.3, \"#f1b6da\"], [0.4, \"#fde0ef\"], [0.5, \"#f7f7f7\"], [0.6, \"#e6f5d0\"], [0.7, \"#b8e186\"], [0.8, \"#7fbc41\"], [0.9, \"#4d9221\"], [1, \"#276419\"]], \"sequential\": [[0.0, \"#0d0887\"], [0.1111111111111111, \"#46039f\"], [0.2222222222222222, \"#7201a8\"], [0.3333333333333333, \"#9c179e\"], [0.4444444444444444, \"#bd3786\"], [0.5555555555555556, \"#d8576b\"], [0.6666666666666666, \"#ed7953\"], [0.7777777777777778, \"#fb9f3a\"], [0.8888888888888888, \"#fdca26\"], [1.0, \"#f0f921\"]], \"sequentialminus\": [[0.0, \"#0d0887\"], [0.1111111111111111, \"#46039f\"], [0.2222222222222222, \"#7201a8\"], [0.3333333333333333, \"#9c179e\"], [0.4444444444444444, \"#bd3786\"], [0.5555555555555556, \"#d8576b\"], [0.6666666666666666, \"#ed7953\"], [0.7777777777777778, \"#fb9f3a\"], [0.8888888888888888, \"#fdca26\"], [1.0, \"#f0f921\"]]}, \"colorway\": [\"#636efa\", \"#EF553B\", \"#00cc96\", \"#ab63fa\", \"#FFA15A\", \"#19d3f3\", \"#FF6692\", \"#B6E880\", \"#FF97FF\", \"#FECB52\"], \"font\": {\"color\": \"#2a3f5f\"}, \"geo\": {\"bgcolor\": \"white\", \"lakecolor\": \"white\", \"landcolor\": \"#E5ECF6\", \"showlakes\": true, \"showland\": true, \"subunitcolor\": \"white\"}, \"hoverlabel\": {\"align\": \"left\"}, \"hovermode\": \"closest\", \"mapbox\": {\"style\": \"light\"}, \"paper_bgcolor\": \"white\", \"plot_bgcolor\": \"#E5ECF6\", \"polar\": {\"angularaxis\": {\"gridcolor\": \"white\", \"linecolor\": \"white\", \"ticks\": \"\"}, \"bgcolor\": \"#E5ECF6\", \"radialaxis\": {\"gridcolor\": \"white\", \"linecolor\": \"white\", \"ticks\": \"\"}}, \"scene\": {\"xaxis\": {\"backgroundcolor\": \"#E5ECF6\", \"gridcolor\": \"white\", \"gridwidth\": 2, \"linecolor\": \"white\", \"showbackground\": true, \"ticks\": \"\", \"zerolinecolor\": \"white\"}, \"yaxis\": {\"backgroundcolor\": \"#E5ECF6\", \"gridcolor\": \"white\", \"gridwidth\": 2, \"linecolor\": \"white\", \"showbackground\": true, \"ticks\": \"\", \"zerolinecolor\": \"white\"}, \"zaxis\": {\"backgroundcolor\": \"#E5ECF6\", \"gridcolor\": \"white\", \"gridwidth\": 2, \"linecolor\": \"white\", \"showbackground\": true, \"ticks\": \"\", \"zerolinecolor\": \"white\"}}, \"shapedefaults\": {\"line\": {\"color\": \"#2a3f5f\"}}, \"ternary\": {\"aaxis\": {\"gridcolor\": \"white\", \"linecolor\": \"white\", \"ticks\": \"\"}, \"baxis\": {\"gridcolor\": \"white\", \"linecolor\": \"white\", \"ticks\": \"\"}, \"bgcolor\": \"#E5ECF6\", \"caxis\": {\"gridcolor\": \"white\", \"linecolor\": \"white\", \"ticks\": \"\"}}, \"title\": {\"x\": 0.05}, \"xaxis\": {\"automargin\": true, \"gridcolor\": \"white\", \"linecolor\": \"white\", \"ticks\": \"\", \"title\": {\"standoff\": 15}, \"zerolinecolor\": \"white\", \"zerolinewidth\": 2}, \"yaxis\": {\"automargin\": true, \"gridcolor\": \"white\", \"linecolor\": \"white\", \"ticks\": \"\", \"title\": {\"standoff\": 15}, \"zerolinecolor\": \"white\", \"zerolinewidth\": 2}}}},                        {\"responsive\": true}                    ).then(function(){\n",
       "                            \n",
       "var gd = document.getElementById('8dce20e0-870a-4ac3-bee4-06559f7ad633');\n",
       "var x = new MutationObserver(function (mutations, observer) {{\n",
       "        var display = window.getComputedStyle(gd).display;\n",
       "        if (!display || display === 'none') {{\n",
       "            console.log([gd, 'removed!']);\n",
       "            Plotly.purge(gd);\n",
       "            observer.disconnect();\n",
       "        }}\n",
       "}});\n",
       "\n",
       "// Listen for the removal of the full notebook cells\n",
       "var notebookContainer = gd.closest('#notebook-container');\n",
       "if (notebookContainer) {{\n",
       "    x.observe(notebookContainer, {childList: true});\n",
       "}}\n",
       "\n",
       "// Listen for the clearing of the current output cell\n",
       "var outputEl = gd.closest('.output');\n",
       "if (outputEl) {{\n",
       "    x.observe(outputEl, {childList: true});\n",
       "}}\n",
       "\n",
       "                        })                };                });            </script>        </div>"
      ]
     },
     "metadata": {},
     "output_type": "display_data"
    }
   ],
   "source": [
    "%matplotlib inline\n",
    "## plot bollinger™ bands\n",
    "fig = go.Figure()\n",
    "fig.add_trace(go.Scatter(x=PFG.Date, y=PFG.Close,\n",
    "                    mode='lines',\n",
    "                    name='Close'))\n",
    "fig.add_trace(go.Scatter(x=PFG.Date, y=PFG.Upper,\n",
    "                    mode='lines',\n",
    "                    name='Upper Bollinger™'))\n",
    "fig.add_trace(go.Scatter(x=PFG.Date, y=PFG.Lower,\n",
    "                    mode='lines',\n",
    "                    name='Lower Bollinger™'))"
   ]
  },
  {
   "cell_type": "code",
   "execution_count": 30,
   "metadata": {},
   "outputs": [
    {
     "data": {
      "application/vnd.plotly.v1+json": {
       "config": {
        "plotlyServerURL": "https://plot.ly"
       },
       "data": [
        {
         "mode": "lines",
         "name": "DailyReturn",
         "type": "scatter",
         "x": [
          "2020-12-01",
          "2020-12-02",
          "2020-12-03",
          "2020-12-04",
          "2020-12-07",
          "2020-12-08",
          "2020-12-09",
          "2020-12-10",
          "2020-12-11",
          "2020-12-14",
          "2020-12-15",
          "2020-12-16",
          "2020-12-17",
          "2020-12-18",
          "2020-12-21",
          "2020-12-22",
          "2020-12-23",
          "2020-12-24",
          "2020-12-28",
          "2020-12-29",
          "2020-12-30",
          "2020-12-31"
         ],
         "y": [
          -0.0034260779383721114,
          0.02438068548143939,
          0.009735202376520717,
          0.01759751703187943,
          -0.030960357388469188,
          0.0011818273143592282,
          -0.014385638994575355,
          -0.004616610671320873,
          -0.02152961302450425,
          -0.0198661808657911,
          0.010757146382338883,
          -0.002488571730546627,
          0.003719014452500321,
          -0.009384791569956733,
          -0.00947370027240954,
          -0.0021096723818985054,
          0.023485771902483955,
          -0.001237652101022438,
          0.004108479081463534,
          -0.00599299275026196,
          0.007995067638541237,
          0.016730534586639378
         ]
        }
       ],
       "layout": {
        "template": {
         "data": {
          "bar": [
           {
            "error_x": {
             "color": "#2a3f5f"
            },
            "error_y": {
             "color": "#2a3f5f"
            },
            "marker": {
             "line": {
              "color": "#E5ECF6",
              "width": 0.5
             }
            },
            "type": "bar"
           }
          ],
          "barpolar": [
           {
            "marker": {
             "line": {
              "color": "#E5ECF6",
              "width": 0.5
             }
            },
            "type": "barpolar"
           }
          ],
          "carpet": [
           {
            "aaxis": {
             "endlinecolor": "#2a3f5f",
             "gridcolor": "white",
             "linecolor": "white",
             "minorgridcolor": "white",
             "startlinecolor": "#2a3f5f"
            },
            "baxis": {
             "endlinecolor": "#2a3f5f",
             "gridcolor": "white",
             "linecolor": "white",
             "minorgridcolor": "white",
             "startlinecolor": "#2a3f5f"
            },
            "type": "carpet"
           }
          ],
          "choropleth": [
           {
            "colorbar": {
             "outlinewidth": 0,
             "ticks": ""
            },
            "type": "choropleth"
           }
          ],
          "contour": [
           {
            "colorbar": {
             "outlinewidth": 0,
             "ticks": ""
            },
            "colorscale": [
             [
              0,
              "#0d0887"
             ],
             [
              0.1111111111111111,
              "#46039f"
             ],
             [
              0.2222222222222222,
              "#7201a8"
             ],
             [
              0.3333333333333333,
              "#9c179e"
             ],
             [
              0.4444444444444444,
              "#bd3786"
             ],
             [
              0.5555555555555556,
              "#d8576b"
             ],
             [
              0.6666666666666666,
              "#ed7953"
             ],
             [
              0.7777777777777778,
              "#fb9f3a"
             ],
             [
              0.8888888888888888,
              "#fdca26"
             ],
             [
              1,
              "#f0f921"
             ]
            ],
            "type": "contour"
           }
          ],
          "contourcarpet": [
           {
            "colorbar": {
             "outlinewidth": 0,
             "ticks": ""
            },
            "type": "contourcarpet"
           }
          ],
          "heatmap": [
           {
            "colorbar": {
             "outlinewidth": 0,
             "ticks": ""
            },
            "colorscale": [
             [
              0,
              "#0d0887"
             ],
             [
              0.1111111111111111,
              "#46039f"
             ],
             [
              0.2222222222222222,
              "#7201a8"
             ],
             [
              0.3333333333333333,
              "#9c179e"
             ],
             [
              0.4444444444444444,
              "#bd3786"
             ],
             [
              0.5555555555555556,
              "#d8576b"
             ],
             [
              0.6666666666666666,
              "#ed7953"
             ],
             [
              0.7777777777777778,
              "#fb9f3a"
             ],
             [
              0.8888888888888888,
              "#fdca26"
             ],
             [
              1,
              "#f0f921"
             ]
            ],
            "type": "heatmap"
           }
          ],
          "heatmapgl": [
           {
            "colorbar": {
             "outlinewidth": 0,
             "ticks": ""
            },
            "colorscale": [
             [
              0,
              "#0d0887"
             ],
             [
              0.1111111111111111,
              "#46039f"
             ],
             [
              0.2222222222222222,
              "#7201a8"
             ],
             [
              0.3333333333333333,
              "#9c179e"
             ],
             [
              0.4444444444444444,
              "#bd3786"
             ],
             [
              0.5555555555555556,
              "#d8576b"
             ],
             [
              0.6666666666666666,
              "#ed7953"
             ],
             [
              0.7777777777777778,
              "#fb9f3a"
             ],
             [
              0.8888888888888888,
              "#fdca26"
             ],
             [
              1,
              "#f0f921"
             ]
            ],
            "type": "heatmapgl"
           }
          ],
          "histogram": [
           {
            "marker": {
             "colorbar": {
              "outlinewidth": 0,
              "ticks": ""
             }
            },
            "type": "histogram"
           }
          ],
          "histogram2d": [
           {
            "colorbar": {
             "outlinewidth": 0,
             "ticks": ""
            },
            "colorscale": [
             [
              0,
              "#0d0887"
             ],
             [
              0.1111111111111111,
              "#46039f"
             ],
             [
              0.2222222222222222,
              "#7201a8"
             ],
             [
              0.3333333333333333,
              "#9c179e"
             ],
             [
              0.4444444444444444,
              "#bd3786"
             ],
             [
              0.5555555555555556,
              "#d8576b"
             ],
             [
              0.6666666666666666,
              "#ed7953"
             ],
             [
              0.7777777777777778,
              "#fb9f3a"
             ],
             [
              0.8888888888888888,
              "#fdca26"
             ],
             [
              1,
              "#f0f921"
             ]
            ],
            "type": "histogram2d"
           }
          ],
          "histogram2dcontour": [
           {
            "colorbar": {
             "outlinewidth": 0,
             "ticks": ""
            },
            "colorscale": [
             [
              0,
              "#0d0887"
             ],
             [
              0.1111111111111111,
              "#46039f"
             ],
             [
              0.2222222222222222,
              "#7201a8"
             ],
             [
              0.3333333333333333,
              "#9c179e"
             ],
             [
              0.4444444444444444,
              "#bd3786"
             ],
             [
              0.5555555555555556,
              "#d8576b"
             ],
             [
              0.6666666666666666,
              "#ed7953"
             ],
             [
              0.7777777777777778,
              "#fb9f3a"
             ],
             [
              0.8888888888888888,
              "#fdca26"
             ],
             [
              1,
              "#f0f921"
             ]
            ],
            "type": "histogram2dcontour"
           }
          ],
          "mesh3d": [
           {
            "colorbar": {
             "outlinewidth": 0,
             "ticks": ""
            },
            "type": "mesh3d"
           }
          ],
          "parcoords": [
           {
            "line": {
             "colorbar": {
              "outlinewidth": 0,
              "ticks": ""
             }
            },
            "type": "parcoords"
           }
          ],
          "pie": [
           {
            "automargin": true,
            "type": "pie"
           }
          ],
          "scatter": [
           {
            "marker": {
             "colorbar": {
              "outlinewidth": 0,
              "ticks": ""
             }
            },
            "type": "scatter"
           }
          ],
          "scatter3d": [
           {
            "line": {
             "colorbar": {
              "outlinewidth": 0,
              "ticks": ""
             }
            },
            "marker": {
             "colorbar": {
              "outlinewidth": 0,
              "ticks": ""
             }
            },
            "type": "scatter3d"
           }
          ],
          "scattercarpet": [
           {
            "marker": {
             "colorbar": {
              "outlinewidth": 0,
              "ticks": ""
             }
            },
            "type": "scattercarpet"
           }
          ],
          "scattergeo": [
           {
            "marker": {
             "colorbar": {
              "outlinewidth": 0,
              "ticks": ""
             }
            },
            "type": "scattergeo"
           }
          ],
          "scattergl": [
           {
            "marker": {
             "colorbar": {
              "outlinewidth": 0,
              "ticks": ""
             }
            },
            "type": "scattergl"
           }
          ],
          "scattermapbox": [
           {
            "marker": {
             "colorbar": {
              "outlinewidth": 0,
              "ticks": ""
             }
            },
            "type": "scattermapbox"
           }
          ],
          "scatterpolar": [
           {
            "marker": {
             "colorbar": {
              "outlinewidth": 0,
              "ticks": ""
             }
            },
            "type": "scatterpolar"
           }
          ],
          "scatterpolargl": [
           {
            "marker": {
             "colorbar": {
              "outlinewidth": 0,
              "ticks": ""
             }
            },
            "type": "scatterpolargl"
           }
          ],
          "scatterternary": [
           {
            "marker": {
             "colorbar": {
              "outlinewidth": 0,
              "ticks": ""
             }
            },
            "type": "scatterternary"
           }
          ],
          "surface": [
           {
            "colorbar": {
             "outlinewidth": 0,
             "ticks": ""
            },
            "colorscale": [
             [
              0,
              "#0d0887"
             ],
             [
              0.1111111111111111,
              "#46039f"
             ],
             [
              0.2222222222222222,
              "#7201a8"
             ],
             [
              0.3333333333333333,
              "#9c179e"
             ],
             [
              0.4444444444444444,
              "#bd3786"
             ],
             [
              0.5555555555555556,
              "#d8576b"
             ],
             [
              0.6666666666666666,
              "#ed7953"
             ],
             [
              0.7777777777777778,
              "#fb9f3a"
             ],
             [
              0.8888888888888888,
              "#fdca26"
             ],
             [
              1,
              "#f0f921"
             ]
            ],
            "type": "surface"
           }
          ],
          "table": [
           {
            "cells": {
             "fill": {
              "color": "#EBF0F8"
             },
             "line": {
              "color": "white"
             }
            },
            "header": {
             "fill": {
              "color": "#C8D4E3"
             },
             "line": {
              "color": "white"
             }
            },
            "type": "table"
           }
          ]
         },
         "layout": {
          "annotationdefaults": {
           "arrowcolor": "#2a3f5f",
           "arrowhead": 0,
           "arrowwidth": 1
          },
          "coloraxis": {
           "colorbar": {
            "outlinewidth": 0,
            "ticks": ""
           }
          },
          "colorscale": {
           "diverging": [
            [
             0,
             "#8e0152"
            ],
            [
             0.1,
             "#c51b7d"
            ],
            [
             0.2,
             "#de77ae"
            ],
            [
             0.3,
             "#f1b6da"
            ],
            [
             0.4,
             "#fde0ef"
            ],
            [
             0.5,
             "#f7f7f7"
            ],
            [
             0.6,
             "#e6f5d0"
            ],
            [
             0.7,
             "#b8e186"
            ],
            [
             0.8,
             "#7fbc41"
            ],
            [
             0.9,
             "#4d9221"
            ],
            [
             1,
             "#276419"
            ]
           ],
           "sequential": [
            [
             0,
             "#0d0887"
            ],
            [
             0.1111111111111111,
             "#46039f"
            ],
            [
             0.2222222222222222,
             "#7201a8"
            ],
            [
             0.3333333333333333,
             "#9c179e"
            ],
            [
             0.4444444444444444,
             "#bd3786"
            ],
            [
             0.5555555555555556,
             "#d8576b"
            ],
            [
             0.6666666666666666,
             "#ed7953"
            ],
            [
             0.7777777777777778,
             "#fb9f3a"
            ],
            [
             0.8888888888888888,
             "#fdca26"
            ],
            [
             1,
             "#f0f921"
            ]
           ],
           "sequentialminus": [
            [
             0,
             "#0d0887"
            ],
            [
             0.1111111111111111,
             "#46039f"
            ],
            [
             0.2222222222222222,
             "#7201a8"
            ],
            [
             0.3333333333333333,
             "#9c179e"
            ],
            [
             0.4444444444444444,
             "#bd3786"
            ],
            [
             0.5555555555555556,
             "#d8576b"
            ],
            [
             0.6666666666666666,
             "#ed7953"
            ],
            [
             0.7777777777777778,
             "#fb9f3a"
            ],
            [
             0.8888888888888888,
             "#fdca26"
            ],
            [
             1,
             "#f0f921"
            ]
           ]
          },
          "colorway": [
           "#636efa",
           "#EF553B",
           "#00cc96",
           "#ab63fa",
           "#FFA15A",
           "#19d3f3",
           "#FF6692",
           "#B6E880",
           "#FF97FF",
           "#FECB52"
          ],
          "font": {
           "color": "#2a3f5f"
          },
          "geo": {
           "bgcolor": "white",
           "lakecolor": "white",
           "landcolor": "#E5ECF6",
           "showlakes": true,
           "showland": true,
           "subunitcolor": "white"
          },
          "hoverlabel": {
           "align": "left"
          },
          "hovermode": "closest",
          "mapbox": {
           "style": "light"
          },
          "paper_bgcolor": "white",
          "plot_bgcolor": "#E5ECF6",
          "polar": {
           "angularaxis": {
            "gridcolor": "white",
            "linecolor": "white",
            "ticks": ""
           },
           "bgcolor": "#E5ECF6",
           "radialaxis": {
            "gridcolor": "white",
            "linecolor": "white",
            "ticks": ""
           }
          },
          "scene": {
           "xaxis": {
            "backgroundcolor": "#E5ECF6",
            "gridcolor": "white",
            "gridwidth": 2,
            "linecolor": "white",
            "showbackground": true,
            "ticks": "",
            "zerolinecolor": "white"
           },
           "yaxis": {
            "backgroundcolor": "#E5ECF6",
            "gridcolor": "white",
            "gridwidth": 2,
            "linecolor": "white",
            "showbackground": true,
            "ticks": "",
            "zerolinecolor": "white"
           },
           "zaxis": {
            "backgroundcolor": "#E5ECF6",
            "gridcolor": "white",
            "gridwidth": 2,
            "linecolor": "white",
            "showbackground": true,
            "ticks": "",
            "zerolinecolor": "white"
           }
          },
          "shapedefaults": {
           "line": {
            "color": "#2a3f5f"
           }
          },
          "ternary": {
           "aaxis": {
            "gridcolor": "white",
            "linecolor": "white",
            "ticks": ""
           },
           "baxis": {
            "gridcolor": "white",
            "linecolor": "white",
            "ticks": ""
           },
           "bgcolor": "#E5ECF6",
           "caxis": {
            "gridcolor": "white",
            "linecolor": "white",
            "ticks": ""
           }
          },
          "title": {
           "x": 0.05
          },
          "xaxis": {
           "automargin": true,
           "gridcolor": "white",
           "linecolor": "white",
           "ticks": "",
           "title": {
            "standoff": 15
           },
           "zerolinecolor": "white",
           "zerolinewidth": 2
          },
          "yaxis": {
           "automargin": true,
           "gridcolor": "white",
           "linecolor": "white",
           "ticks": "",
           "title": {
            "standoff": 15
           },
           "zerolinecolor": "white",
           "zerolinewidth": 2
          }
         }
        }
       }
      },
      "text/html": [
       "<div>                            <div id=\"7aebc57e-2533-489b-a171-ee2d700ae8b3\" class=\"plotly-graph-div\" style=\"height:525px; width:100%;\"></div>            <script type=\"text/javascript\">                require([\"plotly\"], function(Plotly) {                    window.PLOTLYENV=window.PLOTLYENV || {};                                    if (document.getElementById(\"7aebc57e-2533-489b-a171-ee2d700ae8b3\")) {                    Plotly.newPlot(                        \"7aebc57e-2533-489b-a171-ee2d700ae8b3\",                        [{\"mode\": \"lines\", \"name\": \"DailyReturn\", \"type\": \"scatter\", \"x\": [\"2020-12-01\", \"2020-12-02\", \"2020-12-03\", \"2020-12-04\", \"2020-12-07\", \"2020-12-08\", \"2020-12-09\", \"2020-12-10\", \"2020-12-11\", \"2020-12-14\", \"2020-12-15\", \"2020-12-16\", \"2020-12-17\", \"2020-12-18\", \"2020-12-21\", \"2020-12-22\", \"2020-12-23\", \"2020-12-24\", \"2020-12-28\", \"2020-12-29\", \"2020-12-30\", \"2020-12-31\"], \"y\": [-0.0034260779383721114, 0.02438068548143939, 0.009735202376520717, 0.01759751703187943, -0.030960357388469188, 0.0011818273143592282, -0.014385638994575355, -0.004616610671320873, -0.02152961302450425, -0.0198661808657911, 0.010757146382338883, -0.002488571730546627, 0.003719014452500321, -0.009384791569956733, -0.00947370027240954, -0.0021096723818985054, 0.023485771902483955, -0.001237652101022438, 0.004108479081463534, -0.00599299275026196, 0.007995067638541237, 0.016730534586639378]}],                        {\"template\": {\"data\": {\"bar\": [{\"error_x\": {\"color\": \"#2a3f5f\"}, \"error_y\": {\"color\": \"#2a3f5f\"}, \"marker\": {\"line\": {\"color\": \"#E5ECF6\", \"width\": 0.5}}, \"type\": \"bar\"}], \"barpolar\": [{\"marker\": {\"line\": {\"color\": \"#E5ECF6\", \"width\": 0.5}}, \"type\": \"barpolar\"}], \"carpet\": [{\"aaxis\": {\"endlinecolor\": \"#2a3f5f\", \"gridcolor\": \"white\", \"linecolor\": \"white\", \"minorgridcolor\": \"white\", \"startlinecolor\": \"#2a3f5f\"}, \"baxis\": {\"endlinecolor\": \"#2a3f5f\", \"gridcolor\": \"white\", \"linecolor\": \"white\", \"minorgridcolor\": \"white\", \"startlinecolor\": \"#2a3f5f\"}, \"type\": \"carpet\"}], \"choropleth\": [{\"colorbar\": {\"outlinewidth\": 0, \"ticks\": \"\"}, \"type\": \"choropleth\"}], \"contour\": [{\"colorbar\": {\"outlinewidth\": 0, \"ticks\": \"\"}, \"colorscale\": [[0.0, \"#0d0887\"], [0.1111111111111111, \"#46039f\"], [0.2222222222222222, \"#7201a8\"], [0.3333333333333333, \"#9c179e\"], [0.4444444444444444, \"#bd3786\"], [0.5555555555555556, \"#d8576b\"], [0.6666666666666666, \"#ed7953\"], [0.7777777777777778, \"#fb9f3a\"], [0.8888888888888888, \"#fdca26\"], [1.0, \"#f0f921\"]], \"type\": \"contour\"}], \"contourcarpet\": [{\"colorbar\": {\"outlinewidth\": 0, \"ticks\": \"\"}, \"type\": \"contourcarpet\"}], \"heatmap\": [{\"colorbar\": {\"outlinewidth\": 0, \"ticks\": \"\"}, \"colorscale\": [[0.0, \"#0d0887\"], [0.1111111111111111, \"#46039f\"], [0.2222222222222222, \"#7201a8\"], [0.3333333333333333, \"#9c179e\"], [0.4444444444444444, \"#bd3786\"], [0.5555555555555556, \"#d8576b\"], [0.6666666666666666, \"#ed7953\"], [0.7777777777777778, \"#fb9f3a\"], [0.8888888888888888, \"#fdca26\"], [1.0, \"#f0f921\"]], \"type\": \"heatmap\"}], \"heatmapgl\": [{\"colorbar\": {\"outlinewidth\": 0, \"ticks\": \"\"}, \"colorscale\": [[0.0, \"#0d0887\"], [0.1111111111111111, \"#46039f\"], [0.2222222222222222, \"#7201a8\"], [0.3333333333333333, \"#9c179e\"], [0.4444444444444444, \"#bd3786\"], [0.5555555555555556, \"#d8576b\"], [0.6666666666666666, \"#ed7953\"], [0.7777777777777778, \"#fb9f3a\"], [0.8888888888888888, \"#fdca26\"], [1.0, \"#f0f921\"]], \"type\": \"heatmapgl\"}], \"histogram\": [{\"marker\": {\"colorbar\": {\"outlinewidth\": 0, \"ticks\": \"\"}}, \"type\": \"histogram\"}], \"histogram2d\": [{\"colorbar\": {\"outlinewidth\": 0, \"ticks\": \"\"}, \"colorscale\": [[0.0, \"#0d0887\"], [0.1111111111111111, \"#46039f\"], [0.2222222222222222, \"#7201a8\"], [0.3333333333333333, \"#9c179e\"], [0.4444444444444444, \"#bd3786\"], [0.5555555555555556, \"#d8576b\"], [0.6666666666666666, \"#ed7953\"], [0.7777777777777778, \"#fb9f3a\"], [0.8888888888888888, \"#fdca26\"], [1.0, \"#f0f921\"]], \"type\": \"histogram2d\"}], \"histogram2dcontour\": [{\"colorbar\": {\"outlinewidth\": 0, \"ticks\": \"\"}, \"colorscale\": [[0.0, \"#0d0887\"], [0.1111111111111111, \"#46039f\"], [0.2222222222222222, \"#7201a8\"], [0.3333333333333333, \"#9c179e\"], [0.4444444444444444, \"#bd3786\"], [0.5555555555555556, \"#d8576b\"], [0.6666666666666666, \"#ed7953\"], [0.7777777777777778, \"#fb9f3a\"], [0.8888888888888888, \"#fdca26\"], [1.0, \"#f0f921\"]], \"type\": \"histogram2dcontour\"}], \"mesh3d\": [{\"colorbar\": {\"outlinewidth\": 0, \"ticks\": \"\"}, \"type\": \"mesh3d\"}], \"parcoords\": [{\"line\": {\"colorbar\": {\"outlinewidth\": 0, \"ticks\": \"\"}}, \"type\": \"parcoords\"}], \"pie\": [{\"automargin\": true, \"type\": \"pie\"}], \"scatter\": [{\"marker\": {\"colorbar\": {\"outlinewidth\": 0, \"ticks\": \"\"}}, \"type\": \"scatter\"}], \"scatter3d\": [{\"line\": {\"colorbar\": {\"outlinewidth\": 0, \"ticks\": \"\"}}, \"marker\": {\"colorbar\": {\"outlinewidth\": 0, \"ticks\": \"\"}}, \"type\": \"scatter3d\"}], \"scattercarpet\": [{\"marker\": {\"colorbar\": {\"outlinewidth\": 0, \"ticks\": \"\"}}, \"type\": \"scattercarpet\"}], \"scattergeo\": [{\"marker\": {\"colorbar\": {\"outlinewidth\": 0, \"ticks\": \"\"}}, \"type\": \"scattergeo\"}], \"scattergl\": [{\"marker\": {\"colorbar\": {\"outlinewidth\": 0, \"ticks\": \"\"}}, \"type\": \"scattergl\"}], \"scattermapbox\": [{\"marker\": {\"colorbar\": {\"outlinewidth\": 0, \"ticks\": \"\"}}, \"type\": \"scattermapbox\"}], \"scatterpolar\": [{\"marker\": {\"colorbar\": {\"outlinewidth\": 0, \"ticks\": \"\"}}, \"type\": \"scatterpolar\"}], \"scatterpolargl\": [{\"marker\": {\"colorbar\": {\"outlinewidth\": 0, \"ticks\": \"\"}}, \"type\": \"scatterpolargl\"}], \"scatterternary\": [{\"marker\": {\"colorbar\": {\"outlinewidth\": 0, \"ticks\": \"\"}}, \"type\": \"scatterternary\"}], \"surface\": [{\"colorbar\": {\"outlinewidth\": 0, \"ticks\": \"\"}, \"colorscale\": [[0.0, \"#0d0887\"], [0.1111111111111111, \"#46039f\"], [0.2222222222222222, \"#7201a8\"], [0.3333333333333333, \"#9c179e\"], [0.4444444444444444, \"#bd3786\"], [0.5555555555555556, \"#d8576b\"], [0.6666666666666666, \"#ed7953\"], [0.7777777777777778, \"#fb9f3a\"], [0.8888888888888888, \"#fdca26\"], [1.0, \"#f0f921\"]], \"type\": \"surface\"}], \"table\": [{\"cells\": {\"fill\": {\"color\": \"#EBF0F8\"}, \"line\": {\"color\": \"white\"}}, \"header\": {\"fill\": {\"color\": \"#C8D4E3\"}, \"line\": {\"color\": \"white\"}}, \"type\": \"table\"}]}, \"layout\": {\"annotationdefaults\": {\"arrowcolor\": \"#2a3f5f\", \"arrowhead\": 0, \"arrowwidth\": 1}, \"coloraxis\": {\"colorbar\": {\"outlinewidth\": 0, \"ticks\": \"\"}}, \"colorscale\": {\"diverging\": [[0, \"#8e0152\"], [0.1, \"#c51b7d\"], [0.2, \"#de77ae\"], [0.3, \"#f1b6da\"], [0.4, \"#fde0ef\"], [0.5, \"#f7f7f7\"], [0.6, \"#e6f5d0\"], [0.7, \"#b8e186\"], [0.8, \"#7fbc41\"], [0.9, \"#4d9221\"], [1, \"#276419\"]], \"sequential\": [[0.0, \"#0d0887\"], [0.1111111111111111, \"#46039f\"], [0.2222222222222222, \"#7201a8\"], [0.3333333333333333, \"#9c179e\"], [0.4444444444444444, \"#bd3786\"], [0.5555555555555556, \"#d8576b\"], [0.6666666666666666, \"#ed7953\"], [0.7777777777777778, \"#fb9f3a\"], [0.8888888888888888, \"#fdca26\"], [1.0, \"#f0f921\"]], \"sequentialminus\": [[0.0, \"#0d0887\"], [0.1111111111111111, \"#46039f\"], [0.2222222222222222, \"#7201a8\"], [0.3333333333333333, \"#9c179e\"], [0.4444444444444444, \"#bd3786\"], [0.5555555555555556, \"#d8576b\"], [0.6666666666666666, \"#ed7953\"], [0.7777777777777778, \"#fb9f3a\"], [0.8888888888888888, \"#fdca26\"], [1.0, \"#f0f921\"]]}, \"colorway\": [\"#636efa\", \"#EF553B\", \"#00cc96\", \"#ab63fa\", \"#FFA15A\", \"#19d3f3\", \"#FF6692\", \"#B6E880\", \"#FF97FF\", \"#FECB52\"], \"font\": {\"color\": \"#2a3f5f\"}, \"geo\": {\"bgcolor\": \"white\", \"lakecolor\": \"white\", \"landcolor\": \"#E5ECF6\", \"showlakes\": true, \"showland\": true, \"subunitcolor\": \"white\"}, \"hoverlabel\": {\"align\": \"left\"}, \"hovermode\": \"closest\", \"mapbox\": {\"style\": \"light\"}, \"paper_bgcolor\": \"white\", \"plot_bgcolor\": \"#E5ECF6\", \"polar\": {\"angularaxis\": {\"gridcolor\": \"white\", \"linecolor\": \"white\", \"ticks\": \"\"}, \"bgcolor\": \"#E5ECF6\", \"radialaxis\": {\"gridcolor\": \"white\", \"linecolor\": \"white\", \"ticks\": \"\"}}, \"scene\": {\"xaxis\": {\"backgroundcolor\": \"#E5ECF6\", \"gridcolor\": \"white\", \"gridwidth\": 2, \"linecolor\": \"white\", \"showbackground\": true, \"ticks\": \"\", \"zerolinecolor\": \"white\"}, \"yaxis\": {\"backgroundcolor\": \"#E5ECF6\", \"gridcolor\": \"white\", \"gridwidth\": 2, \"linecolor\": \"white\", \"showbackground\": true, \"ticks\": \"\", \"zerolinecolor\": \"white\"}, \"zaxis\": {\"backgroundcolor\": \"#E5ECF6\", \"gridcolor\": \"white\", \"gridwidth\": 2, \"linecolor\": \"white\", \"showbackground\": true, \"ticks\": \"\", \"zerolinecolor\": \"white\"}}, \"shapedefaults\": {\"line\": {\"color\": \"#2a3f5f\"}}, \"ternary\": {\"aaxis\": {\"gridcolor\": \"white\", \"linecolor\": \"white\", \"ticks\": \"\"}, \"baxis\": {\"gridcolor\": \"white\", \"linecolor\": \"white\", \"ticks\": \"\"}, \"bgcolor\": \"#E5ECF6\", \"caxis\": {\"gridcolor\": \"white\", \"linecolor\": \"white\", \"ticks\": \"\"}}, \"title\": {\"x\": 0.05}, \"xaxis\": {\"automargin\": true, \"gridcolor\": \"white\", \"linecolor\": \"white\", \"ticks\": \"\", \"title\": {\"standoff\": 15}, \"zerolinecolor\": \"white\", \"zerolinewidth\": 2}, \"yaxis\": {\"automargin\": true, \"gridcolor\": \"white\", \"linecolor\": \"white\", \"ticks\": \"\", \"title\": {\"standoff\": 15}, \"zerolinecolor\": \"white\", \"zerolinewidth\": 2}}}},                        {\"responsive\": true}                    ).then(function(){\n",
       "                            \n",
       "var gd = document.getElementById('7aebc57e-2533-489b-a171-ee2d700ae8b3');\n",
       "var x = new MutationObserver(function (mutations, observer) {{\n",
       "        var display = window.getComputedStyle(gd).display;\n",
       "        if (!display || display === 'none') {{\n",
       "            console.log([gd, 'removed!']);\n",
       "            Plotly.purge(gd);\n",
       "            observer.disconnect();\n",
       "        }}\n",
       "}});\n",
       "\n",
       "// Listen for the removal of the full notebook cells\n",
       "var notebookContainer = gd.closest('#notebook-container');\n",
       "if (notebookContainer) {{\n",
       "    x.observe(notebookContainer, {childList: true});\n",
       "}}\n",
       "\n",
       "// Listen for the clearing of the current output cell\n",
       "var outputEl = gd.closest('.output');\n",
       "if (outputEl) {{\n",
       "    x.observe(outputEl, {childList: true});\n",
       "}}\n",
       "\n",
       "                        })                };                });            </script>        </div>"
      ]
     },
     "metadata": {},
     "output_type": "display_data"
    }
   ],
   "source": [
    "%matplotlib inline\n",
    "## Plot PFG Daily Returns\n",
    "fig = go.Figure()\n",
    "fig.add_trace(go.Scatter(x=PFG.Date, y=PFG.DailyReturn,\n",
    "                    mode='lines',\n",
    "                    name='DailyReturn'))"
   ]
  },
  {
   "cell_type": "code",
   "execution_count": 31,
   "metadata": {},
   "outputs": [
    {
     "data": {
      "text/html": [
       "<div>\n",
       "<style scoped>\n",
       "    .dataframe tbody tr th:only-of-type {\n",
       "        vertical-align: middle;\n",
       "    }\n",
       "\n",
       "    .dataframe tbody tr th {\n",
       "        vertical-align: top;\n",
       "    }\n",
       "\n",
       "    .dataframe thead th {\n",
       "        text-align: right;\n",
       "    }\n",
       "</style>\n",
       "<table border=\"1\" class=\"dataframe\">\n",
       "  <thead>\n",
       "    <tr style=\"text-align: right;\">\n",
       "      <th></th>\n",
       "      <th>Date</th>\n",
       "      <th>Open</th>\n",
       "      <th>High</th>\n",
       "      <th>Low</th>\n",
       "      <th>Close</th>\n",
       "      <th>Adj Close</th>\n",
       "      <th>Volume</th>\n",
       "      <th>ticker</th>\n",
       "      <th>rolling_seven_day_average</th>\n",
       "      <th>rolling_20_day_average</th>\n",
       "      <th>Prev Close</th>\n",
       "      <th>Lead 5 Close</th>\n",
       "      <th>DailyReturn</th>\n",
       "      <th>stdev</th>\n",
       "      <th>Upper</th>\n",
       "      <th>Lower</th>\n",
       "    </tr>\n",
       "  </thead>\n",
       "  <tbody>\n",
       "    <tr>\n",
       "      <th>0</th>\n",
       "      <td>2020-12-01</td>\n",
       "      <td>39.5</td>\n",
       "      <td>39.779998779296875</td>\n",
       "      <td>39.09000015258789</td>\n",
       "      <td>39.310001373291016</td>\n",
       "      <td>38.99322509765625</td>\n",
       "      <td>6245700.0</td>\n",
       "      <td>AIG</td>\n",
       "      <td>39.435000</td>\n",
       "      <td>37.187619</td>\n",
       "      <td>38.439998626708984</td>\n",
       "      <td>39.77000045776367</td>\n",
       "      <td>0.022132</td>\n",
       "      <td>2.726501</td>\n",
       "      <td>42.640621</td>\n",
       "      <td>31.734617</td>\n",
       "    </tr>\n",
       "    <tr>\n",
       "      <th>1</th>\n",
       "      <td>2020-12-02</td>\n",
       "      <td>39.060001373291016</td>\n",
       "      <td>39.88999938964844</td>\n",
       "      <td>38.7599983215332</td>\n",
       "      <td>39.72999954223633</td>\n",
       "      <td>39.40983963012695</td>\n",
       "      <td>5175400.0</td>\n",
       "      <td>AIG</td>\n",
       "      <td>39.583750</td>\n",
       "      <td>37.534286</td>\n",
       "      <td>39.310001373291016</td>\n",
       "      <td>40.97999954223633</td>\n",
       "      <td>0.010571</td>\n",
       "      <td>2.559808</td>\n",
       "      <td>42.653901</td>\n",
       "      <td>32.414671</td>\n",
       "    </tr>\n",
       "    <tr>\n",
       "      <th>2</th>\n",
       "      <td>2020-12-03</td>\n",
       "      <td>39.66999816894531</td>\n",
       "      <td>40.27000045776367</td>\n",
       "      <td>39.52000045776367</td>\n",
       "      <td>39.84000015258789</td>\n",
       "      <td>39.518951416015625</td>\n",
       "      <td>4581300.0</td>\n",
       "      <td>AIG</td>\n",
       "      <td>39.737500</td>\n",
       "      <td>37.865238</td>\n",
       "      <td>39.72999954223633</td>\n",
       "      <td>40.119998931884766</td>\n",
       "      <td>0.002761</td>\n",
       "      <td>2.380993</td>\n",
       "      <td>42.627225</td>\n",
       "      <td>33.103251</td>\n",
       "    </tr>\n",
       "    <tr>\n",
       "      <th>3</th>\n",
       "      <td>2020-12-04</td>\n",
       "      <td>40.25</td>\n",
       "      <td>40.810001373291016</td>\n",
       "      <td>40.150001525878906</td>\n",
       "      <td>40.689998626708984</td>\n",
       "      <td>40.36210250854492</td>\n",
       "      <td>4597600.0</td>\n",
       "      <td>AIG</td>\n",
       "      <td>39.852499</td>\n",
       "      <td>38.298571</td>\n",
       "      <td>39.84000015258789</td>\n",
       "      <td>39.709999084472656</td>\n",
       "      <td>0.020890</td>\n",
       "      <td>1.996533</td>\n",
       "      <td>42.291638</td>\n",
       "      <td>34.305505</td>\n",
       "    </tr>\n",
       "    <tr>\n",
       "      <th>4</th>\n",
       "      <td>2020-12-07</td>\n",
       "      <td>40.279998779296875</td>\n",
       "      <td>40.34000015258789</td>\n",
       "      <td>39.56999969482422</td>\n",
       "      <td>39.790000915527344</td>\n",
       "      <td>39.469356536865234</td>\n",
       "      <td>4478500.0</td>\n",
       "      <td>AIG</td>\n",
       "      <td>39.703750</td>\n",
       "      <td>38.601428</td>\n",
       "      <td>40.689998626708984</td>\n",
       "      <td>38.439998626708984</td>\n",
       "      <td>-0.022619</td>\n",
       "      <td>1.694589</td>\n",
       "      <td>41.990606</td>\n",
       "      <td>35.212251</td>\n",
       "    </tr>\n",
       "    <tr>\n",
       "      <th>5</th>\n",
       "      <td>2020-12-08</td>\n",
       "      <td>39.279998779296875</td>\n",
       "      <td>39.95000076293945</td>\n",
       "      <td>39.18000030517578</td>\n",
       "      <td>39.52000045776367</td>\n",
       "      <td>39.20153045654297</td>\n",
       "      <td>3322600.0</td>\n",
       "      <td>AIG</td>\n",
       "      <td>39.628750</td>\n",
       "      <td>38.904286</td>\n",
       "      <td>39.790000915527344</td>\n",
       "      <td>39.310001373291016</td>\n",
       "      <td>-0.006832</td>\n",
       "      <td>1.187488</td>\n",
       "      <td>41.279263</td>\n",
       "      <td>36.529309</td>\n",
       "    </tr>\n",
       "    <tr>\n",
       "      <th>6</th>\n",
       "      <td>2020-12-09</td>\n",
       "      <td>39.90999984741211</td>\n",
       "      <td>40.290000915527344</td>\n",
       "      <td>39.560001373291016</td>\n",
       "      <td>39.939998626708984</td>\n",
       "      <td>39.61814498901367</td>\n",
       "      <td>5388400.0</td>\n",
       "      <td>AIG</td>\n",
       "      <td>39.657500</td>\n",
       "      <td>39.019524</td>\n",
       "      <td>39.52000045776367</td>\n",
       "      <td>39.72999954223633</td>\n",
       "      <td>0.010516</td>\n",
       "      <td>1.164766</td>\n",
       "      <td>41.349056</td>\n",
       "      <td>36.689991</td>\n",
       "    </tr>\n",
       "    <tr>\n",
       "      <th>7</th>\n",
       "      <td>2020-12-10</td>\n",
       "      <td>39.279998779296875</td>\n",
       "      <td>39.939998626708984</td>\n",
       "      <td>39.060001373291016</td>\n",
       "      <td>39.709999084472656</td>\n",
       "      <td>39.38999938964844</td>\n",
       "      <td>4716300.0</td>\n",
       "      <td>AIG</td>\n",
       "      <td>39.816250</td>\n",
       "      <td>39.090000</td>\n",
       "      <td>39.939998626708984</td>\n",
       "      <td>39.84000015258789</td>\n",
       "      <td>-0.005792</td>\n",
       "      <td>1.159626</td>\n",
       "      <td>41.409252</td>\n",
       "      <td>36.770747</td>\n",
       "    </tr>\n",
       "    <tr>\n",
       "      <th>8</th>\n",
       "      <td>2020-12-11</td>\n",
       "      <td>38.83000183105469</td>\n",
       "      <td>39.16999816894531</td>\n",
       "      <td>38.560001373291016</td>\n",
       "      <td>38.790000915527344</td>\n",
       "      <td>38.790000915527344</td>\n",
       "      <td>5299000.0</td>\n",
       "      <td>AIG</td>\n",
       "      <td>39.751250</td>\n",
       "      <td>39.158571</td>\n",
       "      <td>39.709999084472656</td>\n",
       "      <td>40.689998626708984</td>\n",
       "      <td>-0.023717</td>\n",
       "      <td>1.095511</td>\n",
       "      <td>41.349594</td>\n",
       "      <td>36.967549</td>\n",
       "    </tr>\n",
       "    <tr>\n",
       "      <th>9</th>\n",
       "      <td>2020-12-14</td>\n",
       "      <td>39.29999923706055</td>\n",
       "      <td>39.369998931884766</td>\n",
       "      <td>38.08000183105469</td>\n",
       "      <td>38.15999984741211</td>\n",
       "      <td>38.15999984741211</td>\n",
       "      <td>3942000.0</td>\n",
       "      <td>AIG</td>\n",
       "      <td>39.555000</td>\n",
       "      <td>39.258571</td>\n",
       "      <td>38.790000915527344</td>\n",
       "      <td>39.790000915527344</td>\n",
       "      <td>-0.016509</td>\n",
       "      <td>0.883420</td>\n",
       "      <td>41.025411</td>\n",
       "      <td>37.491731</td>\n",
       "    </tr>\n",
       "    <tr>\n",
       "      <th>10</th>\n",
       "      <td>2020-12-15</td>\n",
       "      <td>38.47999954223633</td>\n",
       "      <td>38.869998931884766</td>\n",
       "      <td>37.650001525878906</td>\n",
       "      <td>38.540000915527344</td>\n",
       "      <td>38.540000915527344</td>\n",
       "      <td>3293900.0</td>\n",
       "      <td>AIG</td>\n",
       "      <td>39.392500</td>\n",
       "      <td>39.316667</td>\n",
       "      <td>38.15999984741211</td>\n",
       "      <td>39.52000045776367</td>\n",
       "      <td>0.009860</td>\n",
       "      <td>0.789106</td>\n",
       "      <td>40.894879</td>\n",
       "      <td>37.738454</td>\n",
       "    </tr>\n",
       "    <tr>\n",
       "      <th>11</th>\n",
       "      <td>2020-12-16</td>\n",
       "      <td>38.7599983215332</td>\n",
       "      <td>38.77000045776367</td>\n",
       "      <td>38.08000183105469</td>\n",
       "      <td>38.31999969482422</td>\n",
       "      <td>38.31999969482422</td>\n",
       "      <td>3691200.0</td>\n",
       "      <td>AIG</td>\n",
       "      <td>39.096250</td>\n",
       "      <td>39.308571</td>\n",
       "      <td>38.540000915527344</td>\n",
       "      <td>39.939998626708984</td>\n",
       "      <td>-0.005741</td>\n",
       "      <td>0.798363</td>\n",
       "      <td>40.905297</td>\n",
       "      <td>37.711845</td>\n",
       "    </tr>\n",
       "    <tr>\n",
       "      <th>12</th>\n",
       "      <td>2020-12-17</td>\n",
       "      <td>38.31999969482422</td>\n",
       "      <td>38.349998474121094</td>\n",
       "      <td>37.83000183105469</td>\n",
       "      <td>38.22999954223633</td>\n",
       "      <td>38.22999954223633</td>\n",
       "      <td>5233200.0</td>\n",
       "      <td>AIG</td>\n",
       "      <td>38.901250</td>\n",
       "      <td>39.299524</td>\n",
       "      <td>38.31999969482422</td>\n",
       "      <td>39.709999084472656</td>\n",
       "      <td>-0.002354</td>\n",
       "      <td>0.809382</td>\n",
       "      <td>40.918288</td>\n",
       "      <td>37.680759</td>\n",
       "    </tr>\n",
       "    <tr>\n",
       "      <th>13</th>\n",
       "      <td>2020-12-18</td>\n",
       "      <td>38.20000076293945</td>\n",
       "      <td>38.459999084472656</td>\n",
       "      <td>36.970001220703125</td>\n",
       "      <td>37.47999954223633</td>\n",
       "      <td>37.47999954223633</td>\n",
       "      <td>9293000.0</td>\n",
       "      <td>AIG</td>\n",
       "      <td>38.646250</td>\n",
       "      <td>39.248571</td>\n",
       "      <td>38.22999954223633</td>\n",
       "      <td>38.790000915527344</td>\n",
       "      <td>-0.020011</td>\n",
       "      <td>0.885100</td>\n",
       "      <td>41.018772</td>\n",
       "      <td>37.478371</td>\n",
       "    </tr>\n",
       "    <tr>\n",
       "      <th>14</th>\n",
       "      <td>2020-12-21</td>\n",
       "      <td>37.11000061035156</td>\n",
       "      <td>37.66999816894531</td>\n",
       "      <td>36.779998779296875</td>\n",
       "      <td>37.369998931884766</td>\n",
       "      <td>37.369998931884766</td>\n",
       "      <td>5341700.0</td>\n",
       "      <td>AIG</td>\n",
       "      <td>38.325000</td>\n",
       "      <td>39.192857</td>\n",
       "      <td>37.47999954223633</td>\n",
       "      <td>38.15999984741211</td>\n",
       "      <td>-0.002944</td>\n",
       "      <td>0.961478</td>\n",
       "      <td>41.115812</td>\n",
       "      <td>37.269902</td>\n",
       "    </tr>\n",
       "    <tr>\n",
       "      <th>15</th>\n",
       "      <td>2020-12-22</td>\n",
       "      <td>37.560001373291016</td>\n",
       "      <td>37.619998931884766</td>\n",
       "      <td>36.77000045776367</td>\n",
       "      <td>36.79999923706055</td>\n",
       "      <td>36.79999923706055</td>\n",
       "      <td>5374200.0</td>\n",
       "      <td>AIG</td>\n",
       "      <td>37.961250</td>\n",
       "      <td>39.106666</td>\n",
       "      <td>37.369998931884766</td>\n",
       "      <td>38.540000915527344</td>\n",
       "      <td>-0.015489</td>\n",
       "      <td>1.083277</td>\n",
       "      <td>41.273220</td>\n",
       "      <td>36.940113</td>\n",
       "    </tr>\n",
       "    <tr>\n",
       "      <th>16</th>\n",
       "      <td>2020-12-23</td>\n",
       "      <td>37.25</td>\n",
       "      <td>38.040000915527344</td>\n",
       "      <td>37.2400016784668</td>\n",
       "      <td>37.439998626708984</td>\n",
       "      <td>37.439998626708984</td>\n",
       "      <td>3890600.0</td>\n",
       "      <td>AIG</td>\n",
       "      <td>37.792500</td>\n",
       "      <td>38.995714</td>\n",
       "      <td>36.79999923706055</td>\n",
       "      <td>38.31999969482422</td>\n",
       "      <td>0.017094</td>\n",
       "      <td>1.128052</td>\n",
       "      <td>41.251817</td>\n",
       "      <td>36.739610</td>\n",
       "    </tr>\n",
       "    <tr>\n",
       "      <th>17</th>\n",
       "      <td>2020-12-24</td>\n",
       "      <td>37.47999954223633</td>\n",
       "      <td>37.5</td>\n",
       "      <td>36.970001220703125</td>\n",
       "      <td>37.369998931884766</td>\n",
       "      <td>37.369998931884766</td>\n",
       "      <td>1613800.0</td>\n",
       "      <td>AIG</td>\n",
       "      <td>37.693749</td>\n",
       "      <td>38.823809</td>\n",
       "      <td>37.439998626708984</td>\n",
       "      <td>38.22999954223633</td>\n",
       "      <td>-0.001873</td>\n",
       "      <td>1.086881</td>\n",
       "      <td>40.997570</td>\n",
       "      <td>36.650048</td>\n",
       "    </tr>\n",
       "    <tr>\n",
       "      <th>18</th>\n",
       "      <td>2020-12-28</td>\n",
       "      <td>37.54999923706055</td>\n",
       "      <td>38.02000045776367</td>\n",
       "      <td>37.029998779296875</td>\n",
       "      <td>37.06999969482422</td>\n",
       "      <td>37.06999969482422</td>\n",
       "      <td>3837300.0</td>\n",
       "      <td>AIG</td>\n",
       "      <td>37.509999</td>\n",
       "      <td>38.678571</td>\n",
       "      <td>37.369998931884766</td>\n",
       "      <td>37.47999954223633</td>\n",
       "      <td>-0.008093</td>\n",
       "      <td>1.107556</td>\n",
       "      <td>40.893682</td>\n",
       "      <td>36.463460</td>\n",
       "    </tr>\n",
       "    <tr>\n",
       "      <th>19</th>\n",
       "      <td>2020-12-29</td>\n",
       "      <td>37.36000061035156</td>\n",
       "      <td>37.43000030517578</td>\n",
       "      <td>36.91999816894531</td>\n",
       "      <td>37.15999984741211</td>\n",
       "      <td>37.15999984741211</td>\n",
       "      <td>4047300.0</td>\n",
       "      <td>AIG</td>\n",
       "      <td>37.364999</td>\n",
       "      <td>38.557143</td>\n",
       "      <td>37.06999969482422</td>\n",
       "      <td>37.369998931884766</td>\n",
       "      <td>0.002422</td>\n",
       "      <td>1.127425</td>\n",
       "      <td>40.811993</td>\n",
       "      <td>36.302292</td>\n",
       "    </tr>\n",
       "    <tr>\n",
       "      <th>20</th>\n",
       "      <td>2020-12-30</td>\n",
       "      <td>37.11000061035156</td>\n",
       "      <td>38.040000915527344</td>\n",
       "      <td>37.099998474121094</td>\n",
       "      <td>37.52000045776367</td>\n",
       "      <td>37.52000045776367</td>\n",
       "      <td>2522200.0</td>\n",
       "      <td>AIG</td>\n",
       "      <td>37.276249</td>\n",
       "      <td>38.513333</td>\n",
       "      <td>37.15999984741211</td>\n",
       "      <td>36.79999923706055</td>\n",
       "      <td>0.009595</td>\n",
       "      <td>1.148798</td>\n",
       "      <td>40.810929</td>\n",
       "      <td>36.215737</td>\n",
       "    </tr>\n",
       "    <tr>\n",
       "      <th>21</th>\n",
       "      <td>2020-12-31</td>\n",
       "      <td>37.529998779296875</td>\n",
       "      <td>37.959999084472656</td>\n",
       "      <td>37.22999954223633</td>\n",
       "      <td>37.86000061035156</td>\n",
       "      <td>37.86000061035156</td>\n",
       "      <td>2956200.0</td>\n",
       "      <td>AIG</td>\n",
       "      <td>37.323750</td>\n",
       "      <td>38.444285</td>\n",
       "      <td>37.52000045776367</td>\n",
       "      <td>37.439998626708984</td>\n",
       "      <td>0.008980</td>\n",
       "      <td>1.142398</td>\n",
       "      <td>40.729081</td>\n",
       "      <td>36.159490</td>\n",
       "    </tr>\n",
       "  </tbody>\n",
       "</table>\n",
       "</div>"
      ],
      "text/plain": [
       "          Date                Open                High                 Low  \\\n",
       "0   2020-12-01                39.5  39.779998779296875   39.09000015258789   \n",
       "1   2020-12-02  39.060001373291016   39.88999938964844    38.7599983215332   \n",
       "2   2020-12-03   39.66999816894531   40.27000045776367   39.52000045776367   \n",
       "3   2020-12-04               40.25  40.810001373291016  40.150001525878906   \n",
       "4   2020-12-07  40.279998779296875   40.34000015258789   39.56999969482422   \n",
       "5   2020-12-08  39.279998779296875   39.95000076293945   39.18000030517578   \n",
       "6   2020-12-09   39.90999984741211  40.290000915527344  39.560001373291016   \n",
       "7   2020-12-10  39.279998779296875  39.939998626708984  39.060001373291016   \n",
       "8   2020-12-11   38.83000183105469   39.16999816894531  38.560001373291016   \n",
       "9   2020-12-14   39.29999923706055  39.369998931884766   38.08000183105469   \n",
       "10  2020-12-15   38.47999954223633  38.869998931884766  37.650001525878906   \n",
       "11  2020-12-16    38.7599983215332   38.77000045776367   38.08000183105469   \n",
       "12  2020-12-17   38.31999969482422  38.349998474121094   37.83000183105469   \n",
       "13  2020-12-18   38.20000076293945  38.459999084472656  36.970001220703125   \n",
       "14  2020-12-21   37.11000061035156   37.66999816894531  36.779998779296875   \n",
       "15  2020-12-22  37.560001373291016  37.619998931884766   36.77000045776367   \n",
       "16  2020-12-23               37.25  38.040000915527344    37.2400016784668   \n",
       "17  2020-12-24   37.47999954223633                37.5  36.970001220703125   \n",
       "18  2020-12-28   37.54999923706055   38.02000045776367  37.029998779296875   \n",
       "19  2020-12-29   37.36000061035156   37.43000030517578   36.91999816894531   \n",
       "20  2020-12-30   37.11000061035156  38.040000915527344  37.099998474121094   \n",
       "21  2020-12-31  37.529998779296875  37.959999084472656   37.22999954223633   \n",
       "\n",
       "                 Close           Adj Close     Volume ticker  \\\n",
       "0   39.310001373291016   38.99322509765625  6245700.0    AIG   \n",
       "1    39.72999954223633   39.40983963012695  5175400.0    AIG   \n",
       "2    39.84000015258789  39.518951416015625  4581300.0    AIG   \n",
       "3   40.689998626708984   40.36210250854492  4597600.0    AIG   \n",
       "4   39.790000915527344  39.469356536865234  4478500.0    AIG   \n",
       "5    39.52000045776367   39.20153045654297  3322600.0    AIG   \n",
       "6   39.939998626708984   39.61814498901367  5388400.0    AIG   \n",
       "7   39.709999084472656   39.38999938964844  4716300.0    AIG   \n",
       "8   38.790000915527344  38.790000915527344  5299000.0    AIG   \n",
       "9    38.15999984741211   38.15999984741211  3942000.0    AIG   \n",
       "10  38.540000915527344  38.540000915527344  3293900.0    AIG   \n",
       "11   38.31999969482422   38.31999969482422  3691200.0    AIG   \n",
       "12   38.22999954223633   38.22999954223633  5233200.0    AIG   \n",
       "13   37.47999954223633   37.47999954223633  9293000.0    AIG   \n",
       "14  37.369998931884766  37.369998931884766  5341700.0    AIG   \n",
       "15   36.79999923706055   36.79999923706055  5374200.0    AIG   \n",
       "16  37.439998626708984  37.439998626708984  3890600.0    AIG   \n",
       "17  37.369998931884766  37.369998931884766  1613800.0    AIG   \n",
       "18   37.06999969482422   37.06999969482422  3837300.0    AIG   \n",
       "19   37.15999984741211   37.15999984741211  4047300.0    AIG   \n",
       "20   37.52000045776367   37.52000045776367  2522200.0    AIG   \n",
       "21   37.86000061035156   37.86000061035156  2956200.0    AIG   \n",
       "\n",
       "    rolling_seven_day_average  rolling_20_day_average          Prev Close  \\\n",
       "0                   39.435000               37.187619  38.439998626708984   \n",
       "1                   39.583750               37.534286  39.310001373291016   \n",
       "2                   39.737500               37.865238   39.72999954223633   \n",
       "3                   39.852499               38.298571   39.84000015258789   \n",
       "4                   39.703750               38.601428  40.689998626708984   \n",
       "5                   39.628750               38.904286  39.790000915527344   \n",
       "6                   39.657500               39.019524   39.52000045776367   \n",
       "7                   39.816250               39.090000  39.939998626708984   \n",
       "8                   39.751250               39.158571  39.709999084472656   \n",
       "9                   39.555000               39.258571  38.790000915527344   \n",
       "10                  39.392500               39.316667   38.15999984741211   \n",
       "11                  39.096250               39.308571  38.540000915527344   \n",
       "12                  38.901250               39.299524   38.31999969482422   \n",
       "13                  38.646250               39.248571   38.22999954223633   \n",
       "14                  38.325000               39.192857   37.47999954223633   \n",
       "15                  37.961250               39.106666  37.369998931884766   \n",
       "16                  37.792500               38.995714   36.79999923706055   \n",
       "17                  37.693749               38.823809  37.439998626708984   \n",
       "18                  37.509999               38.678571  37.369998931884766   \n",
       "19                  37.364999               38.557143   37.06999969482422   \n",
       "20                  37.276249               38.513333   37.15999984741211   \n",
       "21                  37.323750               38.444285   37.52000045776367   \n",
       "\n",
       "          Lead 5 Close  DailyReturn     stdev      Upper      Lower  \n",
       "0    39.77000045776367     0.022132  2.726501  42.640621  31.734617  \n",
       "1    40.97999954223633     0.010571  2.559808  42.653901  32.414671  \n",
       "2   40.119998931884766     0.002761  2.380993  42.627225  33.103251  \n",
       "3   39.709999084472656     0.020890  1.996533  42.291638  34.305505  \n",
       "4   38.439998626708984    -0.022619  1.694589  41.990606  35.212251  \n",
       "5   39.310001373291016    -0.006832  1.187488  41.279263  36.529309  \n",
       "6    39.72999954223633     0.010516  1.164766  41.349056  36.689991  \n",
       "7    39.84000015258789    -0.005792  1.159626  41.409252  36.770747  \n",
       "8   40.689998626708984    -0.023717  1.095511  41.349594  36.967549  \n",
       "9   39.790000915527344    -0.016509  0.883420  41.025411  37.491731  \n",
       "10   39.52000045776367     0.009860  0.789106  40.894879  37.738454  \n",
       "11  39.939998626708984    -0.005741  0.798363  40.905297  37.711845  \n",
       "12  39.709999084472656    -0.002354  0.809382  40.918288  37.680759  \n",
       "13  38.790000915527344    -0.020011  0.885100  41.018772  37.478371  \n",
       "14   38.15999984741211    -0.002944  0.961478  41.115812  37.269902  \n",
       "15  38.540000915527344    -0.015489  1.083277  41.273220  36.940113  \n",
       "16   38.31999969482422     0.017094  1.128052  41.251817  36.739610  \n",
       "17   38.22999954223633    -0.001873  1.086881  40.997570  36.650048  \n",
       "18   37.47999954223633    -0.008093  1.107556  40.893682  36.463460  \n",
       "19  37.369998931884766     0.002422  1.127425  40.811993  36.302292  \n",
       "20   36.79999923706055     0.009595  1.148798  40.810929  36.215737  \n",
       "21  37.439998626708984     0.008980  1.142398  40.729081  36.159490  "
      ]
     },
     "execution_count": 31,
     "metadata": {},
     "output_type": "execute_result"
    }
   ],
   "source": [
    "## get AIG stock\n",
    "AIG = spark.sql(\"Select * from stocks where ticker = 'AIG' and date >= '2020-12-01'\")\n",
    "AIG = AIG.toPandas()\n",
    "AIG"
   ]
  },
  {
   "cell_type": "code",
   "execution_count": 32,
   "metadata": {},
   "outputs": [
    {
     "data": {
      "application/vnd.plotly.v1+json": {
       "config": {
        "plotlyServerURL": "https://plot.ly"
       },
       "data": [
        {
         "mode": "lines",
         "name": "DailyReturn PFG",
         "type": "scatter",
         "x": [
          "2020-12-01",
          "2020-12-02",
          "2020-12-03",
          "2020-12-04",
          "2020-12-07",
          "2020-12-08",
          "2020-12-09",
          "2020-12-10",
          "2020-12-11",
          "2020-12-14",
          "2020-12-15",
          "2020-12-16",
          "2020-12-17",
          "2020-12-18",
          "2020-12-21",
          "2020-12-22",
          "2020-12-23",
          "2020-12-24",
          "2020-12-28",
          "2020-12-29",
          "2020-12-30",
          "2020-12-31"
         ],
         "y": [
          -0.0034260779383721114,
          0.02438068548143939,
          0.009735202376520717,
          0.01759751703187943,
          -0.030960357388469188,
          0.0011818273143592282,
          -0.014385638994575355,
          -0.004616610671320873,
          -0.02152961302450425,
          -0.0198661808657911,
          0.010757146382338883,
          -0.002488571730546627,
          0.003719014452500321,
          -0.009384791569956733,
          -0.00947370027240954,
          -0.0021096723818985054,
          0.023485771902483955,
          -0.001237652101022438,
          0.004108479081463534,
          -0.00599299275026196,
          0.007995067638541237,
          0.016730534586639378
         ]
        },
        {
         "mode": "lines",
         "name": "DailyReturn AIG",
         "type": "scatter",
         "x": [
          "2020-12-01",
          "2020-12-02",
          "2020-12-03",
          "2020-12-04",
          "2020-12-07",
          "2020-12-08",
          "2020-12-09",
          "2020-12-10",
          "2020-12-11",
          "2020-12-14",
          "2020-12-15",
          "2020-12-16",
          "2020-12-17",
          "2020-12-18",
          "2020-12-21",
          "2020-12-22",
          "2020-12-23",
          "2020-12-24",
          "2020-12-28",
          "2020-12-29",
          "2020-12-30",
          "2020-12-31"
         ],
         "y": [
          0.02213184218235999,
          0.010571310691781386,
          0.0027610594862012613,
          0.020889616682443272,
          -0.02261869038636871,
          -0.006831995309621271,
          0.010515728176927079,
          -0.005791980547445094,
          -0.0237174051877128,
          -0.016509462018720607,
          0.009859913313134773,
          -0.00574115924987442,
          -0.002354176135640778,
          -0.020010672602992503,
          -0.0029435540137976285,
          -0.015489122463083732,
          0.017094001418896262,
          -0.0018731521762098242,
          -0.00809277689587986,
          0.0024219632119874294,
          0.009594898879514029,
          0.00898045819087834
         ]
        }
       ],
       "layout": {
        "template": {
         "data": {
          "bar": [
           {
            "error_x": {
             "color": "#2a3f5f"
            },
            "error_y": {
             "color": "#2a3f5f"
            },
            "marker": {
             "line": {
              "color": "#E5ECF6",
              "width": 0.5
             }
            },
            "type": "bar"
           }
          ],
          "barpolar": [
           {
            "marker": {
             "line": {
              "color": "#E5ECF6",
              "width": 0.5
             }
            },
            "type": "barpolar"
           }
          ],
          "carpet": [
           {
            "aaxis": {
             "endlinecolor": "#2a3f5f",
             "gridcolor": "white",
             "linecolor": "white",
             "minorgridcolor": "white",
             "startlinecolor": "#2a3f5f"
            },
            "baxis": {
             "endlinecolor": "#2a3f5f",
             "gridcolor": "white",
             "linecolor": "white",
             "minorgridcolor": "white",
             "startlinecolor": "#2a3f5f"
            },
            "type": "carpet"
           }
          ],
          "choropleth": [
           {
            "colorbar": {
             "outlinewidth": 0,
             "ticks": ""
            },
            "type": "choropleth"
           }
          ],
          "contour": [
           {
            "colorbar": {
             "outlinewidth": 0,
             "ticks": ""
            },
            "colorscale": [
             [
              0,
              "#0d0887"
             ],
             [
              0.1111111111111111,
              "#46039f"
             ],
             [
              0.2222222222222222,
              "#7201a8"
             ],
             [
              0.3333333333333333,
              "#9c179e"
             ],
             [
              0.4444444444444444,
              "#bd3786"
             ],
             [
              0.5555555555555556,
              "#d8576b"
             ],
             [
              0.6666666666666666,
              "#ed7953"
             ],
             [
              0.7777777777777778,
              "#fb9f3a"
             ],
             [
              0.8888888888888888,
              "#fdca26"
             ],
             [
              1,
              "#f0f921"
             ]
            ],
            "type": "contour"
           }
          ],
          "contourcarpet": [
           {
            "colorbar": {
             "outlinewidth": 0,
             "ticks": ""
            },
            "type": "contourcarpet"
           }
          ],
          "heatmap": [
           {
            "colorbar": {
             "outlinewidth": 0,
             "ticks": ""
            },
            "colorscale": [
             [
              0,
              "#0d0887"
             ],
             [
              0.1111111111111111,
              "#46039f"
             ],
             [
              0.2222222222222222,
              "#7201a8"
             ],
             [
              0.3333333333333333,
              "#9c179e"
             ],
             [
              0.4444444444444444,
              "#bd3786"
             ],
             [
              0.5555555555555556,
              "#d8576b"
             ],
             [
              0.6666666666666666,
              "#ed7953"
             ],
             [
              0.7777777777777778,
              "#fb9f3a"
             ],
             [
              0.8888888888888888,
              "#fdca26"
             ],
             [
              1,
              "#f0f921"
             ]
            ],
            "type": "heatmap"
           }
          ],
          "heatmapgl": [
           {
            "colorbar": {
             "outlinewidth": 0,
             "ticks": ""
            },
            "colorscale": [
             [
              0,
              "#0d0887"
             ],
             [
              0.1111111111111111,
              "#46039f"
             ],
             [
              0.2222222222222222,
              "#7201a8"
             ],
             [
              0.3333333333333333,
              "#9c179e"
             ],
             [
              0.4444444444444444,
              "#bd3786"
             ],
             [
              0.5555555555555556,
              "#d8576b"
             ],
             [
              0.6666666666666666,
              "#ed7953"
             ],
             [
              0.7777777777777778,
              "#fb9f3a"
             ],
             [
              0.8888888888888888,
              "#fdca26"
             ],
             [
              1,
              "#f0f921"
             ]
            ],
            "type": "heatmapgl"
           }
          ],
          "histogram": [
           {
            "marker": {
             "colorbar": {
              "outlinewidth": 0,
              "ticks": ""
             }
            },
            "type": "histogram"
           }
          ],
          "histogram2d": [
           {
            "colorbar": {
             "outlinewidth": 0,
             "ticks": ""
            },
            "colorscale": [
             [
              0,
              "#0d0887"
             ],
             [
              0.1111111111111111,
              "#46039f"
             ],
             [
              0.2222222222222222,
              "#7201a8"
             ],
             [
              0.3333333333333333,
              "#9c179e"
             ],
             [
              0.4444444444444444,
              "#bd3786"
             ],
             [
              0.5555555555555556,
              "#d8576b"
             ],
             [
              0.6666666666666666,
              "#ed7953"
             ],
             [
              0.7777777777777778,
              "#fb9f3a"
             ],
             [
              0.8888888888888888,
              "#fdca26"
             ],
             [
              1,
              "#f0f921"
             ]
            ],
            "type": "histogram2d"
           }
          ],
          "histogram2dcontour": [
           {
            "colorbar": {
             "outlinewidth": 0,
             "ticks": ""
            },
            "colorscale": [
             [
              0,
              "#0d0887"
             ],
             [
              0.1111111111111111,
              "#46039f"
             ],
             [
              0.2222222222222222,
              "#7201a8"
             ],
             [
              0.3333333333333333,
              "#9c179e"
             ],
             [
              0.4444444444444444,
              "#bd3786"
             ],
             [
              0.5555555555555556,
              "#d8576b"
             ],
             [
              0.6666666666666666,
              "#ed7953"
             ],
             [
              0.7777777777777778,
              "#fb9f3a"
             ],
             [
              0.8888888888888888,
              "#fdca26"
             ],
             [
              1,
              "#f0f921"
             ]
            ],
            "type": "histogram2dcontour"
           }
          ],
          "mesh3d": [
           {
            "colorbar": {
             "outlinewidth": 0,
             "ticks": ""
            },
            "type": "mesh3d"
           }
          ],
          "parcoords": [
           {
            "line": {
             "colorbar": {
              "outlinewidth": 0,
              "ticks": ""
             }
            },
            "type": "parcoords"
           }
          ],
          "pie": [
           {
            "automargin": true,
            "type": "pie"
           }
          ],
          "scatter": [
           {
            "marker": {
             "colorbar": {
              "outlinewidth": 0,
              "ticks": ""
             }
            },
            "type": "scatter"
           }
          ],
          "scatter3d": [
           {
            "line": {
             "colorbar": {
              "outlinewidth": 0,
              "ticks": ""
             }
            },
            "marker": {
             "colorbar": {
              "outlinewidth": 0,
              "ticks": ""
             }
            },
            "type": "scatter3d"
           }
          ],
          "scattercarpet": [
           {
            "marker": {
             "colorbar": {
              "outlinewidth": 0,
              "ticks": ""
             }
            },
            "type": "scattercarpet"
           }
          ],
          "scattergeo": [
           {
            "marker": {
             "colorbar": {
              "outlinewidth": 0,
              "ticks": ""
             }
            },
            "type": "scattergeo"
           }
          ],
          "scattergl": [
           {
            "marker": {
             "colorbar": {
              "outlinewidth": 0,
              "ticks": ""
             }
            },
            "type": "scattergl"
           }
          ],
          "scattermapbox": [
           {
            "marker": {
             "colorbar": {
              "outlinewidth": 0,
              "ticks": ""
             }
            },
            "type": "scattermapbox"
           }
          ],
          "scatterpolar": [
           {
            "marker": {
             "colorbar": {
              "outlinewidth": 0,
              "ticks": ""
             }
            },
            "type": "scatterpolar"
           }
          ],
          "scatterpolargl": [
           {
            "marker": {
             "colorbar": {
              "outlinewidth": 0,
              "ticks": ""
             }
            },
            "type": "scatterpolargl"
           }
          ],
          "scatterternary": [
           {
            "marker": {
             "colorbar": {
              "outlinewidth": 0,
              "ticks": ""
             }
            },
            "type": "scatterternary"
           }
          ],
          "surface": [
           {
            "colorbar": {
             "outlinewidth": 0,
             "ticks": ""
            },
            "colorscale": [
             [
              0,
              "#0d0887"
             ],
             [
              0.1111111111111111,
              "#46039f"
             ],
             [
              0.2222222222222222,
              "#7201a8"
             ],
             [
              0.3333333333333333,
              "#9c179e"
             ],
             [
              0.4444444444444444,
              "#bd3786"
             ],
             [
              0.5555555555555556,
              "#d8576b"
             ],
             [
              0.6666666666666666,
              "#ed7953"
             ],
             [
              0.7777777777777778,
              "#fb9f3a"
             ],
             [
              0.8888888888888888,
              "#fdca26"
             ],
             [
              1,
              "#f0f921"
             ]
            ],
            "type": "surface"
           }
          ],
          "table": [
           {
            "cells": {
             "fill": {
              "color": "#EBF0F8"
             },
             "line": {
              "color": "white"
             }
            },
            "header": {
             "fill": {
              "color": "#C8D4E3"
             },
             "line": {
              "color": "white"
             }
            },
            "type": "table"
           }
          ]
         },
         "layout": {
          "annotationdefaults": {
           "arrowcolor": "#2a3f5f",
           "arrowhead": 0,
           "arrowwidth": 1
          },
          "coloraxis": {
           "colorbar": {
            "outlinewidth": 0,
            "ticks": ""
           }
          },
          "colorscale": {
           "diverging": [
            [
             0,
             "#8e0152"
            ],
            [
             0.1,
             "#c51b7d"
            ],
            [
             0.2,
             "#de77ae"
            ],
            [
             0.3,
             "#f1b6da"
            ],
            [
             0.4,
             "#fde0ef"
            ],
            [
             0.5,
             "#f7f7f7"
            ],
            [
             0.6,
             "#e6f5d0"
            ],
            [
             0.7,
             "#b8e186"
            ],
            [
             0.8,
             "#7fbc41"
            ],
            [
             0.9,
             "#4d9221"
            ],
            [
             1,
             "#276419"
            ]
           ],
           "sequential": [
            [
             0,
             "#0d0887"
            ],
            [
             0.1111111111111111,
             "#46039f"
            ],
            [
             0.2222222222222222,
             "#7201a8"
            ],
            [
             0.3333333333333333,
             "#9c179e"
            ],
            [
             0.4444444444444444,
             "#bd3786"
            ],
            [
             0.5555555555555556,
             "#d8576b"
            ],
            [
             0.6666666666666666,
             "#ed7953"
            ],
            [
             0.7777777777777778,
             "#fb9f3a"
            ],
            [
             0.8888888888888888,
             "#fdca26"
            ],
            [
             1,
             "#f0f921"
            ]
           ],
           "sequentialminus": [
            [
             0,
             "#0d0887"
            ],
            [
             0.1111111111111111,
             "#46039f"
            ],
            [
             0.2222222222222222,
             "#7201a8"
            ],
            [
             0.3333333333333333,
             "#9c179e"
            ],
            [
             0.4444444444444444,
             "#bd3786"
            ],
            [
             0.5555555555555556,
             "#d8576b"
            ],
            [
             0.6666666666666666,
             "#ed7953"
            ],
            [
             0.7777777777777778,
             "#fb9f3a"
            ],
            [
             0.8888888888888888,
             "#fdca26"
            ],
            [
             1,
             "#f0f921"
            ]
           ]
          },
          "colorway": [
           "#636efa",
           "#EF553B",
           "#00cc96",
           "#ab63fa",
           "#FFA15A",
           "#19d3f3",
           "#FF6692",
           "#B6E880",
           "#FF97FF",
           "#FECB52"
          ],
          "font": {
           "color": "#2a3f5f"
          },
          "geo": {
           "bgcolor": "white",
           "lakecolor": "white",
           "landcolor": "#E5ECF6",
           "showlakes": true,
           "showland": true,
           "subunitcolor": "white"
          },
          "hoverlabel": {
           "align": "left"
          },
          "hovermode": "closest",
          "mapbox": {
           "style": "light"
          },
          "paper_bgcolor": "white",
          "plot_bgcolor": "#E5ECF6",
          "polar": {
           "angularaxis": {
            "gridcolor": "white",
            "linecolor": "white",
            "ticks": ""
           },
           "bgcolor": "#E5ECF6",
           "radialaxis": {
            "gridcolor": "white",
            "linecolor": "white",
            "ticks": ""
           }
          },
          "scene": {
           "xaxis": {
            "backgroundcolor": "#E5ECF6",
            "gridcolor": "white",
            "gridwidth": 2,
            "linecolor": "white",
            "showbackground": true,
            "ticks": "",
            "zerolinecolor": "white"
           },
           "yaxis": {
            "backgroundcolor": "#E5ECF6",
            "gridcolor": "white",
            "gridwidth": 2,
            "linecolor": "white",
            "showbackground": true,
            "ticks": "",
            "zerolinecolor": "white"
           },
           "zaxis": {
            "backgroundcolor": "#E5ECF6",
            "gridcolor": "white",
            "gridwidth": 2,
            "linecolor": "white",
            "showbackground": true,
            "ticks": "",
            "zerolinecolor": "white"
           }
          },
          "shapedefaults": {
           "line": {
            "color": "#2a3f5f"
           }
          },
          "ternary": {
           "aaxis": {
            "gridcolor": "white",
            "linecolor": "white",
            "ticks": ""
           },
           "baxis": {
            "gridcolor": "white",
            "linecolor": "white",
            "ticks": ""
           },
           "bgcolor": "#E5ECF6",
           "caxis": {
            "gridcolor": "white",
            "linecolor": "white",
            "ticks": ""
           }
          },
          "title": {
           "x": 0.05
          },
          "xaxis": {
           "automargin": true,
           "gridcolor": "white",
           "linecolor": "white",
           "ticks": "",
           "title": {
            "standoff": 15
           },
           "zerolinecolor": "white",
           "zerolinewidth": 2
          },
          "yaxis": {
           "automargin": true,
           "gridcolor": "white",
           "linecolor": "white",
           "ticks": "",
           "title": {
            "standoff": 15
           },
           "zerolinecolor": "white",
           "zerolinewidth": 2
          }
         }
        }
       }
      },
      "text/html": [
       "<div>                            <div id=\"92ed6402-1b85-496b-a378-2f01a963ffa3\" class=\"plotly-graph-div\" style=\"height:525px; width:100%;\"></div>            <script type=\"text/javascript\">                require([\"plotly\"], function(Plotly) {                    window.PLOTLYENV=window.PLOTLYENV || {};                                    if (document.getElementById(\"92ed6402-1b85-496b-a378-2f01a963ffa3\")) {                    Plotly.newPlot(                        \"92ed6402-1b85-496b-a378-2f01a963ffa3\",                        [{\"mode\": \"lines\", \"name\": \"DailyReturn PFG\", \"type\": \"scatter\", \"x\": [\"2020-12-01\", \"2020-12-02\", \"2020-12-03\", \"2020-12-04\", \"2020-12-07\", \"2020-12-08\", \"2020-12-09\", \"2020-12-10\", \"2020-12-11\", \"2020-12-14\", \"2020-12-15\", \"2020-12-16\", \"2020-12-17\", \"2020-12-18\", \"2020-12-21\", \"2020-12-22\", \"2020-12-23\", \"2020-12-24\", \"2020-12-28\", \"2020-12-29\", \"2020-12-30\", \"2020-12-31\"], \"y\": [-0.0034260779383721114, 0.02438068548143939, 0.009735202376520717, 0.01759751703187943, -0.030960357388469188, 0.0011818273143592282, -0.014385638994575355, -0.004616610671320873, -0.02152961302450425, -0.0198661808657911, 0.010757146382338883, -0.002488571730546627, 0.003719014452500321, -0.009384791569956733, -0.00947370027240954, -0.0021096723818985054, 0.023485771902483955, -0.001237652101022438, 0.004108479081463534, -0.00599299275026196, 0.007995067638541237, 0.016730534586639378]}, {\"mode\": \"lines\", \"name\": \"DailyReturn AIG\", \"type\": \"scatter\", \"x\": [\"2020-12-01\", \"2020-12-02\", \"2020-12-03\", \"2020-12-04\", \"2020-12-07\", \"2020-12-08\", \"2020-12-09\", \"2020-12-10\", \"2020-12-11\", \"2020-12-14\", \"2020-12-15\", \"2020-12-16\", \"2020-12-17\", \"2020-12-18\", \"2020-12-21\", \"2020-12-22\", \"2020-12-23\", \"2020-12-24\", \"2020-12-28\", \"2020-12-29\", \"2020-12-30\", \"2020-12-31\"], \"y\": [0.02213184218235999, 0.010571310691781386, 0.0027610594862012613, 0.020889616682443272, -0.02261869038636871, -0.006831995309621271, 0.010515728176927079, -0.005791980547445094, -0.0237174051877128, -0.016509462018720607, 0.009859913313134773, -0.00574115924987442, -0.002354176135640778, -0.020010672602992503, -0.0029435540137976285, -0.015489122463083732, 0.017094001418896262, -0.0018731521762098242, -0.00809277689587986, 0.0024219632119874294, 0.009594898879514029, 0.00898045819087834]}],                        {\"template\": {\"data\": {\"bar\": [{\"error_x\": {\"color\": \"#2a3f5f\"}, \"error_y\": {\"color\": \"#2a3f5f\"}, \"marker\": {\"line\": {\"color\": \"#E5ECF6\", \"width\": 0.5}}, \"type\": \"bar\"}], \"barpolar\": [{\"marker\": {\"line\": {\"color\": \"#E5ECF6\", \"width\": 0.5}}, \"type\": \"barpolar\"}], \"carpet\": [{\"aaxis\": {\"endlinecolor\": \"#2a3f5f\", \"gridcolor\": \"white\", \"linecolor\": \"white\", \"minorgridcolor\": \"white\", \"startlinecolor\": \"#2a3f5f\"}, \"baxis\": {\"endlinecolor\": \"#2a3f5f\", \"gridcolor\": \"white\", \"linecolor\": \"white\", \"minorgridcolor\": \"white\", \"startlinecolor\": \"#2a3f5f\"}, \"type\": \"carpet\"}], \"choropleth\": [{\"colorbar\": {\"outlinewidth\": 0, \"ticks\": \"\"}, \"type\": \"choropleth\"}], \"contour\": [{\"colorbar\": {\"outlinewidth\": 0, \"ticks\": \"\"}, \"colorscale\": [[0.0, \"#0d0887\"], [0.1111111111111111, \"#46039f\"], [0.2222222222222222, \"#7201a8\"], [0.3333333333333333, \"#9c179e\"], [0.4444444444444444, \"#bd3786\"], [0.5555555555555556, \"#d8576b\"], [0.6666666666666666, \"#ed7953\"], [0.7777777777777778, \"#fb9f3a\"], [0.8888888888888888, \"#fdca26\"], [1.0, \"#f0f921\"]], \"type\": \"contour\"}], \"contourcarpet\": [{\"colorbar\": {\"outlinewidth\": 0, \"ticks\": \"\"}, \"type\": \"contourcarpet\"}], \"heatmap\": [{\"colorbar\": {\"outlinewidth\": 0, \"ticks\": \"\"}, \"colorscale\": [[0.0, \"#0d0887\"], [0.1111111111111111, \"#46039f\"], [0.2222222222222222, \"#7201a8\"], [0.3333333333333333, \"#9c179e\"], [0.4444444444444444, \"#bd3786\"], [0.5555555555555556, \"#d8576b\"], [0.6666666666666666, \"#ed7953\"], [0.7777777777777778, \"#fb9f3a\"], [0.8888888888888888, \"#fdca26\"], [1.0, \"#f0f921\"]], \"type\": \"heatmap\"}], \"heatmapgl\": [{\"colorbar\": {\"outlinewidth\": 0, \"ticks\": \"\"}, \"colorscale\": [[0.0, \"#0d0887\"], [0.1111111111111111, \"#46039f\"], [0.2222222222222222, \"#7201a8\"], [0.3333333333333333, \"#9c179e\"], [0.4444444444444444, \"#bd3786\"], [0.5555555555555556, \"#d8576b\"], [0.6666666666666666, \"#ed7953\"], [0.7777777777777778, \"#fb9f3a\"], [0.8888888888888888, \"#fdca26\"], [1.0, \"#f0f921\"]], \"type\": \"heatmapgl\"}], \"histogram\": [{\"marker\": {\"colorbar\": {\"outlinewidth\": 0, \"ticks\": \"\"}}, \"type\": \"histogram\"}], \"histogram2d\": [{\"colorbar\": {\"outlinewidth\": 0, \"ticks\": \"\"}, \"colorscale\": [[0.0, \"#0d0887\"], [0.1111111111111111, \"#46039f\"], [0.2222222222222222, \"#7201a8\"], [0.3333333333333333, \"#9c179e\"], [0.4444444444444444, \"#bd3786\"], [0.5555555555555556, \"#d8576b\"], [0.6666666666666666, \"#ed7953\"], [0.7777777777777778, \"#fb9f3a\"], [0.8888888888888888, \"#fdca26\"], [1.0, \"#f0f921\"]], \"type\": \"histogram2d\"}], \"histogram2dcontour\": [{\"colorbar\": {\"outlinewidth\": 0, \"ticks\": \"\"}, \"colorscale\": [[0.0, \"#0d0887\"], [0.1111111111111111, \"#46039f\"], [0.2222222222222222, \"#7201a8\"], [0.3333333333333333, \"#9c179e\"], [0.4444444444444444, \"#bd3786\"], [0.5555555555555556, \"#d8576b\"], [0.6666666666666666, \"#ed7953\"], [0.7777777777777778, \"#fb9f3a\"], [0.8888888888888888, \"#fdca26\"], [1.0, \"#f0f921\"]], \"type\": \"histogram2dcontour\"}], \"mesh3d\": [{\"colorbar\": {\"outlinewidth\": 0, \"ticks\": \"\"}, \"type\": \"mesh3d\"}], \"parcoords\": [{\"line\": {\"colorbar\": {\"outlinewidth\": 0, \"ticks\": \"\"}}, \"type\": \"parcoords\"}], \"pie\": [{\"automargin\": true, \"type\": \"pie\"}], \"scatter\": [{\"marker\": {\"colorbar\": {\"outlinewidth\": 0, \"ticks\": \"\"}}, \"type\": \"scatter\"}], \"scatter3d\": [{\"line\": {\"colorbar\": {\"outlinewidth\": 0, \"ticks\": \"\"}}, \"marker\": {\"colorbar\": {\"outlinewidth\": 0, \"ticks\": \"\"}}, \"type\": \"scatter3d\"}], \"scattercarpet\": [{\"marker\": {\"colorbar\": {\"outlinewidth\": 0, \"ticks\": \"\"}}, \"type\": \"scattercarpet\"}], \"scattergeo\": [{\"marker\": {\"colorbar\": {\"outlinewidth\": 0, \"ticks\": \"\"}}, \"type\": \"scattergeo\"}], \"scattergl\": [{\"marker\": {\"colorbar\": {\"outlinewidth\": 0, \"ticks\": \"\"}}, \"type\": \"scattergl\"}], \"scattermapbox\": [{\"marker\": {\"colorbar\": {\"outlinewidth\": 0, \"ticks\": \"\"}}, \"type\": \"scattermapbox\"}], \"scatterpolar\": [{\"marker\": {\"colorbar\": {\"outlinewidth\": 0, \"ticks\": \"\"}}, \"type\": \"scatterpolar\"}], \"scatterpolargl\": [{\"marker\": {\"colorbar\": {\"outlinewidth\": 0, \"ticks\": \"\"}}, \"type\": \"scatterpolargl\"}], \"scatterternary\": [{\"marker\": {\"colorbar\": {\"outlinewidth\": 0, \"ticks\": \"\"}}, \"type\": \"scatterternary\"}], \"surface\": [{\"colorbar\": {\"outlinewidth\": 0, \"ticks\": \"\"}, \"colorscale\": [[0.0, \"#0d0887\"], [0.1111111111111111, \"#46039f\"], [0.2222222222222222, \"#7201a8\"], [0.3333333333333333, \"#9c179e\"], [0.4444444444444444, \"#bd3786\"], [0.5555555555555556, \"#d8576b\"], [0.6666666666666666, \"#ed7953\"], [0.7777777777777778, \"#fb9f3a\"], [0.8888888888888888, \"#fdca26\"], [1.0, \"#f0f921\"]], \"type\": \"surface\"}], \"table\": [{\"cells\": {\"fill\": {\"color\": \"#EBF0F8\"}, \"line\": {\"color\": \"white\"}}, \"header\": {\"fill\": {\"color\": \"#C8D4E3\"}, \"line\": {\"color\": \"white\"}}, \"type\": \"table\"}]}, \"layout\": {\"annotationdefaults\": {\"arrowcolor\": \"#2a3f5f\", \"arrowhead\": 0, \"arrowwidth\": 1}, \"coloraxis\": {\"colorbar\": {\"outlinewidth\": 0, \"ticks\": \"\"}}, \"colorscale\": {\"diverging\": [[0, \"#8e0152\"], [0.1, \"#c51b7d\"], [0.2, \"#de77ae\"], [0.3, \"#f1b6da\"], [0.4, \"#fde0ef\"], [0.5, \"#f7f7f7\"], [0.6, \"#e6f5d0\"], [0.7, \"#b8e186\"], [0.8, \"#7fbc41\"], [0.9, \"#4d9221\"], [1, \"#276419\"]], \"sequential\": [[0.0, \"#0d0887\"], [0.1111111111111111, \"#46039f\"], [0.2222222222222222, \"#7201a8\"], [0.3333333333333333, \"#9c179e\"], [0.4444444444444444, \"#bd3786\"], [0.5555555555555556, \"#d8576b\"], [0.6666666666666666, \"#ed7953\"], [0.7777777777777778, \"#fb9f3a\"], [0.8888888888888888, \"#fdca26\"], [1.0, \"#f0f921\"]], \"sequentialminus\": [[0.0, \"#0d0887\"], [0.1111111111111111, \"#46039f\"], [0.2222222222222222, \"#7201a8\"], [0.3333333333333333, \"#9c179e\"], [0.4444444444444444, \"#bd3786\"], [0.5555555555555556, \"#d8576b\"], [0.6666666666666666, \"#ed7953\"], [0.7777777777777778, \"#fb9f3a\"], [0.8888888888888888, \"#fdca26\"], [1.0, \"#f0f921\"]]}, \"colorway\": [\"#636efa\", \"#EF553B\", \"#00cc96\", \"#ab63fa\", \"#FFA15A\", \"#19d3f3\", \"#FF6692\", \"#B6E880\", \"#FF97FF\", \"#FECB52\"], \"font\": {\"color\": \"#2a3f5f\"}, \"geo\": {\"bgcolor\": \"white\", \"lakecolor\": \"white\", \"landcolor\": \"#E5ECF6\", \"showlakes\": true, \"showland\": true, \"subunitcolor\": \"white\"}, \"hoverlabel\": {\"align\": \"left\"}, \"hovermode\": \"closest\", \"mapbox\": {\"style\": \"light\"}, \"paper_bgcolor\": \"white\", \"plot_bgcolor\": \"#E5ECF6\", \"polar\": {\"angularaxis\": {\"gridcolor\": \"white\", \"linecolor\": \"white\", \"ticks\": \"\"}, \"bgcolor\": \"#E5ECF6\", \"radialaxis\": {\"gridcolor\": \"white\", \"linecolor\": \"white\", \"ticks\": \"\"}}, \"scene\": {\"xaxis\": {\"backgroundcolor\": \"#E5ECF6\", \"gridcolor\": \"white\", \"gridwidth\": 2, \"linecolor\": \"white\", \"showbackground\": true, \"ticks\": \"\", \"zerolinecolor\": \"white\"}, \"yaxis\": {\"backgroundcolor\": \"#E5ECF6\", \"gridcolor\": \"white\", \"gridwidth\": 2, \"linecolor\": \"white\", \"showbackground\": true, \"ticks\": \"\", \"zerolinecolor\": \"white\"}, \"zaxis\": {\"backgroundcolor\": \"#E5ECF6\", \"gridcolor\": \"white\", \"gridwidth\": 2, \"linecolor\": \"white\", \"showbackground\": true, \"ticks\": \"\", \"zerolinecolor\": \"white\"}}, \"shapedefaults\": {\"line\": {\"color\": \"#2a3f5f\"}}, \"ternary\": {\"aaxis\": {\"gridcolor\": \"white\", \"linecolor\": \"white\", \"ticks\": \"\"}, \"baxis\": {\"gridcolor\": \"white\", \"linecolor\": \"white\", \"ticks\": \"\"}, \"bgcolor\": \"#E5ECF6\", \"caxis\": {\"gridcolor\": \"white\", \"linecolor\": \"white\", \"ticks\": \"\"}}, \"title\": {\"x\": 0.05}, \"xaxis\": {\"automargin\": true, \"gridcolor\": \"white\", \"linecolor\": \"white\", \"ticks\": \"\", \"title\": {\"standoff\": 15}, \"zerolinecolor\": \"white\", \"zerolinewidth\": 2}, \"yaxis\": {\"automargin\": true, \"gridcolor\": \"white\", \"linecolor\": \"white\", \"ticks\": \"\", \"title\": {\"standoff\": 15}, \"zerolinecolor\": \"white\", \"zerolinewidth\": 2}}}},                        {\"responsive\": true}                    ).then(function(){\n",
       "                            \n",
       "var gd = document.getElementById('92ed6402-1b85-496b-a378-2f01a963ffa3');\n",
       "var x = new MutationObserver(function (mutations, observer) {{\n",
       "        var display = window.getComputedStyle(gd).display;\n",
       "        if (!display || display === 'none') {{\n",
       "            console.log([gd, 'removed!']);\n",
       "            Plotly.purge(gd);\n",
       "            observer.disconnect();\n",
       "        }}\n",
       "}});\n",
       "\n",
       "// Listen for the removal of the full notebook cells\n",
       "var notebookContainer = gd.closest('#notebook-container');\n",
       "if (notebookContainer) {{\n",
       "    x.observe(notebookContainer, {childList: true});\n",
       "}}\n",
       "\n",
       "// Listen for the clearing of the current output cell\n",
       "var outputEl = gd.closest('.output');\n",
       "if (outputEl) {{\n",
       "    x.observe(outputEl, {childList: true});\n",
       "}}\n",
       "\n",
       "                        })                };                });            </script>        </div>"
      ]
     },
     "metadata": {},
     "output_type": "display_data"
    }
   ],
   "source": [
    "## Plot daily returns of PFG and AIG\n",
    "fig = go.Figure()\n",
    "fig.add_trace(go.Scatter(x=PFG.Date, y=PFG.DailyReturn,\n",
    "                    mode='lines',\n",
    "                    name='DailyReturn PFG'))\n",
    "fig.add_trace(go.Scatter(x=AIG.Date, y=AIG.DailyReturn,\n",
    "                    mode='lines',\n",
    "                    name='DailyReturn AIG'))\n",
    "\n",
    "\n"
   ]
  },
  {
   "cell_type": "markdown",
   "metadata": {},
   "source": [
    "## Machine Learning Section\n",
    "\n",
    "#### Maching learning exploration\n",
    "\n",
    "The goal of the first four sections is to load necessary modules and structure the data for correlation analysis. The purpose of the code is to look at correlations in the data with the categories from the nasdaq screener included. The lines join the data together, check the row count and also run the correlation"
   ]
  },
  {
   "cell_type": "code",
   "execution_count": 33,
   "metadata": {},
   "outputs": [],
   "source": [
    "# LSTM for Stock Market prediction\n",
    "import numpy\n",
    "import matplotlib.pyplot as plt\n",
    "import math\n",
    "from keras.models import Sequential\n",
    "from keras.layers import Dense\n",
    "from keras.layers import LSTM\n",
    "from sklearn.preprocessing import MinMaxScaler\n",
    "from sklearn.metrics import mean_squared_error"
   ]
  },
  {
   "cell_type": "code",
   "execution_count": 34,
   "metadata": {},
   "outputs": [
    {
     "data": {
      "text/html": [
       "<div>\n",
       "<style scoped>\n",
       "    .dataframe tbody tr th:only-of-type {\n",
       "        vertical-align: middle;\n",
       "    }\n",
       "\n",
       "    .dataframe tbody tr th {\n",
       "        vertical-align: top;\n",
       "    }\n",
       "\n",
       "    .dataframe thead th {\n",
       "        text-align: right;\n",
       "    }\n",
       "</style>\n",
       "<table border=\"1\" class=\"dataframe\">\n",
       "  <thead>\n",
       "    <tr style=\"text-align: right;\">\n",
       "      <th></th>\n",
       "      <th>count(1)</th>\n",
       "    </tr>\n",
       "  </thead>\n",
       "  <tbody>\n",
       "    <tr>\n",
       "      <th>0</th>\n",
       "      <td>451227</td>\n",
       "    </tr>\n",
       "  </tbody>\n",
       "</table>\n",
       "</div>"
      ],
      "text/plain": [
       "   count(1)\n",
       "0    451227"
      ]
     },
     "execution_count": 34,
     "metadata": {},
     "output_type": "execute_result"
    }
   ],
   "source": [
    "## read in the finance data to get mored descriptive attributes\n",
    "\n",
    "spark = SparkSession \\\n",
    "            .builder \\\n",
    "            .appName(\"Python Fin Data\") \\\n",
    "            .config(\"local\") \\\n",
    "            .getOrCreate()\n",
    "app =  spark.read.format(\"csv\").option(\"header\", \"true\").load('nasdaq_screener.csv')\n",
    "\n",
    "\n",
    "app.createOrReplaceTempView('nasdaq')\n",
    "\n",
    "row_count = spark.sql(\"Select count(*) from stocks \")\n",
    "\n",
    "row_count.toPandas().head()\n",
    "\n",
    "\n",
    "\n"
   ]
  },
  {
   "cell_type": "code",
   "execution_count": 35,
   "metadata": {},
   "outputs": [
    {
     "data": {
      "text/plain": [
       "DataFrame[Symbol: string, Name: string, Last Sale: string, Net Change: string, % Change: string, Market Cap: string, Country: string, IPO Year: string, Volume: string, Sector: string, Industry: string]"
      ]
     },
     "execution_count": 35,
     "metadata": {},
     "output_type": "execute_result"
    }
   ],
   "source": [
    "app"
   ]
  },
  {
   "cell_type": "code",
   "execution_count": 36,
   "metadata": {},
   "outputs": [
    {
     "data": {
      "text/html": [
       "<div>\n",
       "<style scoped>\n",
       "    .dataframe tbody tr th:only-of-type {\n",
       "        vertical-align: middle;\n",
       "    }\n",
       "\n",
       "    .dataframe tbody tr th {\n",
       "        vertical-align: top;\n",
       "    }\n",
       "\n",
       "    .dataframe thead th {\n",
       "        text-align: right;\n",
       "    }\n",
       "</style>\n",
       "<table border=\"1\" class=\"dataframe\">\n",
       "  <thead>\n",
       "    <tr style=\"text-align: right;\">\n",
       "      <th></th>\n",
       "      <th>count(1)</th>\n",
       "    </tr>\n",
       "  </thead>\n",
       "  <tbody>\n",
       "    <tr>\n",
       "      <th>0</th>\n",
       "      <td>451227</td>\n",
       "    </tr>\n",
       "  </tbody>\n",
       "</table>\n",
       "</div>"
      ],
      "text/plain": [
       "   count(1)\n",
       "0    451227"
      ]
     },
     "execution_count": 36,
     "metadata": {},
     "output_type": "execute_result"
    }
   ],
   "source": [
    "\n",
    "## join to screener data and check row count \n",
    "row_count_join = spark.sql(\"\"\"\n",
    "                            Select count(*) from\n",
    "\n",
    "                            (Select *\n",
    "                           from stocks s \n",
    "                           left join nasdaq n \n",
    "                           on s.Ticker = n.Symbol)\n",
    "                           \n",
    "                           \"\"\")\n",
    "row_count.toPandas().head()"
   ]
  },
  {
   "cell_type": "code",
   "execution_count": 37,
   "metadata": {},
   "outputs": [
    {
     "data": {
      "text/html": [
       "<div>\n",
       "<style scoped>\n",
       "    .dataframe tbody tr th:only-of-type {\n",
       "        vertical-align: middle;\n",
       "    }\n",
       "\n",
       "    .dataframe tbody tr th {\n",
       "        vertical-align: top;\n",
       "    }\n",
       "\n",
       "    .dataframe thead th {\n",
       "        text-align: right;\n",
       "    }\n",
       "</style>\n",
       "<table border=\"1\" class=\"dataframe\">\n",
       "  <thead>\n",
       "    <tr style=\"text-align: right;\">\n",
       "      <th></th>\n",
       "      <th>Date</th>\n",
       "      <th>Open</th>\n",
       "      <th>High</th>\n",
       "      <th>Low</th>\n",
       "      <th>Close</th>\n",
       "      <th>Adj Close</th>\n",
       "      <th>Volume</th>\n",
       "      <th>ticker</th>\n",
       "      <th>rolling_seven_day_average</th>\n",
       "      <th>rolling_20_day_average</th>\n",
       "      <th>Prev Close</th>\n",
       "      <th>Lead 5 Close</th>\n",
       "      <th>DailyReturn</th>\n",
       "      <th>stdev</th>\n",
       "      <th>Upper</th>\n",
       "      <th>Lower</th>\n",
       "      <th>Sector</th>\n",
       "      <th>Industry</th>\n",
       "    </tr>\n",
       "  </thead>\n",
       "  <tbody>\n",
       "    <tr>\n",
       "      <th>0</th>\n",
       "      <td>2020-07-02</td>\n",
       "      <td>50.060001373291016</td>\n",
       "      <td>70.80000305175781</td>\n",
       "      <td>49.02000045776367</td>\n",
       "      <td>69.41000366210938</td>\n",
       "      <td>69.41000366210938</td>\n",
       "      <td>18371900.0</td>\n",
       "      <td>LMND</td>\n",
       "      <td>69.410004</td>\n",
       "      <td>69.410004</td>\n",
       "      <td>None</td>\n",
       "      <td>None</td>\n",
       "      <td>NaN</td>\n",
       "      <td>0.000000</td>\n",
       "      <td>69.410004</td>\n",
       "      <td>69.410004</td>\n",
       "      <td>Finance</td>\n",
       "      <td>Property-Casualty Insurers</td>\n",
       "    </tr>\n",
       "    <tr>\n",
       "      <th>1</th>\n",
       "      <td>2020-07-06</td>\n",
       "      <td>73.39399719238281</td>\n",
       "      <td>96.51000213623047</td>\n",
       "      <td>73.11000061035156</td>\n",
       "      <td>81.19000244140625</td>\n",
       "      <td>81.19000244140625</td>\n",
       "      <td>13467900.0</td>\n",
       "      <td>LMND</td>\n",
       "      <td>75.300003</td>\n",
       "      <td>75.300003</td>\n",
       "      <td>69.41000366210938</td>\n",
       "      <td>None</td>\n",
       "      <td>0.145092</td>\n",
       "      <td>5.889999</td>\n",
       "      <td>87.080002</td>\n",
       "      <td>63.520004</td>\n",
       "      <td>Finance</td>\n",
       "      <td>Property-Casualty Insurers</td>\n",
       "    </tr>\n",
       "    <tr>\n",
       "      <th>2</th>\n",
       "      <td>2020-07-07</td>\n",
       "      <td>83.80000305175781</td>\n",
       "      <td>89.37999725341797</td>\n",
       "      <td>75.0</td>\n",
       "      <td>78.79000091552734</td>\n",
       "      <td>78.79000091552734</td>\n",
       "      <td>4602800.0</td>\n",
       "      <td>LMND</td>\n",
       "      <td>76.463336</td>\n",
       "      <td>76.463336</td>\n",
       "      <td>81.19000244140625</td>\n",
       "      <td>None</td>\n",
       "      <td>-0.030461</td>\n",
       "      <td>5.082789</td>\n",
       "      <td>86.628914</td>\n",
       "      <td>66.297757</td>\n",
       "      <td>Finance</td>\n",
       "      <td>Property-Casualty Insurers</td>\n",
       "    </tr>\n",
       "    <tr>\n",
       "      <th>3</th>\n",
       "      <td>2020-07-08</td>\n",
       "      <td>79.0</td>\n",
       "      <td>79.38999938964844</td>\n",
       "      <td>68.05999755859375</td>\n",
       "      <td>68.51000213623047</td>\n",
       "      <td>68.51000213623047</td>\n",
       "      <td>3499200.0</td>\n",
       "      <td>LMND</td>\n",
       "      <td>74.475002</td>\n",
       "      <td>74.475002</td>\n",
       "      <td>78.79000091552734</td>\n",
       "      <td>None</td>\n",
       "      <td>-0.150051</td>\n",
       "      <td>5.588960</td>\n",
       "      <td>85.652922</td>\n",
       "      <td>63.297083</td>\n",
       "      <td>Finance</td>\n",
       "      <td>Property-Casualty Insurers</td>\n",
       "    </tr>\n",
       "    <tr>\n",
       "      <th>4</th>\n",
       "      <td>2020-07-09</td>\n",
       "      <td>73.97000122070312</td>\n",
       "      <td>79.91000366210938</td>\n",
       "      <td>69.02999877929688</td>\n",
       "      <td>77.01000213623047</td>\n",
       "      <td>77.01000213623047</td>\n",
       "      <td>4178700.0</td>\n",
       "      <td>LMND</td>\n",
       "      <td>74.982002</td>\n",
       "      <td>74.982002</td>\n",
       "      <td>68.51000213623047</td>\n",
       "      <td>None</td>\n",
       "      <td>0.110375</td>\n",
       "      <td>5.100723</td>\n",
       "      <td>85.183448</td>\n",
       "      <td>64.780557</td>\n",
       "      <td>Finance</td>\n",
       "      <td>Property-Casualty Insurers</td>\n",
       "    </tr>\n",
       "  </tbody>\n",
       "</table>\n",
       "</div>"
      ],
      "text/plain": [
       "         Date                Open               High                Low  \\\n",
       "0  2020-07-02  50.060001373291016  70.80000305175781  49.02000045776367   \n",
       "1  2020-07-06   73.39399719238281  96.51000213623047  73.11000061035156   \n",
       "2  2020-07-07   83.80000305175781  89.37999725341797               75.0   \n",
       "3  2020-07-08                79.0  79.38999938964844  68.05999755859375   \n",
       "4  2020-07-09   73.97000122070312  79.91000366210938  69.02999877929688   \n",
       "\n",
       "               Close          Adj Close      Volume ticker  \\\n",
       "0  69.41000366210938  69.41000366210938  18371900.0   LMND   \n",
       "1  81.19000244140625  81.19000244140625  13467900.0   LMND   \n",
       "2  78.79000091552734  78.79000091552734   4602800.0   LMND   \n",
       "3  68.51000213623047  68.51000213623047   3499200.0   LMND   \n",
       "4  77.01000213623047  77.01000213623047   4178700.0   LMND   \n",
       "\n",
       "   rolling_seven_day_average  rolling_20_day_average         Prev Close  \\\n",
       "0                  69.410004               69.410004               None   \n",
       "1                  75.300003               75.300003  69.41000366210938   \n",
       "2                  76.463336               76.463336  81.19000244140625   \n",
       "3                  74.475002               74.475002  78.79000091552734   \n",
       "4                  74.982002               74.982002  68.51000213623047   \n",
       "\n",
       "  Lead 5 Close  DailyReturn     stdev      Upper      Lower   Sector  \\\n",
       "0         None          NaN  0.000000  69.410004  69.410004  Finance   \n",
       "1         None     0.145092  5.889999  87.080002  63.520004  Finance   \n",
       "2         None    -0.030461  5.082789  86.628914  66.297757  Finance   \n",
       "3         None    -0.150051  5.588960  85.652922  63.297083  Finance   \n",
       "4         None     0.110375  5.100723  85.183448  64.780557  Finance   \n",
       "\n",
       "                     Industry  \n",
       "0  Property-Casualty Insurers  \n",
       "1  Property-Casualty Insurers  \n",
       "2  Property-Casualty Insurers  \n",
       "3  Property-Casualty Insurers  \n",
       "4  Property-Casualty Insurers  "
      ]
     },
     "execution_count": 37,
     "metadata": {},
     "output_type": "execute_result"
    }
   ],
   "source": [
    "## get data for correlation\n",
    "data_lake = spark.sql(\"\"\"\n",
    "                           \n",
    "\n",
    "                            (Select stocks.* ,nasdaq.Sector, nasdaq.Industry\n",
    "                           from stocks\n",
    "                           left join nasdaq \n",
    "                           on Ticker = Symbol)\n",
    "                           \n",
    "                           \"\"\")\n",
    "data_lake.limit(10).toPandas().head()"
   ]
  },
  {
   "cell_type": "markdown",
   "metadata": {},
   "source": [
    "More data transformation is completed below in order to prep the data for machine learning in spark the data below indexes the categorical data into a string."
   ]
  },
  {
   "cell_type": "code",
   "execution_count": 39,
   "metadata": {},
   "outputs": [
    {
     "data": {
      "text/plain": [
       "Date                         float32\n",
       "Open                         float32\n",
       "High                         float32\n",
       "Low                          float32\n",
       "Close                        float32\n",
       "Adj Close                    float32\n",
       "Volume                       float32\n",
       "rolling_seven_day_average    float32\n",
       "rolling_20_day_average       float32\n",
       "Prev Close                   float32\n",
       "Lead 5 Close                 float32\n",
       "DailyReturn                  float32\n",
       "stdev                        float32\n",
       "Upper                        float32\n",
       "Lower                        float32\n",
       "ticker_vector                float32\n",
       "Sector_vector                float32\n",
       "Industry_Vector              float32\n",
       "dtype: object"
      ]
     },
     "execution_count": 39,
     "metadata": {},
     "output_type": "execute_result"
    }
   ],
   "source": [
    "## transform data into encoded data\n",
    "\n",
    "from pyspark.ml.feature import StringIndexer\n",
    "\n",
    "stringindex = StringIndexer(inputCols=[\"ticker\",\"Sector\", \"Industry\"], outputCols=[\"ticker_vector\",\"Sector_vector\", \"Industry_Vector\"])\n",
    "model = stringindex.fit(data_lake)\n",
    "encoded = model.transform(data_lake)\n",
    "clean_data_lake = encoded.drop('Industry', 'Sector', 'ticker')\n",
    "clean_data_lake = clean_data_lake.filter(clean_data_lake.DailyReturn. isNotNull())\n",
    "clean_data_lake = clean_data_lake.select(*(col(c).cast(\"float\").alias(c) for c in clean_data_lake.columns))\n",
    "df = clean_data_lake.toPandas()\n",
    "df.dtypes"
   ]
  },
  {
   "cell_type": "markdown",
   "metadata": {},
   "source": [
    "This show the Actual corrrelation of the data. all the technigal indicatiors are really highly coorelated with one another while the categorical and sector data is not correlated. Industry and sector data can be removed due to the predictive power"
   ]
  },
  {
   "cell_type": "code",
   "execution_count": 40,
   "metadata": {},
   "outputs": [
    {
     "data": {
      "text/html": [
       "<div>\n",
       "<style scoped>\n",
       "    .dataframe tbody tr th:only-of-type {\n",
       "        vertical-align: middle;\n",
       "    }\n",
       "\n",
       "    .dataframe tbody tr th {\n",
       "        vertical-align: top;\n",
       "    }\n",
       "\n",
       "    .dataframe thead th {\n",
       "        text-align: right;\n",
       "    }\n",
       "</style>\n",
       "<table border=\"1\" class=\"dataframe\">\n",
       "  <thead>\n",
       "    <tr style=\"text-align: right;\">\n",
       "      <th></th>\n",
       "      <th>Date</th>\n",
       "      <th>Open</th>\n",
       "      <th>High</th>\n",
       "      <th>Low</th>\n",
       "      <th>Close</th>\n",
       "      <th>Adj Close</th>\n",
       "      <th>Volume</th>\n",
       "      <th>rolling_seven_day_average</th>\n",
       "      <th>rolling_20_day_average</th>\n",
       "      <th>Prev Close</th>\n",
       "      <th>Lead 5 Close</th>\n",
       "      <th>DailyReturn</th>\n",
       "      <th>stdev</th>\n",
       "      <th>Upper</th>\n",
       "      <th>Lower</th>\n",
       "      <th>ticker_vector</th>\n",
       "      <th>Sector_vector</th>\n",
       "      <th>Industry_Vector</th>\n",
       "    </tr>\n",
       "  </thead>\n",
       "  <tbody>\n",
       "    <tr>\n",
       "      <th>Date</th>\n",
       "      <td>NaN</td>\n",
       "      <td>NaN</td>\n",
       "      <td>NaN</td>\n",
       "      <td>NaN</td>\n",
       "      <td>NaN</td>\n",
       "      <td>NaN</td>\n",
       "      <td>NaN</td>\n",
       "      <td>NaN</td>\n",
       "      <td>NaN</td>\n",
       "      <td>NaN</td>\n",
       "      <td>NaN</td>\n",
       "      <td>NaN</td>\n",
       "      <td>NaN</td>\n",
       "      <td>NaN</td>\n",
       "      <td>NaN</td>\n",
       "      <td>NaN</td>\n",
       "      <td>NaN</td>\n",
       "      <td>NaN</td>\n",
       "    </tr>\n",
       "    <tr>\n",
       "      <th>Open</th>\n",
       "      <td>NaN</td>\n",
       "      <td>1.000000</td>\n",
       "      <td>0.999917</td>\n",
       "      <td>0.999912</td>\n",
       "      <td>0.999859</td>\n",
       "      <td>0.998930</td>\n",
       "      <td>-0.084121</td>\n",
       "      <td>0.999688</td>\n",
       "      <td>0.998861</td>\n",
       "      <td>0.999942</td>\n",
       "      <td>0.999191</td>\n",
       "      <td>0.002815</td>\n",
       "      <td>0.661140</td>\n",
       "      <td>0.997306</td>\n",
       "      <td>0.998140</td>\n",
       "      <td>0.022138</td>\n",
       "      <td>NaN</td>\n",
       "      <td>-0.028296</td>\n",
       "    </tr>\n",
       "    <tr>\n",
       "      <th>High</th>\n",
       "      <td>NaN</td>\n",
       "      <td>0.999917</td>\n",
       "      <td>1.000000</td>\n",
       "      <td>0.999854</td>\n",
       "      <td>0.999919</td>\n",
       "      <td>0.999045</td>\n",
       "      <td>-0.084064</td>\n",
       "      <td>0.999661</td>\n",
       "      <td>0.998907</td>\n",
       "      <td>0.999867</td>\n",
       "      <td>0.999167</td>\n",
       "      <td>0.005951</td>\n",
       "      <td>0.664984</td>\n",
       "      <td>0.997588</td>\n",
       "      <td>0.997928</td>\n",
       "      <td>0.022436</td>\n",
       "      <td>NaN</td>\n",
       "      <td>-0.028205</td>\n",
       "    </tr>\n",
       "    <tr>\n",
       "      <th>Low</th>\n",
       "      <td>NaN</td>\n",
       "      <td>0.999912</td>\n",
       "      <td>0.999854</td>\n",
       "      <td>1.000000</td>\n",
       "      <td>0.999920</td>\n",
       "      <td>0.998947</td>\n",
       "      <td>-0.084194</td>\n",
       "      <td>0.999577</td>\n",
       "      <td>0.998674</td>\n",
       "      <td>0.999850</td>\n",
       "      <td>0.999038</td>\n",
       "      <td>0.006664</td>\n",
       "      <td>0.657156</td>\n",
       "      <td>0.996879</td>\n",
       "      <td>0.998214</td>\n",
       "      <td>0.021928</td>\n",
       "      <td>NaN</td>\n",
       "      <td>-0.028384</td>\n",
       "    </tr>\n",
       "    <tr>\n",
       "      <th>Close</th>\n",
       "      <td>NaN</td>\n",
       "      <td>0.999859</td>\n",
       "      <td>0.999919</td>\n",
       "      <td>0.999920</td>\n",
       "      <td>1.000000</td>\n",
       "      <td>0.999074</td>\n",
       "      <td>-0.084168</td>\n",
       "      <td>0.999592</td>\n",
       "      <td>0.998760</td>\n",
       "      <td>0.999797</td>\n",
       "      <td>0.999066</td>\n",
       "      <td>0.009841</td>\n",
       "      <td>0.661181</td>\n",
       "      <td>0.997211</td>\n",
       "      <td>0.998031</td>\n",
       "      <td>0.022179</td>\n",
       "      <td>NaN</td>\n",
       "      <td>-0.028286</td>\n",
       "    </tr>\n",
       "    <tr>\n",
       "      <th>Adj Close</th>\n",
       "      <td>NaN</td>\n",
       "      <td>0.998930</td>\n",
       "      <td>0.999045</td>\n",
       "      <td>0.998947</td>\n",
       "      <td>0.999074</td>\n",
       "      <td>1.000000</td>\n",
       "      <td>-0.082691</td>\n",
       "      <td>0.998663</td>\n",
       "      <td>0.997828</td>\n",
       "      <td>0.998870</td>\n",
       "      <td>0.998140</td>\n",
       "      <td>0.009622</td>\n",
       "      <td>0.664331</td>\n",
       "      <td>0.996514</td>\n",
       "      <td>0.996845</td>\n",
       "      <td>0.028401</td>\n",
       "      <td>NaN</td>\n",
       "      <td>-0.026224</td>\n",
       "    </tr>\n",
       "    <tr>\n",
       "      <th>Volume</th>\n",
       "      <td>NaN</td>\n",
       "      <td>-0.084121</td>\n",
       "      <td>-0.084064</td>\n",
       "      <td>-0.084194</td>\n",
       "      <td>-0.084168</td>\n",
       "      <td>-0.082691</td>\n",
       "      <td>1.000000</td>\n",
       "      <td>-0.083892</td>\n",
       "      <td>-0.083471</td>\n",
       "      <td>-0.084086</td>\n",
       "      <td>-0.083796</td>\n",
       "      <td>-0.012387</td>\n",
       "      <td>-0.052714</td>\n",
       "      <td>-0.083184</td>\n",
       "      <td>-0.083583</td>\n",
       "      <td>-0.071385</td>\n",
       "      <td>NaN</td>\n",
       "      <td>-0.096601</td>\n",
       "    </tr>\n",
       "    <tr>\n",
       "      <th>rolling_seven_day_average</th>\n",
       "      <td>NaN</td>\n",
       "      <td>0.999688</td>\n",
       "      <td>0.999661</td>\n",
       "      <td>0.999577</td>\n",
       "      <td>0.999592</td>\n",
       "      <td>0.998663</td>\n",
       "      <td>-0.083892</td>\n",
       "      <td>1.000000</td>\n",
       "      <td>0.999486</td>\n",
       "      <td>0.999727</td>\n",
       "      <td>0.999821</td>\n",
       "      <td>0.000835</td>\n",
       "      <td>0.663480</td>\n",
       "      <td>0.998049</td>\n",
       "      <td>0.998634</td>\n",
       "      <td>0.022013</td>\n",
       "      <td>NaN</td>\n",
       "      <td>-0.028450</td>\n",
       "    </tr>\n",
       "    <tr>\n",
       "      <th>rolling_20_day_average</th>\n",
       "      <td>NaN</td>\n",
       "      <td>0.998861</td>\n",
       "      <td>0.998907</td>\n",
       "      <td>0.998674</td>\n",
       "      <td>0.998760</td>\n",
       "      <td>0.997828</td>\n",
       "      <td>-0.083471</td>\n",
       "      <td>0.999486</td>\n",
       "      <td>1.000000</td>\n",
       "      <td>0.998931</td>\n",
       "      <td>0.999442</td>\n",
       "      <td>-0.000419</td>\n",
       "      <td>0.669884</td>\n",
       "      <td>0.998938</td>\n",
       "      <td>0.998737</td>\n",
       "      <td>0.021721</td>\n",
       "      <td>NaN</td>\n",
       "      <td>-0.028750</td>\n",
       "    </tr>\n",
       "    <tr>\n",
       "      <th>Prev Close</th>\n",
       "      <td>NaN</td>\n",
       "      <td>0.999942</td>\n",
       "      <td>0.999867</td>\n",
       "      <td>0.999850</td>\n",
       "      <td>0.999797</td>\n",
       "      <td>0.998870</td>\n",
       "      <td>-0.084086</td>\n",
       "      <td>0.999727</td>\n",
       "      <td>0.998931</td>\n",
       "      <td>1.000000</td>\n",
       "      <td>0.999237</td>\n",
       "      <td>-0.000714</td>\n",
       "      <td>0.661632</td>\n",
       "      <td>0.997403</td>\n",
       "      <td>0.998179</td>\n",
       "      <td>0.022131</td>\n",
       "      <td>NaN</td>\n",
       "      <td>-0.028331</td>\n",
       "    </tr>\n",
       "    <tr>\n",
       "      <th>Lead 5 Close</th>\n",
       "      <td>NaN</td>\n",
       "      <td>0.999191</td>\n",
       "      <td>0.999167</td>\n",
       "      <td>0.999038</td>\n",
       "      <td>0.999066</td>\n",
       "      <td>0.998140</td>\n",
       "      <td>-0.083796</td>\n",
       "      <td>0.999821</td>\n",
       "      <td>0.999442</td>\n",
       "      <td>0.999237</td>\n",
       "      <td>1.000000</td>\n",
       "      <td>-0.000100</td>\n",
       "      <td>0.664473</td>\n",
       "      <td>0.998054</td>\n",
       "      <td>0.998537</td>\n",
       "      <td>0.022231</td>\n",
       "      <td>NaN</td>\n",
       "      <td>-0.028392</td>\n",
       "    </tr>\n",
       "    <tr>\n",
       "      <th>DailyReturn</th>\n",
       "      <td>NaN</td>\n",
       "      <td>0.002815</td>\n",
       "      <td>0.005951</td>\n",
       "      <td>0.006664</td>\n",
       "      <td>0.009841</td>\n",
       "      <td>0.009622</td>\n",
       "      <td>-0.012387</td>\n",
       "      <td>0.000835</td>\n",
       "      <td>-0.000419</td>\n",
       "      <td>-0.000714</td>\n",
       "      <td>-0.000100</td>\n",
       "      <td>1.000000</td>\n",
       "      <td>-0.015440</td>\n",
       "      <td>-0.001359</td>\n",
       "      <td>0.000607</td>\n",
       "      <td>0.003939</td>\n",
       "      <td>NaN</td>\n",
       "      <td>0.003167</td>\n",
       "    </tr>\n",
       "    <tr>\n",
       "      <th>stdev</th>\n",
       "      <td>NaN</td>\n",
       "      <td>0.661140</td>\n",
       "      <td>0.664984</td>\n",
       "      <td>0.657156</td>\n",
       "      <td>0.661181</td>\n",
       "      <td>0.664331</td>\n",
       "      <td>-0.052714</td>\n",
       "      <td>0.663480</td>\n",
       "      <td>0.669884</td>\n",
       "      <td>0.661632</td>\n",
       "      <td>0.664473</td>\n",
       "      <td>-0.015440</td>\n",
       "      <td>1.000000</td>\n",
       "      <td>0.703379</td>\n",
       "      <td>0.631734</td>\n",
       "      <td>0.024864</td>\n",
       "      <td>NaN</td>\n",
       "      <td>-0.000629</td>\n",
       "    </tr>\n",
       "    <tr>\n",
       "      <th>Upper</th>\n",
       "      <td>NaN</td>\n",
       "      <td>0.997306</td>\n",
       "      <td>0.997588</td>\n",
       "      <td>0.996879</td>\n",
       "      <td>0.997211</td>\n",
       "      <td>0.996514</td>\n",
       "      <td>-0.083184</td>\n",
       "      <td>0.998049</td>\n",
       "      <td>0.998938</td>\n",
       "      <td>0.997403</td>\n",
       "      <td>0.998054</td>\n",
       "      <td>-0.001359</td>\n",
       "      <td>0.703379</td>\n",
       "      <td>1.000000</td>\n",
       "      <td>0.995362</td>\n",
       "      <td>0.022338</td>\n",
       "      <td>NaN</td>\n",
       "      <td>-0.027563</td>\n",
       "    </tr>\n",
       "    <tr>\n",
       "      <th>Lower</th>\n",
       "      <td>NaN</td>\n",
       "      <td>0.998140</td>\n",
       "      <td>0.997928</td>\n",
       "      <td>0.998214</td>\n",
       "      <td>0.998031</td>\n",
       "      <td>0.996845</td>\n",
       "      <td>-0.083583</td>\n",
       "      <td>0.998634</td>\n",
       "      <td>0.998737</td>\n",
       "      <td>0.998179</td>\n",
       "      <td>0.998537</td>\n",
       "      <td>0.000607</td>\n",
       "      <td>0.631734</td>\n",
       "      <td>0.995362</td>\n",
       "      <td>1.000000</td>\n",
       "      <td>0.020996</td>\n",
       "      <td>NaN</td>\n",
       "      <td>-0.029974</td>\n",
       "    </tr>\n",
       "    <tr>\n",
       "      <th>ticker_vector</th>\n",
       "      <td>NaN</td>\n",
       "      <td>0.022138</td>\n",
       "      <td>0.022436</td>\n",
       "      <td>0.021928</td>\n",
       "      <td>0.022179</td>\n",
       "      <td>0.028401</td>\n",
       "      <td>-0.071385</td>\n",
       "      <td>0.022013</td>\n",
       "      <td>0.021721</td>\n",
       "      <td>0.022131</td>\n",
       "      <td>0.022231</td>\n",
       "      <td>0.003939</td>\n",
       "      <td>0.024864</td>\n",
       "      <td>0.022338</td>\n",
       "      <td>0.020996</td>\n",
       "      <td>1.000000</td>\n",
       "      <td>NaN</td>\n",
       "      <td>0.015801</td>\n",
       "    </tr>\n",
       "    <tr>\n",
       "      <th>Sector_vector</th>\n",
       "      <td>NaN</td>\n",
       "      <td>NaN</td>\n",
       "      <td>NaN</td>\n",
       "      <td>NaN</td>\n",
       "      <td>NaN</td>\n",
       "      <td>NaN</td>\n",
       "      <td>NaN</td>\n",
       "      <td>NaN</td>\n",
       "      <td>NaN</td>\n",
       "      <td>NaN</td>\n",
       "      <td>NaN</td>\n",
       "      <td>NaN</td>\n",
       "      <td>NaN</td>\n",
       "      <td>NaN</td>\n",
       "      <td>NaN</td>\n",
       "      <td>NaN</td>\n",
       "      <td>NaN</td>\n",
       "      <td>NaN</td>\n",
       "    </tr>\n",
       "    <tr>\n",
       "      <th>Industry_Vector</th>\n",
       "      <td>NaN</td>\n",
       "      <td>-0.028296</td>\n",
       "      <td>-0.028205</td>\n",
       "      <td>-0.028384</td>\n",
       "      <td>-0.028286</td>\n",
       "      <td>-0.026224</td>\n",
       "      <td>-0.096601</td>\n",
       "      <td>-0.028450</td>\n",
       "      <td>-0.028750</td>\n",
       "      <td>-0.028331</td>\n",
       "      <td>-0.028392</td>\n",
       "      <td>0.003167</td>\n",
       "      <td>-0.000629</td>\n",
       "      <td>-0.027563</td>\n",
       "      <td>-0.029974</td>\n",
       "      <td>0.015801</td>\n",
       "      <td>NaN</td>\n",
       "      <td>1.000000</td>\n",
       "    </tr>\n",
       "  </tbody>\n",
       "</table>\n",
       "</div>"
      ],
      "text/plain": [
       "                           Date      Open      High       Low     Close  \\\n",
       "Date                        NaN       NaN       NaN       NaN       NaN   \n",
       "Open                        NaN  1.000000  0.999917  0.999912  0.999859   \n",
       "High                        NaN  0.999917  1.000000  0.999854  0.999919   \n",
       "Low                         NaN  0.999912  0.999854  1.000000  0.999920   \n",
       "Close                       NaN  0.999859  0.999919  0.999920  1.000000   \n",
       "Adj Close                   NaN  0.998930  0.999045  0.998947  0.999074   \n",
       "Volume                      NaN -0.084121 -0.084064 -0.084194 -0.084168   \n",
       "rolling_seven_day_average   NaN  0.999688  0.999661  0.999577  0.999592   \n",
       "rolling_20_day_average      NaN  0.998861  0.998907  0.998674  0.998760   \n",
       "Prev Close                  NaN  0.999942  0.999867  0.999850  0.999797   \n",
       "Lead 5 Close                NaN  0.999191  0.999167  0.999038  0.999066   \n",
       "DailyReturn                 NaN  0.002815  0.005951  0.006664  0.009841   \n",
       "stdev                       NaN  0.661140  0.664984  0.657156  0.661181   \n",
       "Upper                       NaN  0.997306  0.997588  0.996879  0.997211   \n",
       "Lower                       NaN  0.998140  0.997928  0.998214  0.998031   \n",
       "ticker_vector               NaN  0.022138  0.022436  0.021928  0.022179   \n",
       "Sector_vector               NaN       NaN       NaN       NaN       NaN   \n",
       "Industry_Vector             NaN -0.028296 -0.028205 -0.028384 -0.028286   \n",
       "\n",
       "                           Adj Close    Volume  rolling_seven_day_average  \\\n",
       "Date                             NaN       NaN                        NaN   \n",
       "Open                        0.998930 -0.084121                   0.999688   \n",
       "High                        0.999045 -0.084064                   0.999661   \n",
       "Low                         0.998947 -0.084194                   0.999577   \n",
       "Close                       0.999074 -0.084168                   0.999592   \n",
       "Adj Close                   1.000000 -0.082691                   0.998663   \n",
       "Volume                     -0.082691  1.000000                  -0.083892   \n",
       "rolling_seven_day_average   0.998663 -0.083892                   1.000000   \n",
       "rolling_20_day_average      0.997828 -0.083471                   0.999486   \n",
       "Prev Close                  0.998870 -0.084086                   0.999727   \n",
       "Lead 5 Close                0.998140 -0.083796                   0.999821   \n",
       "DailyReturn                 0.009622 -0.012387                   0.000835   \n",
       "stdev                       0.664331 -0.052714                   0.663480   \n",
       "Upper                       0.996514 -0.083184                   0.998049   \n",
       "Lower                       0.996845 -0.083583                   0.998634   \n",
       "ticker_vector               0.028401 -0.071385                   0.022013   \n",
       "Sector_vector                    NaN       NaN                        NaN   \n",
       "Industry_Vector            -0.026224 -0.096601                  -0.028450   \n",
       "\n",
       "                           rolling_20_day_average  Prev Close  Lead 5 Close  \\\n",
       "Date                                          NaN         NaN           NaN   \n",
       "Open                                     0.998861    0.999942      0.999191   \n",
       "High                                     0.998907    0.999867      0.999167   \n",
       "Low                                      0.998674    0.999850      0.999038   \n",
       "Close                                    0.998760    0.999797      0.999066   \n",
       "Adj Close                                0.997828    0.998870      0.998140   \n",
       "Volume                                  -0.083471   -0.084086     -0.083796   \n",
       "rolling_seven_day_average                0.999486    0.999727      0.999821   \n",
       "rolling_20_day_average                   1.000000    0.998931      0.999442   \n",
       "Prev Close                               0.998931    1.000000      0.999237   \n",
       "Lead 5 Close                             0.999442    0.999237      1.000000   \n",
       "DailyReturn                             -0.000419   -0.000714     -0.000100   \n",
       "stdev                                    0.669884    0.661632      0.664473   \n",
       "Upper                                    0.998938    0.997403      0.998054   \n",
       "Lower                                    0.998737    0.998179      0.998537   \n",
       "ticker_vector                            0.021721    0.022131      0.022231   \n",
       "Sector_vector                                 NaN         NaN           NaN   \n",
       "Industry_Vector                         -0.028750   -0.028331     -0.028392   \n",
       "\n",
       "                           DailyReturn     stdev     Upper     Lower  \\\n",
       "Date                               NaN       NaN       NaN       NaN   \n",
       "Open                          0.002815  0.661140  0.997306  0.998140   \n",
       "High                          0.005951  0.664984  0.997588  0.997928   \n",
       "Low                           0.006664  0.657156  0.996879  0.998214   \n",
       "Close                         0.009841  0.661181  0.997211  0.998031   \n",
       "Adj Close                     0.009622  0.664331  0.996514  0.996845   \n",
       "Volume                       -0.012387 -0.052714 -0.083184 -0.083583   \n",
       "rolling_seven_day_average     0.000835  0.663480  0.998049  0.998634   \n",
       "rolling_20_day_average       -0.000419  0.669884  0.998938  0.998737   \n",
       "Prev Close                   -0.000714  0.661632  0.997403  0.998179   \n",
       "Lead 5 Close                 -0.000100  0.664473  0.998054  0.998537   \n",
       "DailyReturn                   1.000000 -0.015440 -0.001359  0.000607   \n",
       "stdev                        -0.015440  1.000000  0.703379  0.631734   \n",
       "Upper                        -0.001359  0.703379  1.000000  0.995362   \n",
       "Lower                         0.000607  0.631734  0.995362  1.000000   \n",
       "ticker_vector                 0.003939  0.024864  0.022338  0.020996   \n",
       "Sector_vector                      NaN       NaN       NaN       NaN   \n",
       "Industry_Vector               0.003167 -0.000629 -0.027563 -0.029974   \n",
       "\n",
       "                           ticker_vector  Sector_vector  Industry_Vector  \n",
       "Date                                 NaN            NaN              NaN  \n",
       "Open                            0.022138            NaN        -0.028296  \n",
       "High                            0.022436            NaN        -0.028205  \n",
       "Low                             0.021928            NaN        -0.028384  \n",
       "Close                           0.022179            NaN        -0.028286  \n",
       "Adj Close                       0.028401            NaN        -0.026224  \n",
       "Volume                         -0.071385            NaN        -0.096601  \n",
       "rolling_seven_day_average       0.022013            NaN        -0.028450  \n",
       "rolling_20_day_average          0.021721            NaN        -0.028750  \n",
       "Prev Close                      0.022131            NaN        -0.028331  \n",
       "Lead 5 Close                    0.022231            NaN        -0.028392  \n",
       "DailyReturn                     0.003939            NaN         0.003167  \n",
       "stdev                           0.024864            NaN        -0.000629  \n",
       "Upper                           0.022338            NaN        -0.027563  \n",
       "Lower                           0.020996            NaN        -0.029974  \n",
       "ticker_vector                   1.000000            NaN         0.015801  \n",
       "Sector_vector                        NaN            NaN              NaN  \n",
       "Industry_Vector                 0.015801            NaN         1.000000  "
      ]
     },
     "execution_count": 40,
     "metadata": {},
     "output_type": "execute_result"
    }
   ],
   "source": [
    "# from pyspark.ml.stat import Correlation\n",
    "# from pyspark.conf import SparkConf\n",
    "## correlation of data\n",
    "df.corr()"
   ]
  },
  {
   "cell_type": "markdown",
   "metadata": {},
   "source": [
    "The code below attempts to run a predictive anaysis with a pyspark pipeline. The data is constructed in a way that a pipeline is made to transfprm the data and then use the GBT regressor to try and predict the data. "
   ]
  },
  {
   "cell_type": "code",
   "execution_count": 41,
   "metadata": {},
   "outputs": [
    {
     "ename": "TypeError",
     "evalue": "Invalid param value given for param \"inputCols\". Could not convert [['Open', 'High', 'Low', 'Volume', 'rolling_20_day_average', 'Upper', 'Lower']] to list of strings",
     "output_type": "error",
     "traceback": [
      "\u001b[0;31m---------------------------------------------------------------------------\u001b[0m",
      "\u001b[0;31mTypeError\u001b[0m                                 Traceback (most recent call last)",
      "\u001b[0;32m~/.conda/envs/Data_science_web/lib/python3.8/site-packages/pyspark/ml/param/__init__.py\u001b[0m in \u001b[0;36m_set\u001b[0;34m(self, **kwargs)\u001b[0m\n\u001b[1;32m    446\u001b[0m                 \u001b[0;32mtry\u001b[0m\u001b[0;34m:\u001b[0m\u001b[0;34m\u001b[0m\u001b[0;34m\u001b[0m\u001b[0m\n\u001b[0;32m--> 447\u001b[0;31m                     \u001b[0mvalue\u001b[0m \u001b[0;34m=\u001b[0m \u001b[0mp\u001b[0m\u001b[0;34m.\u001b[0m\u001b[0mtypeConverter\u001b[0m\u001b[0;34m(\u001b[0m\u001b[0mvalue\u001b[0m\u001b[0;34m)\u001b[0m\u001b[0;34m\u001b[0m\u001b[0;34m\u001b[0m\u001b[0m\n\u001b[0m\u001b[1;32m    448\u001b[0m                 \u001b[0;32mexcept\u001b[0m \u001b[0mTypeError\u001b[0m \u001b[0;32mas\u001b[0m \u001b[0me\u001b[0m\u001b[0;34m:\u001b[0m\u001b[0;34m\u001b[0m\u001b[0;34m\u001b[0m\u001b[0m\n",
      "\u001b[0;32m~/.conda/envs/Data_science_web/lib/python3.8/site-packages/pyspark/ml/param/__init__.py\u001b[0m in \u001b[0;36mtoListString\u001b[0;34m(value)\u001b[0m\n\u001b[1;32m    164\u001b[0m                 \u001b[0;32mreturn\u001b[0m \u001b[0;34m[\u001b[0m\u001b[0mTypeConverters\u001b[0m\u001b[0;34m.\u001b[0m\u001b[0mtoString\u001b[0m\u001b[0;34m(\u001b[0m\u001b[0mv\u001b[0m\u001b[0;34m)\u001b[0m \u001b[0;32mfor\u001b[0m \u001b[0mv\u001b[0m \u001b[0;32min\u001b[0m \u001b[0mvalue\u001b[0m\u001b[0;34m]\u001b[0m\u001b[0;34m\u001b[0m\u001b[0;34m\u001b[0m\u001b[0m\n\u001b[0;32m--> 165\u001b[0;31m         \u001b[0;32mraise\u001b[0m \u001b[0mTypeError\u001b[0m\u001b[0;34m(\u001b[0m\u001b[0;34m\"Could not convert %s to list of strings\"\u001b[0m \u001b[0;34m%\u001b[0m \u001b[0mvalue\u001b[0m\u001b[0;34m)\u001b[0m\u001b[0;34m\u001b[0m\u001b[0;34m\u001b[0m\u001b[0m\n\u001b[0m\u001b[1;32m    166\u001b[0m \u001b[0;34m\u001b[0m\u001b[0m\n",
      "\u001b[0;31mTypeError\u001b[0m: Could not convert [['Open', 'High', 'Low', 'Volume', 'rolling_20_day_average', 'Upper', 'Lower']] to list of strings",
      "\nDuring handling of the above exception, another exception occurred:\n",
      "\u001b[0;31mTypeError\u001b[0m                                 Traceback (most recent call last)",
      "\u001b[0;32m<ipython-input-41-c271651ce1ba>\u001b[0m in \u001b[0;36m<module>\u001b[0;34m\u001b[0m\n\u001b[1;32m     18\u001b[0m \u001b[0;31m#scaler_ticker = MinMaxScaler(inputCol=[\"ticker_vector\",\"Sector_vector\", \"Industry_Vector\",\"Open\", \"High\", \"Low\", \"Volume\",\"rolling_20_day_average\",\"Upper\", \"Lower\"], outputCol=[\"ticker_vector\",\"Sector_vector\", \"Industry_Vector\",\"Open\", \"High\", \"Low\", \"Volume\",\"rolling_20_day_average\", \"Upper\", \"Lower\"])\u001b[0m\u001b[0;34m\u001b[0m\u001b[0;34m\u001b[0m\u001b[0;34m\u001b[0m\u001b[0m\n\u001b[1;32m     19\u001b[0m \u001b[0mcolumns_to_scale\u001b[0m \u001b[0;34m=\u001b[0m \u001b[0;34m[\u001b[0m\u001b[0;34m\"Open\"\u001b[0m\u001b[0;34m,\u001b[0m \u001b[0;34m\"High\"\u001b[0m\u001b[0;34m,\u001b[0m \u001b[0;34m\"Low\"\u001b[0m\u001b[0;34m,\u001b[0m \u001b[0;34m\"Volume\"\u001b[0m\u001b[0;34m,\u001b[0m\u001b[0;34m\"rolling_20_day_average\"\u001b[0m\u001b[0;34m,\u001b[0m\u001b[0;34m\"Upper\"\u001b[0m\u001b[0;34m,\u001b[0m \u001b[0;34m\"Lower\"\u001b[0m\u001b[0;34m]\u001b[0m\u001b[0;34m\u001b[0m\u001b[0;34m\u001b[0m\u001b[0m\n\u001b[0;32m---> 20\u001b[0;31m \u001b[0massemblers\u001b[0m \u001b[0;34m=\u001b[0m \u001b[0;34m[\u001b[0m\u001b[0mVectorAssembler\u001b[0m\u001b[0;34m(\u001b[0m\u001b[0minputCols\u001b[0m\u001b[0;34m=\u001b[0m\u001b[0;34m[\u001b[0m\u001b[0mcolumns_to_scale\u001b[0m\u001b[0;34m]\u001b[0m\u001b[0;34m,\u001b[0m \u001b[0moutputCol\u001b[0m\u001b[0;34m=\u001b[0m\u001b[0mcol\u001b[0m \u001b[0;34m+\u001b[0m \u001b[0;34m\"_vec\"\u001b[0m\u001b[0;34m)\u001b[0m \u001b[0;32mfor\u001b[0m \u001b[0mcol\u001b[0m \u001b[0;32min\u001b[0m \u001b[0mcolumns_to_scale\u001b[0m\u001b[0;34m]\u001b[0m\u001b[0;34m\u001b[0m\u001b[0;34m\u001b[0m\u001b[0m\n\u001b[0m\u001b[1;32m     21\u001b[0m \u001b[0mscalers\u001b[0m \u001b[0;34m=\u001b[0m \u001b[0;34m[\u001b[0m\u001b[0mMinMaxScaler\u001b[0m\u001b[0;34m(\u001b[0m\u001b[0minputCol\u001b[0m\u001b[0;34m=\u001b[0m\u001b[0mcol\u001b[0m \u001b[0;34m+\u001b[0m \u001b[0;34m\"_vec\"\u001b[0m\u001b[0;34m,\u001b[0m \u001b[0moutputCol\u001b[0m\u001b[0;34m=\u001b[0m\u001b[0mcol\u001b[0m \u001b[0;34m+\u001b[0m \u001b[0;34m\"_scaled\"\u001b[0m\u001b[0;34m)\u001b[0m \u001b[0;32mfor\u001b[0m \u001b[0mcol\u001b[0m \u001b[0;32min\u001b[0m \u001b[0mcolumns_to_scale\u001b[0m\u001b[0;34m]\u001b[0m\u001b[0;34m\u001b[0m\u001b[0;34m\u001b[0m\u001b[0m\n\u001b[1;32m     22\u001b[0m \u001b[0mpipeline\u001b[0m \u001b[0;34m=\u001b[0m \u001b[0mPipeline\u001b[0m\u001b[0;34m(\u001b[0m\u001b[0mstages\u001b[0m\u001b[0;34m=\u001b[0m\u001b[0massemblers\u001b[0m \u001b[0;34m+\u001b[0m \u001b[0mscalers\u001b[0m\u001b[0;34m)\u001b[0m\u001b[0;34m\u001b[0m\u001b[0;34m\u001b[0m\u001b[0m\n",
      "\u001b[0;32m<ipython-input-41-c271651ce1ba>\u001b[0m in \u001b[0;36m<listcomp>\u001b[0;34m(.0)\u001b[0m\n\u001b[1;32m     18\u001b[0m \u001b[0;31m#scaler_ticker = MinMaxScaler(inputCol=[\"ticker_vector\",\"Sector_vector\", \"Industry_Vector\",\"Open\", \"High\", \"Low\", \"Volume\",\"rolling_20_day_average\",\"Upper\", \"Lower\"], outputCol=[\"ticker_vector\",\"Sector_vector\", \"Industry_Vector\",\"Open\", \"High\", \"Low\", \"Volume\",\"rolling_20_day_average\", \"Upper\", \"Lower\"])\u001b[0m\u001b[0;34m\u001b[0m\u001b[0;34m\u001b[0m\u001b[0;34m\u001b[0m\u001b[0m\n\u001b[1;32m     19\u001b[0m \u001b[0mcolumns_to_scale\u001b[0m \u001b[0;34m=\u001b[0m \u001b[0;34m[\u001b[0m\u001b[0;34m\"Open\"\u001b[0m\u001b[0;34m,\u001b[0m \u001b[0;34m\"High\"\u001b[0m\u001b[0;34m,\u001b[0m \u001b[0;34m\"Low\"\u001b[0m\u001b[0;34m,\u001b[0m \u001b[0;34m\"Volume\"\u001b[0m\u001b[0;34m,\u001b[0m\u001b[0;34m\"rolling_20_day_average\"\u001b[0m\u001b[0;34m,\u001b[0m\u001b[0;34m\"Upper\"\u001b[0m\u001b[0;34m,\u001b[0m \u001b[0;34m\"Lower\"\u001b[0m\u001b[0;34m]\u001b[0m\u001b[0;34m\u001b[0m\u001b[0;34m\u001b[0m\u001b[0m\n\u001b[0;32m---> 20\u001b[0;31m \u001b[0massemblers\u001b[0m \u001b[0;34m=\u001b[0m \u001b[0;34m[\u001b[0m\u001b[0mVectorAssembler\u001b[0m\u001b[0;34m(\u001b[0m\u001b[0minputCols\u001b[0m\u001b[0;34m=\u001b[0m\u001b[0;34m[\u001b[0m\u001b[0mcolumns_to_scale\u001b[0m\u001b[0;34m]\u001b[0m\u001b[0;34m,\u001b[0m \u001b[0moutputCol\u001b[0m\u001b[0;34m=\u001b[0m\u001b[0mcol\u001b[0m \u001b[0;34m+\u001b[0m \u001b[0;34m\"_vec\"\u001b[0m\u001b[0;34m)\u001b[0m \u001b[0;32mfor\u001b[0m \u001b[0mcol\u001b[0m \u001b[0;32min\u001b[0m \u001b[0mcolumns_to_scale\u001b[0m\u001b[0;34m]\u001b[0m\u001b[0;34m\u001b[0m\u001b[0;34m\u001b[0m\u001b[0m\n\u001b[0m\u001b[1;32m     21\u001b[0m \u001b[0mscalers\u001b[0m \u001b[0;34m=\u001b[0m \u001b[0;34m[\u001b[0m\u001b[0mMinMaxScaler\u001b[0m\u001b[0;34m(\u001b[0m\u001b[0minputCol\u001b[0m\u001b[0;34m=\u001b[0m\u001b[0mcol\u001b[0m \u001b[0;34m+\u001b[0m \u001b[0;34m\"_vec\"\u001b[0m\u001b[0;34m,\u001b[0m \u001b[0moutputCol\u001b[0m\u001b[0;34m=\u001b[0m\u001b[0mcol\u001b[0m \u001b[0;34m+\u001b[0m \u001b[0;34m\"_scaled\"\u001b[0m\u001b[0;34m)\u001b[0m \u001b[0;32mfor\u001b[0m \u001b[0mcol\u001b[0m \u001b[0;32min\u001b[0m \u001b[0mcolumns_to_scale\u001b[0m\u001b[0;34m]\u001b[0m\u001b[0;34m\u001b[0m\u001b[0;34m\u001b[0m\u001b[0m\n\u001b[1;32m     22\u001b[0m \u001b[0mpipeline\u001b[0m \u001b[0;34m=\u001b[0m \u001b[0mPipeline\u001b[0m\u001b[0;34m(\u001b[0m\u001b[0mstages\u001b[0m\u001b[0;34m=\u001b[0m\u001b[0massemblers\u001b[0m \u001b[0;34m+\u001b[0m \u001b[0mscalers\u001b[0m\u001b[0;34m)\u001b[0m\u001b[0;34m\u001b[0m\u001b[0;34m\u001b[0m\u001b[0m\n",
      "\u001b[0;32m~/.conda/envs/Data_science_web/lib/python3.8/site-packages/pyspark/__init__.py\u001b[0m in \u001b[0;36mwrapper\u001b[0;34m(self, *args, **kwargs)\u001b[0m\n\u001b[1;32m    108\u001b[0m             \u001b[0;32mraise\u001b[0m \u001b[0mTypeError\u001b[0m\u001b[0;34m(\u001b[0m\u001b[0;34m\"Method %s forces keyword arguments.\"\u001b[0m \u001b[0;34m%\u001b[0m \u001b[0mfunc\u001b[0m\u001b[0;34m.\u001b[0m\u001b[0m__name__\u001b[0m\u001b[0;34m)\u001b[0m\u001b[0;34m\u001b[0m\u001b[0;34m\u001b[0m\u001b[0m\n\u001b[1;32m    109\u001b[0m         \u001b[0mself\u001b[0m\u001b[0;34m.\u001b[0m\u001b[0m_input_kwargs\u001b[0m \u001b[0;34m=\u001b[0m \u001b[0mkwargs\u001b[0m\u001b[0;34m\u001b[0m\u001b[0;34m\u001b[0m\u001b[0m\n\u001b[0;32m--> 110\u001b[0;31m         \u001b[0;32mreturn\u001b[0m \u001b[0mfunc\u001b[0m\u001b[0;34m(\u001b[0m\u001b[0mself\u001b[0m\u001b[0;34m,\u001b[0m \u001b[0;34m**\u001b[0m\u001b[0mkwargs\u001b[0m\u001b[0;34m)\u001b[0m\u001b[0;34m\u001b[0m\u001b[0;34m\u001b[0m\u001b[0m\n\u001b[0m\u001b[1;32m    111\u001b[0m     \u001b[0;32mreturn\u001b[0m \u001b[0mwrapper\u001b[0m\u001b[0;34m\u001b[0m\u001b[0;34m\u001b[0m\u001b[0m\n\u001b[1;32m    112\u001b[0m \u001b[0;34m\u001b[0m\u001b[0m\n",
      "\u001b[0;32m~/.conda/envs/Data_science_web/lib/python3.8/site-packages/pyspark/ml/feature.py\u001b[0m in \u001b[0;36m__init__\u001b[0;34m(self, inputCols, outputCol, handleInvalid)\u001b[0m\n\u001b[1;32m   4121\u001b[0m         \u001b[0mself\u001b[0m\u001b[0;34m.\u001b[0m\u001b[0m_setDefault\u001b[0m\u001b[0;34m(\u001b[0m\u001b[0mhandleInvalid\u001b[0m\u001b[0;34m=\u001b[0m\u001b[0;34m\"error\"\u001b[0m\u001b[0;34m)\u001b[0m\u001b[0;34m\u001b[0m\u001b[0;34m\u001b[0m\u001b[0m\n\u001b[1;32m   4122\u001b[0m         \u001b[0mkwargs\u001b[0m \u001b[0;34m=\u001b[0m \u001b[0mself\u001b[0m\u001b[0;34m.\u001b[0m\u001b[0m_input_kwargs\u001b[0m\u001b[0;34m\u001b[0m\u001b[0;34m\u001b[0m\u001b[0m\n\u001b[0;32m-> 4123\u001b[0;31m         \u001b[0mself\u001b[0m\u001b[0;34m.\u001b[0m\u001b[0msetParams\u001b[0m\u001b[0;34m(\u001b[0m\u001b[0;34m**\u001b[0m\u001b[0mkwargs\u001b[0m\u001b[0;34m)\u001b[0m\u001b[0;34m\u001b[0m\u001b[0;34m\u001b[0m\u001b[0m\n\u001b[0m\u001b[1;32m   4124\u001b[0m \u001b[0;34m\u001b[0m\u001b[0m\n\u001b[1;32m   4125\u001b[0m     \u001b[0;34m@\u001b[0m\u001b[0mkeyword_only\u001b[0m\u001b[0;34m\u001b[0m\u001b[0;34m\u001b[0m\u001b[0m\n",
      "\u001b[0;32m~/.conda/envs/Data_science_web/lib/python3.8/site-packages/pyspark/__init__.py\u001b[0m in \u001b[0;36mwrapper\u001b[0;34m(self, *args, **kwargs)\u001b[0m\n\u001b[1;32m    108\u001b[0m             \u001b[0;32mraise\u001b[0m \u001b[0mTypeError\u001b[0m\u001b[0;34m(\u001b[0m\u001b[0;34m\"Method %s forces keyword arguments.\"\u001b[0m \u001b[0;34m%\u001b[0m \u001b[0mfunc\u001b[0m\u001b[0;34m.\u001b[0m\u001b[0m__name__\u001b[0m\u001b[0;34m)\u001b[0m\u001b[0;34m\u001b[0m\u001b[0;34m\u001b[0m\u001b[0m\n\u001b[1;32m    109\u001b[0m         \u001b[0mself\u001b[0m\u001b[0;34m.\u001b[0m\u001b[0m_input_kwargs\u001b[0m \u001b[0;34m=\u001b[0m \u001b[0mkwargs\u001b[0m\u001b[0;34m\u001b[0m\u001b[0;34m\u001b[0m\u001b[0m\n\u001b[0;32m--> 110\u001b[0;31m         \u001b[0;32mreturn\u001b[0m \u001b[0mfunc\u001b[0m\u001b[0;34m(\u001b[0m\u001b[0mself\u001b[0m\u001b[0;34m,\u001b[0m \u001b[0;34m**\u001b[0m\u001b[0mkwargs\u001b[0m\u001b[0;34m)\u001b[0m\u001b[0;34m\u001b[0m\u001b[0;34m\u001b[0m\u001b[0m\n\u001b[0m\u001b[1;32m    111\u001b[0m     \u001b[0;32mreturn\u001b[0m \u001b[0mwrapper\u001b[0m\u001b[0;34m\u001b[0m\u001b[0;34m\u001b[0m\u001b[0m\n\u001b[1;32m    112\u001b[0m \u001b[0;34m\u001b[0m\u001b[0m\n",
      "\u001b[0;32m~/.conda/envs/Data_science_web/lib/python3.8/site-packages/pyspark/ml/feature.py\u001b[0m in \u001b[0;36msetParams\u001b[0;34m(self, inputCols, outputCol, handleInvalid)\u001b[0m\n\u001b[1;32m   4131\u001b[0m         \"\"\"\n\u001b[1;32m   4132\u001b[0m         \u001b[0mkwargs\u001b[0m \u001b[0;34m=\u001b[0m \u001b[0mself\u001b[0m\u001b[0;34m.\u001b[0m\u001b[0m_input_kwargs\u001b[0m\u001b[0;34m\u001b[0m\u001b[0;34m\u001b[0m\u001b[0m\n\u001b[0;32m-> 4133\u001b[0;31m         \u001b[0;32mreturn\u001b[0m \u001b[0mself\u001b[0m\u001b[0;34m.\u001b[0m\u001b[0m_set\u001b[0m\u001b[0;34m(\u001b[0m\u001b[0;34m**\u001b[0m\u001b[0mkwargs\u001b[0m\u001b[0;34m)\u001b[0m\u001b[0;34m\u001b[0m\u001b[0;34m\u001b[0m\u001b[0m\n\u001b[0m\u001b[1;32m   4134\u001b[0m \u001b[0;34m\u001b[0m\u001b[0m\n\u001b[1;32m   4135\u001b[0m     \u001b[0;32mdef\u001b[0m \u001b[0msetInputCols\u001b[0m\u001b[0;34m(\u001b[0m\u001b[0mself\u001b[0m\u001b[0;34m,\u001b[0m \u001b[0mvalue\u001b[0m\u001b[0;34m)\u001b[0m\u001b[0;34m:\u001b[0m\u001b[0;34m\u001b[0m\u001b[0;34m\u001b[0m\u001b[0m\n",
      "\u001b[0;32m~/.conda/envs/Data_science_web/lib/python3.8/site-packages/pyspark/ml/param/__init__.py\u001b[0m in \u001b[0;36m_set\u001b[0;34m(self, **kwargs)\u001b[0m\n\u001b[1;32m    447\u001b[0m                     \u001b[0mvalue\u001b[0m \u001b[0;34m=\u001b[0m \u001b[0mp\u001b[0m\u001b[0;34m.\u001b[0m\u001b[0mtypeConverter\u001b[0m\u001b[0;34m(\u001b[0m\u001b[0mvalue\u001b[0m\u001b[0;34m)\u001b[0m\u001b[0;34m\u001b[0m\u001b[0;34m\u001b[0m\u001b[0m\n\u001b[1;32m    448\u001b[0m                 \u001b[0;32mexcept\u001b[0m \u001b[0mTypeError\u001b[0m \u001b[0;32mas\u001b[0m \u001b[0me\u001b[0m\u001b[0;34m:\u001b[0m\u001b[0;34m\u001b[0m\u001b[0;34m\u001b[0m\u001b[0m\n\u001b[0;32m--> 449\u001b[0;31m                     \u001b[0;32mraise\u001b[0m \u001b[0mTypeError\u001b[0m\u001b[0;34m(\u001b[0m\u001b[0;34m'Invalid param value given for param \"%s\". %s'\u001b[0m \u001b[0;34m%\u001b[0m \u001b[0;34m(\u001b[0m\u001b[0mp\u001b[0m\u001b[0;34m.\u001b[0m\u001b[0mname\u001b[0m\u001b[0;34m,\u001b[0m \u001b[0me\u001b[0m\u001b[0;34m)\u001b[0m\u001b[0;34m)\u001b[0m\u001b[0;34m\u001b[0m\u001b[0;34m\u001b[0m\u001b[0m\n\u001b[0m\u001b[1;32m    450\u001b[0m             \u001b[0mself\u001b[0m\u001b[0;34m.\u001b[0m\u001b[0m_paramMap\u001b[0m\u001b[0;34m[\u001b[0m\u001b[0mp\u001b[0m\u001b[0;34m]\u001b[0m \u001b[0;34m=\u001b[0m \u001b[0mvalue\u001b[0m\u001b[0;34m\u001b[0m\u001b[0;34m\u001b[0m\u001b[0m\n\u001b[1;32m    451\u001b[0m         \u001b[0;32mreturn\u001b[0m \u001b[0mself\u001b[0m\u001b[0;34m\u001b[0m\u001b[0;34m\u001b[0m\u001b[0m\n",
      "\u001b[0;31mTypeError\u001b[0m: Invalid param value given for param \"inputCols\". Could not convert [['Open', 'High', 'Low', 'Volume', 'rolling_20_day_average', 'Upper', 'Lower']] to list of strings"
     ]
    }
   ],
   "source": [
    "\n",
    "\n",
    "## Spark exploration (not used )\n",
    "from pyspark.ml.feature import MinMaxScaler, VectorAssembler\n",
    "from pyspark.ml import Pipeline\n",
    "\n",
    "pfg_data = spark.sql(\"\"\"\n",
    "                            (Select stocks.* ,nasdaq.Sector, nasdaq.Industry\n",
    "                           from stocks\n",
    "                           left join nasdaq \n",
    "                           on Ticker = Symbol\n",
    "                           where stocks.Ticker = 'PFG')\n",
    "                           \"\"\")\n",
    "pfg_data.dtypes\n",
    "stringindex = StringIndexer(inputCols=[\"ticker\",\"Sector\", \"Industry\"], outputCols=[\"ticker_vector\",\"Sector_vector\", \"Industry_Vector\"])\n",
    "model = stringindex.fit(pfg_data)\n",
    "encoded = model.transform(pfg_data)\n",
    "clean_data_lake = clean_data_lake.filter(clean_data_lake.DailyReturn. isNotNull())\n",
    "clean_data_lake = clean_data_lake.select(*(col(c).cast(\"float\").alias(c) for c in clean_data_lake.columns))\n",
    "#scaler_ticker = MinMaxScaler(inputCol=[\"ticker_vector\",\"Sector_vector\", \"Industry_Vector\",\"Open\", \"High\", \"Low\", \"Volume\",\"rolling_20_day_average\",\"Upper\", \"Lower\"], outputCol=[\"ticker_vector\",\"Sector_vector\", \"Industry_Vector\",\"Open\", \"High\", \"Low\", \"Volume\",\"rolling_20_day_average\", \"Upper\", \"Lower\"])\n",
    "columns_to_scale = [\"Open\", \"High\", \"Low\", \"Volume\",\"rolling_20_day_average\",\"Upper\", \"Lower\"]\n",
    "assemblers = [VectorAssembler(inputCols=[columns_to_scale], outputCol=col + \"_vec\") for col in columns_to_scale]\n",
    "scalers = [MinMaxScaler(inputCol=col + \"_vec\", outputCol=col + \"_scaled\") for col in columns_to_scale]\n",
    "pipeline = Pipeline(stages=assemblers + scalers)\n",
    "scalerModel = pipeline.fit(clean_data_lake)\n",
    "scaledData = scalerModel.transform(clean_data_lake)"
   ]
  },
  {
   "cell_type": "code",
   "execution_count": 38,
   "metadata": {},
   "outputs": [],
   "source": [
    "## test for time series split in SPark\n",
    "from sklearn.model_selection import TimeSeriesSplit\n",
    "splits = TimeSeriesSplit(n_splits=3)\n",
    "pfscaled = scaledData.toPandas()"
   ]
  },
  {
   "cell_type": "code",
   "execution_count": 39,
   "metadata": {},
   "outputs": [
    {
     "data": {
      "text/html": [
       "<div>\n",
       "<style scoped>\n",
       "    .dataframe tbody tr th:only-of-type {\n",
       "        vertical-align: middle;\n",
       "    }\n",
       "\n",
       "    .dataframe tbody tr th {\n",
       "        vertical-align: top;\n",
       "    }\n",
       "\n",
       "    .dataframe thead th {\n",
       "        text-align: right;\n",
       "    }\n",
       "</style>\n",
       "<table border=\"1\" class=\"dataframe\">\n",
       "  <thead>\n",
       "    <tr style=\"text-align: right;\">\n",
       "      <th></th>\n",
       "      <th>Open</th>\n",
       "      <th>High</th>\n",
       "      <th>Low</th>\n",
       "      <th>Close</th>\n",
       "      <th>Adj Close</th>\n",
       "      <th>Volume</th>\n",
       "      <th>rolling_seven_day_average</th>\n",
       "      <th>rolling_20_day_average</th>\n",
       "      <th>Prev Close</th>\n",
       "      <th>DailyReturn</th>\n",
       "      <th>stdev</th>\n",
       "      <th>Upper</th>\n",
       "      <th>Lower</th>\n",
       "      <th>Lead 5 Close</th>\n",
       "    </tr>\n",
       "    <tr>\n",
       "      <th>Date</th>\n",
       "      <th></th>\n",
       "      <th></th>\n",
       "      <th></th>\n",
       "      <th></th>\n",
       "      <th></th>\n",
       "      <th></th>\n",
       "      <th></th>\n",
       "      <th></th>\n",
       "      <th></th>\n",
       "      <th></th>\n",
       "      <th></th>\n",
       "      <th></th>\n",
       "      <th></th>\n",
       "      <th></th>\n",
       "    </tr>\n",
       "  </thead>\n",
       "  <tbody>\n",
       "    <tr>\n",
       "      <th>2014-01-09</th>\n",
       "      <td>49.470001220703125</td>\n",
       "      <td>49.83000183105469</td>\n",
       "      <td>49.189998626708984</td>\n",
       "      <td>49.790000915527344</td>\n",
       "      <td>38.884979248046875</td>\n",
       "      <td>1178300.0</td>\n",
       "      <td>49.091667</td>\n",
       "      <td>49.091667</td>\n",
       "      <td>49.130001068115234</td>\n",
       "      <td>0.013256</td>\n",
       "      <td>0.350782</td>\n",
       "      <td>49.793230</td>\n",
       "      <td>48.390103</td>\n",
       "      <td>48.619998931884766</td>\n",
       "    </tr>\n",
       "    <tr>\n",
       "      <th>2014-01-10</th>\n",
       "      <td>49.84000015258789</td>\n",
       "      <td>49.84000015258789</td>\n",
       "      <td>49.16999816894531</td>\n",
       "      <td>49.560001373291016</td>\n",
       "      <td>38.705360412597656</td>\n",
       "      <td>815300.0</td>\n",
       "      <td>49.158572</td>\n",
       "      <td>49.158572</td>\n",
       "      <td>49.790000915527344</td>\n",
       "      <td>-0.004641</td>\n",
       "      <td>0.363768</td>\n",
       "      <td>49.886107</td>\n",
       "      <td>48.431036</td>\n",
       "      <td>48.959999084472656</td>\n",
       "    </tr>\n",
       "    <tr>\n",
       "      <th>2014-01-13</th>\n",
       "      <td>49.0</td>\n",
       "      <td>49.29999923706055</td>\n",
       "      <td>47.63999938964844</td>\n",
       "      <td>47.720001220703125</td>\n",
       "      <td>37.268348693847656</td>\n",
       "      <td>1611100.0</td>\n",
       "      <td>48.978750</td>\n",
       "      <td>48.978750</td>\n",
       "      <td>49.560001373291016</td>\n",
       "      <td>-0.038558</td>\n",
       "      <td>0.584924</td>\n",
       "      <td>50.148598</td>\n",
       "      <td>47.808902</td>\n",
       "      <td>49.0099983215332</td>\n",
       "    </tr>\n",
       "    <tr>\n",
       "      <th>2014-01-14</th>\n",
       "      <td>47.83000183105469</td>\n",
       "      <td>48.349998474121094</td>\n",
       "      <td>47.63999938964844</td>\n",
       "      <td>48.349998474121094</td>\n",
       "      <td>37.76036834716797</td>\n",
       "      <td>1227700.0</td>\n",
       "      <td>48.945000</td>\n",
       "      <td>48.908889</td>\n",
       "      <td>47.720001220703125</td>\n",
       "      <td>0.013030</td>\n",
       "      <td>0.585804</td>\n",
       "      <td>50.080496</td>\n",
       "      <td>47.737282</td>\n",
       "      <td>49.040000915527344</td>\n",
       "    </tr>\n",
       "    <tr>\n",
       "      <th>2014-01-15</th>\n",
       "      <td>48.36000061035156</td>\n",
       "      <td>48.38999938964844</td>\n",
       "      <td>48.08000183105469</td>\n",
       "      <td>48.220001220703125</td>\n",
       "      <td>37.658851623535156</td>\n",
       "      <td>1988400.0</td>\n",
       "      <td>48.852500</td>\n",
       "      <td>48.840000</td>\n",
       "      <td>48.349998474121094</td>\n",
       "      <td>-0.002696</td>\n",
       "      <td>0.592925</td>\n",
       "      <td>50.025850</td>\n",
       "      <td>47.654150</td>\n",
       "      <td>49.130001068115234</td>\n",
       "    </tr>\n",
       "    <tr>\n",
       "      <th>2014-01-16</th>\n",
       "      <td>48.130001068115234</td>\n",
       "      <td>48.279998779296875</td>\n",
       "      <td>47.7599983215332</td>\n",
       "      <td>47.939998626708984</td>\n",
       "      <td>37.440162658691406</td>\n",
       "      <td>1145000.0</td>\n",
       "      <td>48.718750</td>\n",
       "      <td>48.758182</td>\n",
       "      <td>48.220001220703125</td>\n",
       "      <td>-0.005841</td>\n",
       "      <td>0.621725</td>\n",
       "      <td>50.001633</td>\n",
       "      <td>47.514731</td>\n",
       "      <td>49.790000915527344</td>\n",
       "    </tr>\n",
       "    <tr>\n",
       "      <th>2014-01-17</th>\n",
       "      <td>47.810001373291016</td>\n",
       "      <td>48.04999923706055</td>\n",
       "      <td>47.40999984741211</td>\n",
       "      <td>47.439998626708984</td>\n",
       "      <td>37.04967498779297</td>\n",
       "      <td>1380000.0</td>\n",
       "      <td>48.518750</td>\n",
       "      <td>48.648333</td>\n",
       "      <td>47.939998626708984</td>\n",
       "      <td>-0.010540</td>\n",
       "      <td>0.697900</td>\n",
       "      <td>50.044133</td>\n",
       "      <td>47.252533</td>\n",
       "      <td>49.560001373291016</td>\n",
       "    </tr>\n",
       "    <tr>\n",
       "      <th>2014-01-21</th>\n",
       "      <td>47.7400016784668</td>\n",
       "      <td>47.959999084472656</td>\n",
       "      <td>47.189998626708984</td>\n",
       "      <td>47.33000183105469</td>\n",
       "      <td>36.96377182006836</td>\n",
       "      <td>1465400.0</td>\n",
       "      <td>48.293750</td>\n",
       "      <td>48.546923</td>\n",
       "      <td>47.439998626708984</td>\n",
       "      <td>-0.002324</td>\n",
       "      <td>0.756972</td>\n",
       "      <td>50.060866</td>\n",
       "      <td>47.032980</td>\n",
       "      <td>47.720001220703125</td>\n",
       "    </tr>\n",
       "    <tr>\n",
       "      <th>2014-01-22</th>\n",
       "      <td>47.54999923706055</td>\n",
       "      <td>47.650001525878906</td>\n",
       "      <td>47.0099983215332</td>\n",
       "      <td>47.22999954223633</td>\n",
       "      <td>36.885677337646484</td>\n",
       "      <td>1315900.0</td>\n",
       "      <td>47.973750</td>\n",
       "      <td>48.452857</td>\n",
       "      <td>47.33000183105469</td>\n",
       "      <td>-0.002117</td>\n",
       "      <td>0.804429</td>\n",
       "      <td>50.061716</td>\n",
       "      <td>46.843999</td>\n",
       "      <td>48.349998474121094</td>\n",
       "    </tr>\n",
       "    <tr>\n",
       "      <th>2014-01-23</th>\n",
       "      <td>46.77000045776367</td>\n",
       "      <td>46.86000061035156</td>\n",
       "      <td>45.459999084472656</td>\n",
       "      <td>45.68000030517578</td>\n",
       "      <td>35.67515563964844</td>\n",
       "      <td>1641000.0</td>\n",
       "      <td>47.488750</td>\n",
       "      <td>48.268000</td>\n",
       "      <td>47.22999954223633</td>\n",
       "      <td>-0.033932</td>\n",
       "      <td>1.040373</td>\n",
       "      <td>50.348746</td>\n",
       "      <td>46.187254</td>\n",
       "      <td>48.220001220703125</td>\n",
       "    </tr>\n",
       "  </tbody>\n",
       "</table>\n",
       "</div>"
      ],
      "text/plain": [
       "                          Open                High                 Low  \\\n",
       "Date                                                                     \n",
       "2014-01-09  49.470001220703125   49.83000183105469  49.189998626708984   \n",
       "2014-01-10   49.84000015258789   49.84000015258789   49.16999816894531   \n",
       "2014-01-13                49.0   49.29999923706055   47.63999938964844   \n",
       "2014-01-14   47.83000183105469  48.349998474121094   47.63999938964844   \n",
       "2014-01-15   48.36000061035156   48.38999938964844   48.08000183105469   \n",
       "2014-01-16  48.130001068115234  48.279998779296875    47.7599983215332   \n",
       "2014-01-17  47.810001373291016   48.04999923706055   47.40999984741211   \n",
       "2014-01-21    47.7400016784668  47.959999084472656  47.189998626708984   \n",
       "2014-01-22   47.54999923706055  47.650001525878906    47.0099983215332   \n",
       "2014-01-23   46.77000045776367   46.86000061035156  45.459999084472656   \n",
       "\n",
       "                         Close           Adj Close     Volume  \\\n",
       "Date                                                            \n",
       "2014-01-09  49.790000915527344  38.884979248046875  1178300.0   \n",
       "2014-01-10  49.560001373291016  38.705360412597656   815300.0   \n",
       "2014-01-13  47.720001220703125  37.268348693847656  1611100.0   \n",
       "2014-01-14  48.349998474121094   37.76036834716797  1227700.0   \n",
       "2014-01-15  48.220001220703125  37.658851623535156  1988400.0   \n",
       "2014-01-16  47.939998626708984  37.440162658691406  1145000.0   \n",
       "2014-01-17  47.439998626708984   37.04967498779297  1380000.0   \n",
       "2014-01-21   47.33000183105469   36.96377182006836  1465400.0   \n",
       "2014-01-22   47.22999954223633  36.885677337646484  1315900.0   \n",
       "2014-01-23   45.68000030517578   35.67515563964844  1641000.0   \n",
       "\n",
       "            rolling_seven_day_average  rolling_20_day_average  \\\n",
       "Date                                                            \n",
       "2014-01-09                  49.091667               49.091667   \n",
       "2014-01-10                  49.158572               49.158572   \n",
       "2014-01-13                  48.978750               48.978750   \n",
       "2014-01-14                  48.945000               48.908889   \n",
       "2014-01-15                  48.852500               48.840000   \n",
       "2014-01-16                  48.718750               48.758182   \n",
       "2014-01-17                  48.518750               48.648333   \n",
       "2014-01-21                  48.293750               48.546923   \n",
       "2014-01-22                  47.973750               48.452857   \n",
       "2014-01-23                  47.488750               48.268000   \n",
       "\n",
       "                    Prev Close  DailyReturn     stdev      Upper      Lower  \\\n",
       "Date                                                                          \n",
       "2014-01-09  49.130001068115234     0.013256  0.350782  49.793230  48.390103   \n",
       "2014-01-10  49.790000915527344    -0.004641  0.363768  49.886107  48.431036   \n",
       "2014-01-13  49.560001373291016    -0.038558  0.584924  50.148598  47.808902   \n",
       "2014-01-14  47.720001220703125     0.013030  0.585804  50.080496  47.737282   \n",
       "2014-01-15  48.349998474121094    -0.002696  0.592925  50.025850  47.654150   \n",
       "2014-01-16  48.220001220703125    -0.005841  0.621725  50.001633  47.514731   \n",
       "2014-01-17  47.939998626708984    -0.010540  0.697900  50.044133  47.252533   \n",
       "2014-01-21  47.439998626708984    -0.002324  0.756972  50.060866  47.032980   \n",
       "2014-01-22   47.33000183105469    -0.002117  0.804429  50.061716  46.843999   \n",
       "2014-01-23   47.22999954223633    -0.033932  1.040373  50.348746  46.187254   \n",
       "\n",
       "                  Lead 5 Close  \n",
       "Date                            \n",
       "2014-01-09  48.619998931884766  \n",
       "2014-01-10  48.959999084472656  \n",
       "2014-01-13    49.0099983215332  \n",
       "2014-01-14  49.040000915527344  \n",
       "2014-01-15  49.130001068115234  \n",
       "2014-01-16  49.790000915527344  \n",
       "2014-01-17  49.560001373291016  \n",
       "2014-01-21  47.720001220703125  \n",
       "2014-01-22  48.349998474121094  \n",
       "2014-01-23  48.220001220703125  "
      ]
     },
     "execution_count": 39,
     "metadata": {},
     "output_type": "execute_result"
    }
   ],
   "source": [
    "## get the data needed for pandas\n",
    "pfg_data_final = spark.sql(\"\"\"\n",
    "                            (Select stocks.* ,nasdaq.Sector, nasdaq.Industry\n",
    "                           from stocks\n",
    "                           left join nasdaq \n",
    "                           on Ticker = Symbol\n",
    "                           where stocks.Ticker = 'PFG')\n",
    "                           \"\"\")\n",
    "pfg_pandas = pfg_data_final.toPandas()\n",
    "pfg_pandas = pfg_pandas.drop(['Sector', 'Industry', 'ticker'], axis = 1)\n",
    "pfg_pandas   = pfg_pandas.dropna()\n",
    "pfg_pandas = pfg_pandas.set_index('Date')\n",
    "pfg_lead = pfg_pandas.pop('Lead 5 Close') # remove column b and store it in df1\n",
    "pfg_pandas['Lead 5 Close']=pfg_lead # add b series as a 'new' column.\n",
    "\n",
    "pfg_pandas.head(10)"
   ]
  },
  {
   "cell_type": "code",
   "execution_count": 45,
   "metadata": {},
   "outputs": [],
   "source": [
    "## scaling the data\n",
    "\n",
    "from sklearn.preprocessing import MinMaxScaler\n",
    "from sklearn.preprocessing import LabelEncoder\n",
    "from math import sqrt\n",
    "\n",
    "# normalize the dataset\n",
    "values = pfg_pandas.values\n",
    "scaler = MinMaxScaler(feature_range=(0, 1))\n",
    "scaled_pfg = scaler.fit_transform(values)\n",
    "#dataset = scaler.fit_transform(pfg_pandas)"
   ]
  },
  {
   "cell_type": "code",
   "execution_count": 46,
   "metadata": {},
   "outputs": [
    {
     "name": "stdout",
     "output_type": "stream",
     "text": [
      "(1406, 1, 13) (1406,) (352, 1, 13) (352,)\n"
     ]
    }
   ],
   "source": [
    "## break data into train and test\n",
    "n_train_hours = int(len(pfg_pandas) * .8)\n",
    "train = scaled_pfg[:n_train_hours, :]\n",
    "test = scaled_pfg[n_train_hours:, :]\n",
    "# split into input and outputs\n",
    "train_X, train_y = train[:, :-1], train[:, -1]\n",
    "test_X, test_y = test[:, :-1], test[:, -1]\n",
    "# reshape input to be 3D [samples, timesteps, features]\n",
    "train_X = train_X.reshape((train_X.shape[0], 1, train_X.shape[1]))\n",
    "test_X = test_X.reshape((test_X.shape[0], 1, test_X.shape[1]))\n",
    "print(train_X.shape, train_y.shape, test_X.shape, test_y.shape)"
   ]
  },
  {
   "cell_type": "code",
   "execution_count": 47,
   "metadata": {},
   "outputs": [
    {
     "name": "stdout",
     "output_type": "stream",
     "text": [
      "Epoch 1/60\n",
      "10/10 - 1s - loss: 0.4495 - val_loss: 0.2479\n",
      "Epoch 2/60\n",
      "10/10 - 0s - loss: 0.2428 - val_loss: 0.0850\n",
      "Epoch 3/60\n",
      "10/10 - 0s - loss: 0.0529 - val_loss: 0.1000\n",
      "Epoch 4/60\n",
      "10/10 - 0s - loss: 0.0690 - val_loss: 0.0479\n",
      "Epoch 5/60\n",
      "10/10 - 0s - loss: 0.0477 - val_loss: 0.0430\n",
      "Epoch 6/60\n",
      "10/10 - 0s - loss: 0.0293 - val_loss: 0.0615\n",
      "Epoch 7/60\n",
      "10/10 - 0s - loss: 0.0327 - val_loss: 0.0391\n",
      "Epoch 8/60\n",
      "10/10 - 0s - loss: 0.0261 - val_loss: 0.0398\n",
      "Epoch 9/60\n",
      "10/10 - 0s - loss: 0.0230 - val_loss: 0.0362\n",
      "Epoch 10/60\n",
      "10/10 - 0s - loss: 0.0217 - val_loss: 0.0347\n",
      "Epoch 11/60\n",
      "10/10 - 0s - loss: 0.0198 - val_loss: 0.0326\n",
      "Epoch 12/60\n",
      "10/10 - 0s - loss: 0.0190 - val_loss: 0.0321\n",
      "Epoch 13/60\n",
      "10/10 - 0s - loss: 0.0184 - val_loss: 0.0307\n",
      "Epoch 14/60\n",
      "10/10 - 0s - loss: 0.0182 - val_loss: 0.0303\n",
      "Epoch 15/60\n",
      "10/10 - 0s - loss: 0.0182 - val_loss: 0.0301\n",
      "Epoch 16/60\n",
      "10/10 - 0s - loss: 0.0182 - val_loss: 0.0299\n",
      "Epoch 17/60\n",
      "10/10 - 0s - loss: 0.0182 - val_loss: 0.0299\n",
      "Epoch 18/60\n",
      "10/10 - 0s - loss: 0.0181 - val_loss: 0.0300\n",
      "Epoch 19/60\n",
      "10/10 - 0s - loss: 0.0179 - val_loss: 0.0298\n",
      "Epoch 20/60\n",
      "10/10 - 0s - loss: 0.0178 - val_loss: 0.0296\n",
      "Epoch 21/60\n",
      "10/10 - 0s - loss: 0.0178 - val_loss: 0.0295\n",
      "Epoch 22/60\n",
      "10/10 - 0s - loss: 0.0177 - val_loss: 0.0294\n",
      "Epoch 23/60\n",
      "10/10 - 0s - loss: 0.0177 - val_loss: 0.0293\n",
      "Epoch 24/60\n",
      "10/10 - 0s - loss: 0.0176 - val_loss: 0.0293\n",
      "Epoch 25/60\n",
      "10/10 - 0s - loss: 0.0175 - val_loss: 0.0291\n",
      "Epoch 26/60\n",
      "10/10 - 0s - loss: 0.0175 - val_loss: 0.0290\n",
      "Epoch 27/60\n",
      "10/10 - 0s - loss: 0.0174 - val_loss: 0.0289\n",
      "Epoch 28/60\n",
      "10/10 - 0s - loss: 0.0174 - val_loss: 0.0288\n",
      "Epoch 29/60\n",
      "10/10 - 0s - loss: 0.0174 - val_loss: 0.0288\n",
      "Epoch 30/60\n",
      "10/10 - 0s - loss: 0.0173 - val_loss: 0.0287\n",
      "Epoch 31/60\n",
      "10/10 - 0s - loss: 0.0172 - val_loss: 0.0287\n",
      "Epoch 32/60\n",
      "10/10 - 0s - loss: 0.0172 - val_loss: 0.0287\n",
      "Epoch 33/60\n",
      "10/10 - 0s - loss: 0.0171 - val_loss: 0.0285\n",
      "Epoch 34/60\n",
      "10/10 - 0s - loss: 0.0170 - val_loss: 0.0284\n",
      "Epoch 35/60\n",
      "10/10 - 0s - loss: 0.0176 - val_loss: 0.0291\n",
      "Epoch 36/60\n",
      "10/10 - 0s - loss: 0.0182 - val_loss: 0.0294\n",
      "Epoch 37/60\n",
      "10/10 - 0s - loss: 0.0176 - val_loss: 0.0284\n",
      "Epoch 38/60\n",
      "10/10 - 0s - loss: 0.0176 - val_loss: 0.0294\n",
      "Epoch 39/60\n",
      "10/10 - 0s - loss: 0.0182 - val_loss: 0.0299\n",
      "Epoch 40/60\n",
      "10/10 - 0s - loss: 0.0174 - val_loss: 0.0280\n",
      "Epoch 41/60\n",
      "10/10 - 0s - loss: 0.0174 - val_loss: 0.0290\n",
      "Epoch 42/60\n",
      "10/10 - 0s - loss: 0.0193 - val_loss: 0.0311\n",
      "Epoch 43/60\n",
      "10/10 - 0s - loss: 0.0190 - val_loss: 0.0287\n",
      "Epoch 44/60\n",
      "10/10 - 0s - loss: 0.0177 - val_loss: 0.0285\n",
      "Epoch 45/60\n",
      "10/10 - 0s - loss: 0.0189 - val_loss: 0.0313\n",
      "Epoch 46/60\n",
      "10/10 - 0s - loss: 0.0190 - val_loss: 0.0281\n",
      "Epoch 47/60\n",
      "10/10 - 0s - loss: 0.0171 - val_loss: 0.0283\n",
      "Epoch 48/60\n",
      "10/10 - 0s - loss: 0.0192 - val_loss: 0.0317\n",
      "Epoch 49/60\n",
      "10/10 - 0s - loss: 0.0198 - val_loss: 0.0291\n",
      "Epoch 50/60\n",
      "10/10 - 0s - loss: 0.0178 - val_loss: 0.0278\n",
      "Epoch 51/60\n",
      "10/10 - 0s - loss: 0.0184 - val_loss: 0.0305\n",
      "Epoch 52/60\n",
      "10/10 - 0s - loss: 0.0188 - val_loss: 0.0280\n",
      "Epoch 53/60\n",
      "10/10 - 0s - loss: 0.0167 - val_loss: 0.0275\n",
      "Epoch 54/60\n",
      "10/10 - 0s - loss: 0.0178 - val_loss: 0.0300\n",
      "Epoch 55/60\n",
      "10/10 - 0s - loss: 0.0189 - val_loss: 0.0293\n",
      "Epoch 56/60\n",
      "10/10 - 0s - loss: 0.0174 - val_loss: 0.0272\n",
      "Epoch 57/60\n",
      "10/10 - 0s - loss: 0.0172 - val_loss: 0.0285\n",
      "Epoch 58/60\n",
      "10/10 - 0s - loss: 0.0179 - val_loss: 0.0280\n",
      "Epoch 59/60\n",
      "10/10 - 0s - loss: 0.0167 - val_loss: 0.0272\n",
      "Epoch 60/60\n",
      "10/10 - 0s - loss: 0.0171 - val_loss: 0.0291\n"
     ]
    },
    {
     "data": {
      "image/png": "[encoded data removed]",
      "text/plain": [
       "<Figure size 432x288 with 1 Axes>"
      ]
     },
     "metadata": {
      "needs_background": "light"
     },
     "output_type": "display_data"
    }
   ],
   "source": [
    "## lstm model\n",
    "from matplotlib import pyplot\n",
    "model = Sequential()\n",
    "model.add(LSTM(60, input_shape=(train_X.shape[1], train_X.shape[2])))\n",
    "model.add(Dense(1))\n",
    "model.compile(loss='mae', optimizer='adam')\n",
    "# fit network\n",
    "history = model.fit(train_X, train_y, epochs=60, batch_size=150, validation_data=(test_X, test_y), verbose=2, shuffle=False)\n",
    "history\n",
    "\n",
    "#plot history\n",
    "pyplot.plot(history.history['loss'], label='train')\n",
    "pyplot.plot(history.history['val_loss'], label='test')\n",
    "pyplot.legend()\n",
    "pyplot.show()"
   ]
  },
  {
   "cell_type": "code",
   "execution_count": 48,
   "metadata": {},
   "outputs": [
    {
     "name": "stdout",
     "output_type": "stream",
     "text": [
      "Test RMSE: 0.039\n"
     ]
    }
   ],
   "source": [
    "## results of LSTM\n",
    "yhat = model.predict(test_X)\n",
    "rmse = sqrt(mean_squared_error(yhat, test_y))\n",
    "print('Test RMSE: %.3f' % rmse)\n"
   ]
  },
  {
   "cell_type": "code",
   "execution_count": null,
   "metadata": {},
   "outputs": [],
   "source": []
  }
 ],
 "metadata": {
  "kernelspec": {
   "display_name": "Python 3",
   "language": "python",
   "name": "python3"
  },
  "language_info": {
   "codemirror_mode": {
    "name": "ipython",
    "version": 3
   },
   "file_extension": ".py",
   "mimetype": "text/x-python",
   "name": "python",
   "nbconvert_exporter": "python",
   "pygments_lexer": "ipython3",
   "version": "3.8.5"
  }
 },
 "nbformat": 4,
 "nbformat_minor": 4
}
